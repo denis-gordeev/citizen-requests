{
 "cells": [
  {
   "cell_type": "code",
   "execution_count": 1,
   "outputs": [],
   "source": [
    "import pandas as pd\n",
    "from natasha import (\n",
    "    Segmenter,\n",
    "    MorphVocab,\n",
    "\n",
    "    NewsEmbedding,\n",
    "    NewsMorphTagger,\n",
    "    NewsSyntaxParser,\n",
    "    NewsNERTagger,\n",
    "\n",
    "    PER,\n",
    "    NamesExtractor,\n",
    "\n",
    "    Doc\n",
    ")\n"
   ],
   "metadata": {
    "collapsed": false,
    "ExecuteTime": {
     "end_time": "2023-11-25T04:37:54.847244100Z",
     "start_time": "2023-11-25T04:37:54.625853200Z"
    }
   },
   "id": "98bca2efb8b953b2"
  },
  {
   "cell_type": "code",
   "execution_count": 2,
   "outputs": [],
   "source": [
    "from ipymarkup import show_span_ascii_markup, show_dep_ascii_markup, show_span_box_markup"
   ],
   "metadata": {
    "collapsed": false,
    "ExecuteTime": {
     "end_time": "2023-11-25T04:37:55.748526Z",
     "start_time": "2023-11-25T04:37:55.730223100Z"
    }
   },
   "id": "5027bfccc770a062"
  },
  {
   "cell_type": "code",
   "execution_count": 3,
   "outputs": [],
   "source": [
    "segmenter = Segmenter()\n",
    "morph_vocab = MorphVocab()\n",
    "\n",
    "emb = NewsEmbedding()\n",
    "morph_tagger = NewsMorphTagger(emb)\n",
    "syntax_parser = NewsSyntaxParser(emb)\n",
    "ner_tagger = NewsNERTagger(emb)\n",
    "\n",
    "names_extractor = NamesExtractor(morph_vocab)\n",
    "\n",
    "text = 'Посол Израиля на Украине Йоэль Лион признался, что пришел в шок, узнав о решении властей Львовской области объявить 2019 год годом лидера запрещенной в России Организации украинских националистов (ОУН) Степана Бандеры. Свое заявление он разместил в Twitter. «Я не могу понять, как прославление тех, кто непосредственно принимал участие в ужасных антисемитских преступлениях, помогает бороться с антисемитизмом и ксенофобией. Украина не должна забывать о преступлениях, совершенных против украинских евреев, и никоим образом не отмечать их через почитание их исполнителей», — написал дипломат. 11 декабря Львовский областной совет принял решение провозгласить 2019 год в регионе годом Степана Бандеры в связи с празднованием 110-летия со дня рождения лидера ОУН (Бандера родился 1 января 1909 года). В июле аналогичное решение принял Житомирский областной совет. В начале месяца с предложением к президенту страны Петру Порошенко вернуть Бандере звание Героя Украины обратились депутаты Верховной Рады. Парламентарии уверены, что признание Бандеры национальным героем поможет в борьбе с подрывной деятельностью против Украины в информационном поле, а также остановит «распространение мифов, созданных российской пропагандой». Степан Бандера (1909-1959) был одним из лидеров Организации украинских националистов, выступающей за создание независимого государства на территориях с украиноязычным населением. В 2010 году в период президентства Виктора Ющенко Бандера был посмертно признан Героем Украины, однако впоследствии это решение было отменено судом. '\n",
    "doc = Doc(text)"
   ],
   "metadata": {
    "collapsed": false,
    "ExecuteTime": {
     "end_time": "2023-11-25T04:37:59.007976300Z",
     "start_time": "2023-11-25T04:37:58.026109600Z"
    }
   },
   "id": "8fc51147d4338410"
  },
  {
   "cell_type": "code",
   "execution_count": 3,
   "outputs": [],
   "source": [],
   "metadata": {
    "collapsed": false,
    "ExecuteTime": {
     "end_time": "2023-11-25T04:38:04.149634300Z",
     "start_time": "2023-11-25T04:38:04.145147800Z"
    }
   },
   "id": "9ba78e1015323b1a"
  },
  {
   "cell_type": "code",
   "execution_count": 4,
   "outputs": [
    {
     "name": "stdout",
     "output_type": "stream",
     "text": [
      "[DocToken(stop=5, text='Посол'), DocToken(start=6, stop=13, text='Израиля'), DocToken(start=14, stop=16, text='на'), DocToken(start=17, stop=24, text='Украине'), DocToken(start=25, stop=30, text='Йоэль')]\n",
      "[DocSent(stop=218, text='Посол Израиля на Украине Йоэль Лион признался, чт..., tokens=[...]), DocSent(start=219, stop=257, text='Свое заявление он разместил в Twitter.', tokens=[...]), DocSent(start=258, stop=424, text='«Я не могу понять, как прославление тех, кто непо..., tokens=[...]), DocSent(start=425, stop=592, text='Украина не должна забывать о преступлениях, совер..., tokens=[...]), DocSent(start=593, stop=798, text='11 декабря Львовский областной совет принял решен..., tokens=[...])]\n"
     ]
    }
   ],
   "source": [
    "doc.segment(segmenter)\n",
    "print(doc.tokens[:5])\n",
    "print(doc.sents[:5])"
   ],
   "metadata": {
    "collapsed": false,
    "ExecuteTime": {
     "end_time": "2023-11-25T04:38:04.545220300Z",
     "start_time": "2023-11-25T04:38:04.525067600Z"
    }
   },
   "id": "e14358a4c0c539cb"
  },
  {
   "cell_type": "code",
   "execution_count": 5,
   "outputs": [
    {
     "name": "stdout",
     "output_type": "stream",
     "text": [
      "[DocToken(stop=5, text='Посол', pos='NOUN', feats=<Anim,Nom,Masc,Sing>), DocToken(start=6, stop=13, text='Израиля', pos='PROPN', feats=<Inan,Gen,Masc,Sing>), DocToken(start=14, stop=16, text='на', pos='ADP'), DocToken(start=17, stop=24, text='Украине', pos='PROPN', feats=<Inan,Loc,Fem,Sing>), DocToken(start=25, stop=30, text='Йоэль', pos='PROPN', feats=<Anim,Nom,Masc,Sing>)]\n",
      "               Посол NOUN|Animacy=Anim|Case=Nom|Gender=Masc|Number=Sing\n",
      "             Израиля PROPN|Animacy=Inan|Case=Gen|Gender=Masc|Number=Sing\n",
      "                  на ADP\n",
      "             Украине PROPN|Animacy=Inan|Case=Loc|Gender=Fem|Number=Sing\n",
      "               Йоэль PROPN|Animacy=Anim|Case=Nom|Gender=Masc|Number=Sing\n",
      "                Лион PROPN|Animacy=Anim|Case=Nom|Gender=Masc|Number=Sing\n",
      "           признался VERB|Aspect=Perf|Gender=Masc|Mood=Ind|Number=Sing|Tense=Past|VerbForm=Fin|Voice=Mid\n",
      "                   , PUNCT\n",
      "                 что SCONJ\n",
      "              пришел VERB|Aspect=Perf|Gender=Masc|Mood=Ind|Number=Sing|Tense=Past|VerbForm=Fin|Voice=Act\n",
      "                   в ADP\n",
      "                 шок NOUN|Animacy=Inan|Case=Acc|Gender=Masc|Number=Sing\n",
      "                   , PUNCT\n",
      "               узнав VERB|Aspect=Perf|Tense=Past|VerbForm=Conv|Voice=Act\n",
      "                   о ADP\n",
      "             решении NOUN|Animacy=Inan|Case=Loc|Gender=Neut|Number=Sing\n",
      "             властей NOUN|Animacy=Inan|Case=Gen|Gender=Fem|Number=Plur\n",
      "           Львовской ADJ|Case=Gen|Degree=Pos|Gender=Fem|Number=Sing\n",
      "             области NOUN|Animacy=Inan|Case=Gen|Gender=Fem|Number=Sing\n",
      "            объявить VERB|Aspect=Perf|VerbForm=Inf|Voice=Act\n",
      "                2019 ADJ\n",
      "                 год NOUN|Animacy=Inan|Case=Acc|Gender=Masc|Number=Sing\n",
      "               годом NOUN|Animacy=Inan|Case=Ins|Gender=Masc|Number=Sing\n",
      "              лидера NOUN|Animacy=Anim|Case=Gen|Gender=Masc|Number=Sing\n",
      "         запрещенной VERB|Aspect=Perf|Case=Gen|Gender=Fem|Number=Sing|Tense=Past|VerbForm=Part|Voice=Pass\n",
      "                   в ADP\n",
      "              России PROPN|Animacy=Inan|Case=Loc|Gender=Fem|Number=Sing\n",
      "         Организации PROPN|Animacy=Inan|Case=Gen|Gender=Fem|Number=Sing\n",
      "          украинских ADJ|Case=Gen|Degree=Pos|Number=Plur\n",
      "       националистов NOUN|Animacy=Anim|Case=Gen|Gender=Masc|Number=Plur\n",
      "                   ( PUNCT\n",
      "                 ОУН PROPN|Animacy=Inan|Case=Nom|Gender=Fem|Number=Sing\n",
      "                   ) PUNCT\n",
      "             Степана PROPN|Animacy=Anim|Case=Gen|Gender=Masc|Number=Sing\n",
      "             Бандеры PROPN|Animacy=Anim|Case=Gen|Gender=Masc|Number=Sing\n",
      "                   . PUNCT\n"
     ]
    }
   ],
   "source": [
    "doc.tag_morph(morph_tagger)\n",
    "print(doc.tokens[:5])\n",
    "doc.sents[0].morph.print()"
   ],
   "metadata": {
    "collapsed": false,
    "ExecuteTime": {
     "end_time": "2023-11-25T04:38:05.516409600Z",
     "start_time": "2023-11-25T04:38:05.487812800Z"
    }
   },
   "id": "b868c81c03010565"
  },
  {
   "cell_type": "code",
   "execution_count": 6,
   "outputs": [
    {
     "name": "stdout",
     "output_type": "stream",
     "text": [
      "[DocSpan(start=6, stop=13, type='LOC', text='Израиля', tokens=[...]), DocSpan(start=17, stop=24, type='LOC', text='Украине', tokens=[...]), DocSpan(start=25, stop=35, type='PER', text='Йоэль Лион', tokens=[...]), DocSpan(start=89, stop=106, type='LOC', text='Львовской области', tokens=[...]), DocSpan(start=152, stop=158, type='LOC', text='России', tokens=[...])]\n",
      "Посол Израиля на Украине Йоэль Лион признался, что пришел в шок, узнав\n",
      "      LOC────    LOC──── PER───────                                   \n",
      " о решении властей Львовской области объявить 2019 год годом лидера \n",
      "                   LOC──────────────                                \n",
      "запрещенной в России Организации украинских националистов (ОУН) \n",
      "              LOC─── ORG─────────────────────────────────────── \n",
      "Степана Бандеры. Свое заявление он разместил в Twitter. «Я не могу \n",
      "PER────────────                                ORG────             \n",
      "понять, как прославление тех, кто непосредственно принимал участие в \n",
      "ужасных антисемитских преступлениях, помогает бороться с \n",
      "антисемитизмом и ксенофобией. Украина не должна забывать о \n",
      "                              LOC────                      \n",
      "преступлениях, совершенных против украинских евреев, и никоим образом \n",
      "не отмечать их через почитание их исполнителей», — написал дипломат. \n",
      "11 декабря Львовский областной совет принял решение провозгласить 2019\n",
      "           ORG──────────────────────                                  \n",
      " год в регионе годом Степана Бандеры в связи с празднованием 110-летия\n",
      "                     PER────────────                                  \n",
      " со дня рождения лидера ОУН (Бандера родился 1 января 1909 года). В \n",
      "                        ORG                                         \n",
      "июле аналогичное решение принял Житомирский областной совет. В начале \n",
      "                                ORG────────────────────────           \n",
      "месяца с предложением к президенту страны Петру Порошенко вернуть \n",
      "                                          PER────────────         \n",
      "Бандере звание Героя Украины обратились депутаты Верховной Рады. \n",
      "PER────              LOC────                     ORG───────────  \n",
      "Парламентарии уверены, что признание Бандеры национальным героем \n",
      "                                     PER────                     \n",
      "поможет в борьбе с подрывной деятельностью против Украины в \n",
      "                                                  LOC────   \n",
      "информационном поле, а также остановит «распространение мифов, \n",
      "созданных российской пропагандой». Степан Бандера (1909-1959) был \n",
      "                                   PER───────────                 \n",
      "одним из лидеров Организации украинских националистов, выступающей за \n",
      "                 ORG─────────────────────────────────                 \n",
      "создание независимого государства на территориях с украиноязычным \n",
      "населением. В 2010 году в период президентства Виктора Ющенко Бандера \n",
      "                                               PER─────────── PER──── \n",
      "был посмертно признан Героем Украины, однако впоследствии это решение \n",
      "                             LOC────                                  \n",
      "было отменено судом. \n"
     ]
    }
   ],
   "source": [
    "doc.tag_ner(ner_tagger)\n",
    "print(doc.spans[:5])\n",
    "doc.ner.print()"
   ],
   "metadata": {
    "collapsed": false,
    "ExecuteTime": {
     "end_time": "2023-11-25T04:38:06.757286Z",
     "start_time": "2023-11-25T04:38:06.681262Z"
    }
   },
   "id": "a5f5c6ecb960d5d"
  },
  {
   "cell_type": "code",
   "execution_count": 7,
   "outputs": [
    {
     "data": {
      "text/plain": "DocSpan(start=6, stop=13, type='LOC', text='Израиля', tokens=[...])"
     },
     "execution_count": 7,
     "metadata": {},
     "output_type": "execute_result"
    }
   ],
   "source": [
    "doc.spans[0]"
   ],
   "metadata": {
    "collapsed": false,
    "ExecuteTime": {
     "end_time": "2023-11-25T04:38:08.229045900Z",
     "start_time": "2023-11-25T04:38:08.211683900Z"
    }
   },
   "id": "f27c589da69c5ceb"
  },
  {
   "cell_type": "code",
   "execution_count": 8,
   "outputs": [],
   "source": [
    "text2 = 'Председателю Думы города Нефтеюганска, заместителю председателя Думы города Нефтеюганска,                                                            депутату Думы города Нефтеюганска                                                                      по поручению жильцов дома № 1                                              Иванов Иван Иванович                                                          Адрес:   628300, г. Нефтеюганск                                                                       ул. Киевская, дом 1, кв. 1                                                                    Телефон: +70000000000Обращение (предложение, заявление, жалоба) '"
   ],
   "metadata": {
    "collapsed": false,
    "ExecuteTime": {
     "end_time": "2023-11-25T04:38:09.886528500Z",
     "start_time": "2023-11-25T04:38:09.871414400Z"
    }
   },
   "id": "55e68637137ef40e"
  },
  {
   "cell_type": "code",
   "execution_count": 9,
   "outputs": [
    {
     "name": "stdout",
     "output_type": "stream",
     "text": [
      "Председателю Думы города Нефтеюганска, заместителю председателя Думы \n",
      "ORG──────────────        LOC─────────                           ORG─ \n",
      "города Нефтеюганска,\n",
      "       LOC───────── \n",
      "                                                            депутату \n",
      "Думы города Нефтеюганска\n",
      "ORG─        LOC─────────\n",
      "                                                                      \n",
      "по поручению жильцов дома № 1\n",
      "                                              Иванов Иван Иванович\n",
      "                                              PER─────────────────\n",
      "                                                          Адрес:   \n",
      "───────────────────────────────────────────────────────────────    \n",
      "628300, г. Нефтеюганск                                                \n",
      "           LOC────────────────────────────────────────────────────────\n",
      "                       ул. Киевская, дом 1, кв. 1\n",
      "─────────────────────────                        \n",
      "                                                                    \n",
      "Телефон: +70000000000Обращение (предложение, заявление, жалоба) \n"
     ]
    }
   ],
   "source": [
    "doc= Doc(text2)\n",
    "doc.segment(segmenter)\n",
    "doc.tag_ner(ner_tagger)\n",
    "doc.ner.print()"
   ],
   "metadata": {
    "collapsed": false,
    "ExecuteTime": {
     "end_time": "2023-11-25T04:38:10.599054900Z",
     "start_time": "2023-11-25T04:38:10.556737300Z"
    }
   },
   "id": "472f1dadfa0c8388"
  },
  {
   "cell_type": "code",
   "execution_count": 10,
   "outputs": [
    {
     "data": {
      "text/plain": "<IPython.core.display.HTML object>",
      "text/html": "<div class=\"tex2jax_ignore\" style=\"white-space: pre-wrap\"><span style=\"padding: 2px; border-radius: 4px; border: 1px solid #bbdefb; background: #e3f2fd\">Председателю Думы<span style=\"vertical-align: middle; margin-left: 2px; font-size: 0.7em; color: #64b5f6;\">ORG</span></span> города <span style=\"padding: 2px; border-radius: 4px; border: 1px solid #c8e6c9; background: #e8f5e9\">Нефтеюганска<span style=\"vertical-align: middle; margin-left: 2px; font-size: 0.7em; color: #66bb6a;\">LOC</span></span>, заместителю председателя <span style=\"padding: 2px; border-radius: 4px; border: 1px solid #bbdefb; background: #e3f2fd\">Думы<span style=\"vertical-align: middle; margin-left: 2px; font-size: 0.7em; color: #64b5f6;\">ORG</span></span> города <span style=\"padding: 2px; border-radius: 4px; border: 1px solid #c8e6c9; background: #e8f5e9\">Нефтеюганска<span style=\"vertical-align: middle; margin-left: 2px; font-size: 0.7em; color: #66bb6a;\">LOC</span></span>,                                                            депутату <span style=\"padding: 2px; border-radius: 4px; border: 1px solid #bbdefb; background: #e3f2fd\">Думы<span style=\"vertical-align: middle; margin-left: 2px; font-size: 0.7em; color: #64b5f6;\">ORG</span></span> города <span style=\"padding: 2px; border-radius: 4px; border: 1px solid #c8e6c9; background: #e8f5e9\">Нефтеюганска<span style=\"vertical-align: middle; margin-left: 2px; font-size: 0.7em; color: #66bb6a;\">LOC</span></span>                                                                      по поручению жильцов дома № 1                                              <span style=\"padding: 2px; border-radius: 4px; border: 1px solid #ffcdd2; background: #ffebee\">Иванов Иван Иванович                                                          Адрес<span style=\"vertical-align: middle; margin-left: 2px; font-size: 0.7em; color: #e57373;\">PER</span></span>:   628300, г. <span style=\"padding: 2px; border-radius: 4px; border: 1px solid #c8e6c9; background: #e8f5e9\">Нефтеюганск                                                                       ул<span style=\"vertical-align: middle; margin-left: 2px; font-size: 0.7em; color: #66bb6a;\">LOC</span></span>. Киевская, дом 1, кв. 1                                                                    Телефон: +70000000000Обращение (предложение, заявление, жалоба) </div>"
     },
     "metadata": {},
     "output_type": "display_data"
    }
   ],
   "source": [
    "show_span_box_markup(doc.text, doc.spans)"
   ],
   "metadata": {
    "collapsed": false,
    "ExecuteTime": {
     "end_time": "2023-11-25T04:38:11.677471Z",
     "start_time": "2023-11-25T04:38:11.661208500Z"
    }
   },
   "id": "a23d05d70c172878"
  },
  {
   "cell_type": "code",
   "execution_count": 11,
   "outputs": [
    {
     "name": "stdout",
     "output_type": "stream",
     "text": [
      "DocSpan(stop=17, type='ORG', text='Председателю Думы', tokens=[...])\n",
      "   DocToken(stop=12, text='Председателю')\n",
      "   DocToken(start=13, stop=17, text='Думы')\n",
      "DocSpan(start=25, stop=37, type='LOC', text='Нефтеюганска', tokens=[...])\n",
      "   DocToken(start=25, stop=37, text='Нефтеюганска')\n",
      "DocSpan(start=64, stop=68, type='ORG', text='Думы', tokens=[...])\n",
      "   DocToken(start=64, stop=68, text='Думы')\n",
      "DocSpan(start=76, stop=88, type='LOC', text='Нефтеюганска', tokens=[...])\n",
      "   DocToken(start=76, stop=88, text='Нефтеюганска')\n",
      "DocSpan(start=158, stop=162, type='ORG', text='Думы', tokens=[...])\n",
      "   DocToken(start=158, stop=162, text='Думы')\n",
      "DocSpan(start=170, stop=182, type='LOC', text='Нефтеюганска', tokens=[...])\n",
      "   DocToken(start=170, stop=182, text='Нефтеюганска')\n",
      "DocSpan(start=327, stop=410, type='PER', text='Иванов Иван Иванович                             ..., tokens=[...])\n",
      "   DocToken(start=327, stop=333, text='Иванов')\n",
      "   DocToken(start=334, stop=338, text='Иван')\n",
      "   DocToken(start=339, stop=347, text='Иванович')\n",
      "   DocToken(start=405, stop=410, text='Адрес')\n",
      "DocSpan(start=425, stop=509, type='LOC', text='Нефтеюганск                                      ..., tokens=[...])\n",
      "   DocToken(start=425, stop=436, text='Нефтеюганск')\n",
      "   DocToken(start=507, stop=509, text='ул')\n"
     ]
    }
   ],
   "source": [
    "for span in doc.spans:\n",
    "    print(span)\n",
    "    for token in span.tokens:\n",
    "        print('  ',token)"
   ],
   "metadata": {
    "collapsed": false,
    "ExecuteTime": {
     "end_time": "2023-11-25T04:38:13.581350600Z",
     "start_time": "2023-11-25T04:38:13.563263700Z"
    }
   },
   "id": "754f69c0e974d0a9"
  },
  {
   "cell_type": "code",
   "execution_count": 12,
   "outputs": [],
   "source": [
    "text3='Савеловскому межрайонному прокурору г. Москвы Минькову Д. Д. 25284, г. Москва. Хорошёвское шоссе, дом 16, корп. 1 Заявитель: Шулипа Юрий Юрьевич ЗАЯВЛЕНИЕ о возбуждении дела об административном правонарушении в отношении должностного лица, по факту парушения установленного законодательством Российской Федерации порядка рассмотрения обращения гражданина В соответствии со ст. 33 Конституции РФ 10 июля 2012 года, заявитель обратился с письменным обращением по компетенции к начальнику Отдела ОУФМС России в САО по г. Москве Бородину А. Д. (копия обращения прилагается). В силу ч. 1 ст. 9 Федерального закона от 2 мая 2006 г. № 59-ФЗ «О порядке рассмотрения обращений граждан Российской Федерации»; обращение, поступившее в государственный орган, орган местного самоуправления или должностному лицу в соответствии с их компетенцией, подлежит обязательному Согласно п. 1. ч. 1 ст. 10 Федерального закона от 2 мая 2006 г. № 59-ФЗ «О порядке рассмотрению. рассмотрения обращений граждан Российской Федерации» государственный орган, орган местного самоуправления или должностное лицо: обеспечивает объективное, всестороннее и своевременное рассмотрение обращения в случае необходимости с участием гражданина, направившего обращение. Исходя из положения ст. 12 Федерального закона от 2 мая 2006 г. № 59-ФЗ «О порядке рассмотрения обращений граждан Российской Федерации»: письменное обращение, поступившее в государственный орган, орган местного самоуправления или должностному лицу в соответствии с их компетенцией, рассматривается в течение 30 дней со дня регистрации письменного обращения. Со дня регистрации письменного обращения заявителя от 10 июля 2012 года и до настоящего времени прошло более 30 дней. В нарушение ст. 12 Федерального закона от 2 мая 2006 г. № 59-ФЗ «О порядке рассмотрения обращений граждан Российской Федерации», письменный мотивированный ответ на вышеуказанное обращение заявителя за подписью начальника Отдела ОУФМС России в САО по г. Москве Бородина А. Д.. заявителю не был направлен. Кроме парушений вышеуказанных норм действующего законодательства РФ, незаконным бездействием начальника Отдела ОУФМС России в САО по г. Москве Бородина А. Д., грубо нарушены неотъемлемые федеральным законом, конституционные права заявителя, закрепленные в статьях 3 (части 1), 17, 18, 24, 33, 55 (части 3) Конституции РФ. Между тем, согласно ст. 5.59 КоАП РФ нарушение установленного законодательством Российской Федерации порядка рассмотрения обращений граждан должностными лицами государственных органов и органов местного самоуправления, за исключением случаев, предусмотренных статьями 5.39, 5.63 настоящего Кодекса, влечет наложение административного штрафа в размере от пяти тысяч до десяти тысяч рублей. Не представление письменного мотивированного ответа на вышеуказанное обращение заявителя за подписью начальника Отдела ОУФМС России в САО по г.1'"
   ],
   "metadata": {
    "collapsed": false,
    "ExecuteTime": {
     "end_time": "2023-11-25T04:38:14.925055900Z",
     "start_time": "2023-11-25T04:38:14.911564Z"
    }
   },
   "id": "74fbc3416e61d8d0"
  },
  {
   "cell_type": "code",
   "execution_count": 13,
   "outputs": [
    {
     "name": "stdout",
     "output_type": "stream",
     "text": [
      "Савеловскому межрайонному прокурору г. Москвы Минькову Д. Д. 25284, г.\n",
      "ORG────────────────────────────────    LOC─── PER──────────           \n",
      " Москва. Хорошёвское шоссе, дом 16, корп. 1 Заявитель: Шулипа Юрий \n",
      " LOC───  LOC──────────────                             PER─────────\n",
      "Юрьевич ЗАЯВЛЕНИЕ о возбуждении дела об административном \n",
      "─────── ORG──────                                        \n",
      "правонарушении в отношении должностного лица, по факту парушения \n",
      "установленного законодательством Российской Федерации порядка \n",
      "                                 LOC─────────────────         \n",
      "рассмотрения обращения гражданина В соответствии со ст. 33 Конституции\n",
      "                                  L                                   \n",
      " РФ 10 июля 2012 года, заявитель обратился с письменным обращением по \n",
      " LO                                                                   \n",
      "компетенции к начальнику Отдела ОУФМС России в САО по г. Москве \n",
      "                         ORG───────── LOC───   LOC       LOC─── \n",
      "Бородину А. Д. (копия обращения прилагается). В силу ч. 1 ст. 9 \n",
      "PER───────────                                                  \n",
      "Федерального закона от 2 мая 2006 г. № 59-ФЗ «О порядке рассмотрения \n",
      "обращений граждан Российской Федерации»; обращение, поступившее в \n",
      "                  LOC─────────────────                            \n",
      "государственный орган, орган местного самоуправления или должностному \n",
      "лицу в соответствии с их компетенцией, подлежит обязательному Согласно\n",
      " п. 1. ч. 1 ст. 10 Федерального закона от 2 мая 2006 г. № 59-ФЗ «О \n",
      "порядке рассмотрению. рассмотрения обращений граждан Российской \n",
      "                                                     LOC────────\n",
      "Федерации» государственный орган, орган местного самоуправления или \n",
      "─────────                                                           \n",
      "должностное лицо: обеспечивает объективное, всестороннее и \n",
      "своевременное рассмотрение обращения в случае необходимости с участием\n",
      " гражданина, направившего обращение. Исходя из положения ст. 12 \n",
      "Федерального закона от 2 мая 2006 г. № 59-ФЗ «О порядке рассмотрения \n",
      "обращений граждан Российской Федерации»: письменное обращение, \n",
      "                  LOC─────────────────                         \n",
      "поступившее в государственный орган, орган местного самоуправления или\n",
      " должностному лицу в соответствии с их компетенцией, рассматривается в\n",
      " течение 30 дней со дня регистрации письменного обращения. Со дня \n",
      "регистрации письменного обращения заявителя от 10 июля 2012 года и до \n",
      "настоящего времени прошло более 30 дней. В нарушение ст. 12 \n",
      "Федерального закона от 2 мая 2006 г. № 59-ФЗ «О порядке рассмотрения \n",
      "обращений граждан Российской Федерации», письменный мотивированный \n",
      "                  LOC─────────────────                             \n",
      "ответ на вышеуказанное обращение заявителя за подписью начальника \n",
      "Отдела ОУФМС России в САО по г. Москве Бородина А. Д.. заявителю не \n",
      "ORG───────── LOC───   LOC       LOC─── PER────────────              \n",
      "был направлен. Кроме парушений вышеуказанных норм действующего \n",
      "законодательства РФ, незаконным бездействием начальника Отдела ОУФМС \n",
      "                 LO                                     ORG───────── \n",
      "России в САО по г. Москве Бородина А. Д., грубо нарушены неотъемлемые \n",
      "LOC───   LOC       LOC─── PER───────────                              \n",
      "федеральным законом, конституционные права заявителя, закрепленные в \n",
      "статьях 3 (части 1), 17, 18, 24, 33, 55 (части 3) Конституции РФ. \n",
      "                                                              LO  \n",
      "Между тем, согласно ст. 5.59 КоАП РФ нарушение установленного \n",
      "                                  LO                          \n",
      "законодательством Российской Федерации порядка рассмотрения обращений \n",
      "                  LOC─────────────────                                \n",
      "граждан должностными лицами государственных органов и органов местного\n",
      " самоуправления, за исключением случаев, предусмотренных статьями \n",
      "5.39, 5.63 настоящего Кодекса, влечет наложение административного \n",
      "штрафа в размере от пяти тысяч до десяти тысяч рублей. Не \n",
      "представление письменного мотивированного ответа на вышеуказанное \n",
      "обращение заявителя за подписью начальника Отдела ОУФМС России в САО \n",
      "                                           ORG───────── LOC───   LOC \n",
      "по г.1\n"
     ]
    }
   ],
   "source": [
    "doc = Doc(text3)\n",
    "doc.segment(segmenter)\n",
    "doc.tag_ner(ner_tagger)\n",
    "doc.ner.print()"
   ],
   "metadata": {
    "collapsed": false,
    "ExecuteTime": {
     "end_time": "2023-11-25T04:38:15.691101200Z",
     "start_time": "2023-11-25T04:38:15.654704500Z"
    }
   },
   "id": "24438cc39aae1f15"
  },
  {
   "cell_type": "code",
   "execution_count": 14,
   "outputs": [
    {
     "data": {
      "text/plain": "<IPython.core.display.HTML object>",
      "text/html": "<div class=\"tex2jax_ignore\" style=\"white-space: pre-wrap\"><span style=\"padding: 2px; border-radius: 4px; border: 1px solid #bbdefb; background: #e3f2fd\">Савеловскому межрайонному прокурору<span style=\"vertical-align: middle; margin-left: 2px; font-size: 0.7em; color: #64b5f6;\">ORG</span></span> г. <span style=\"padding: 2px; border-radius: 4px; border: 1px solid #c8e6c9; background: #e8f5e9\">Москвы<span style=\"vertical-align: middle; margin-left: 2px; font-size: 0.7em; color: #66bb6a;\">LOC</span></span> <span style=\"padding: 2px; border-radius: 4px; border: 1px solid #ffcdd2; background: #ffebee\">Минькову Д. Д<span style=\"vertical-align: middle; margin-left: 2px; font-size: 0.7em; color: #e57373;\">PER</span></span>. 25284, г. <span style=\"padding: 2px; border-radius: 4px; border: 1px solid #c8e6c9; background: #e8f5e9\">Москва<span style=\"vertical-align: middle; margin-left: 2px; font-size: 0.7em; color: #66bb6a;\">LOC</span></span>. <span style=\"padding: 2px; border-radius: 4px; border: 1px solid #c8e6c9; background: #e8f5e9\">Хорошёвское шоссе<span style=\"vertical-align: middle; margin-left: 2px; font-size: 0.7em; color: #66bb6a;\">LOC</span></span>, дом 16, корп. 1 Заявитель: <span style=\"padding: 2px; border-radius: 4px; border: 1px solid #ffcdd2; background: #ffebee\">Шулипа Юрий Юрьевич<span style=\"vertical-align: middle; margin-left: 2px; font-size: 0.7em; color: #e57373;\">PER</span></span> <span style=\"padding: 2px; border-radius: 4px; border: 1px solid #bbdefb; background: #e3f2fd\">ЗАЯВЛЕНИЕ<span style=\"vertical-align: middle; margin-left: 2px; font-size: 0.7em; color: #64b5f6;\">ORG</span></span> о возбуждении дела об административном правонарушении в отношении должностного лица, по факту парушения установленного законодательством <span style=\"padding: 2px; border-radius: 4px; border: 1px solid #c8e6c9; background: #e8f5e9\">Российской Федерации<span style=\"vertical-align: middle; margin-left: 2px; font-size: 0.7em; color: #66bb6a;\">LOC</span></span> порядка рассмотрения обращения гражданина <span style=\"padding: 2px; border-radius: 4px; border: 1px solid #c8e6c9; background: #e8f5e9\">В<span style=\"vertical-align: middle; margin-left: 2px; font-size: 0.7em; color: #66bb6a;\">LOC</span></span> соответствии со ст. 33 Конституции <span style=\"padding: 2px; border-radius: 4px; border: 1px solid #c8e6c9; background: #e8f5e9\">РФ<span style=\"vertical-align: middle; margin-left: 2px; font-size: 0.7em; color: #66bb6a;\">LOC</span></span> 10 июля 2012 года, заявитель обратился с письменным обращением по компетенции к начальнику <span style=\"padding: 2px; border-radius: 4px; border: 1px solid #bbdefb; background: #e3f2fd\">Отдела ОУФМС<span style=\"vertical-align: middle; margin-left: 2px; font-size: 0.7em; color: #64b5f6;\">ORG</span></span> <span style=\"padding: 2px; border-radius: 4px; border: 1px solid #c8e6c9; background: #e8f5e9\">России<span style=\"vertical-align: middle; margin-left: 2px; font-size: 0.7em; color: #66bb6a;\">LOC</span></span> в <span style=\"padding: 2px; border-radius: 4px; border: 1px solid #c8e6c9; background: #e8f5e9\">САО<span style=\"vertical-align: middle; margin-left: 2px; font-size: 0.7em; color: #66bb6a;\">LOC</span></span> по г. <span style=\"padding: 2px; border-radius: 4px; border: 1px solid #c8e6c9; background: #e8f5e9\">Москве<span style=\"vertical-align: middle; margin-left: 2px; font-size: 0.7em; color: #66bb6a;\">LOC</span></span> <span style=\"padding: 2px; border-radius: 4px; border: 1px solid #ffcdd2; background: #ffebee\">Бородину А. Д.<span style=\"vertical-align: middle; margin-left: 2px; font-size: 0.7em; color: #e57373;\">PER</span></span> (копия обращения прилагается). В силу ч. 1 ст. 9 Федерального закона от 2 мая 2006 г. № 59-ФЗ «О порядке рассмотрения обращений граждан <span style=\"padding: 2px; border-radius: 4px; border: 1px solid #c8e6c9; background: #e8f5e9\">Российской Федерации<span style=\"vertical-align: middle; margin-left: 2px; font-size: 0.7em; color: #66bb6a;\">LOC</span></span>»; обращение, поступившее в государственный орган, орган местного самоуправления или должностному лицу в соответствии с их компетенцией, подлежит обязательному Согласно п. 1. ч. 1 ст. 10 Федерального закона от 2 мая 2006 г. № 59-ФЗ «О порядке рассмотрению. рассмотрения обращений граждан <span style=\"padding: 2px; border-radius: 4px; border: 1px solid #c8e6c9; background: #e8f5e9\">Российской Федерации<span style=\"vertical-align: middle; margin-left: 2px; font-size: 0.7em; color: #66bb6a;\">LOC</span></span>» государственный орган, орган местного самоуправления или должностное лицо: обеспечивает объективное, всестороннее и своевременное рассмотрение обращения в случае необходимости с участием гражданина, направившего обращение. Исходя из положения ст. 12 Федерального закона от 2 мая 2006 г. № 59-ФЗ «О порядке рассмотрения обращений граждан <span style=\"padding: 2px; border-radius: 4px; border: 1px solid #c8e6c9; background: #e8f5e9\">Российской Федерации<span style=\"vertical-align: middle; margin-left: 2px; font-size: 0.7em; color: #66bb6a;\">LOC</span></span>»: письменное обращение, поступившее в государственный орган, орган местного самоуправления или должностному лицу в соответствии с их компетенцией, рассматривается в течение 30 дней со дня регистрации письменного обращения. Со дня регистрации письменного обращения заявителя от 10 июля 2012 года и до настоящего времени прошло более 30 дней. В нарушение ст. 12 Федерального закона от 2 мая 2006 г. № 59-ФЗ «О порядке рассмотрения обращений граждан <span style=\"padding: 2px; border-radius: 4px; border: 1px solid #c8e6c9; background: #e8f5e9\">Российской Федерации<span style=\"vertical-align: middle; margin-left: 2px; font-size: 0.7em; color: #66bb6a;\">LOC</span></span>», письменный мотивированный ответ на вышеуказанное обращение заявителя за подписью начальника <span style=\"padding: 2px; border-radius: 4px; border: 1px solid #bbdefb; background: #e3f2fd\">Отдела ОУФМС<span style=\"vertical-align: middle; margin-left: 2px; font-size: 0.7em; color: #64b5f6;\">ORG</span></span> <span style=\"padding: 2px; border-radius: 4px; border: 1px solid #c8e6c9; background: #e8f5e9\">России<span style=\"vertical-align: middle; margin-left: 2px; font-size: 0.7em; color: #66bb6a;\">LOC</span></span> в <span style=\"padding: 2px; border-radius: 4px; border: 1px solid #c8e6c9; background: #e8f5e9\">САО<span style=\"vertical-align: middle; margin-left: 2px; font-size: 0.7em; color: #66bb6a;\">LOC</span></span> по г. <span style=\"padding: 2px; border-radius: 4px; border: 1px solid #c8e6c9; background: #e8f5e9\">Москве<span style=\"vertical-align: middle; margin-left: 2px; font-size: 0.7em; color: #66bb6a;\">LOC</span></span> <span style=\"padding: 2px; border-radius: 4px; border: 1px solid #ffcdd2; background: #ffebee\">Бородина А. Д..<span style=\"vertical-align: middle; margin-left: 2px; font-size: 0.7em; color: #e57373;\">PER</span></span> заявителю не был направлен. Кроме парушений вышеуказанных норм действующего законодательства <span style=\"padding: 2px; border-radius: 4px; border: 1px solid #c8e6c9; background: #e8f5e9\">РФ<span style=\"vertical-align: middle; margin-left: 2px; font-size: 0.7em; color: #66bb6a;\">LOC</span></span>, незаконным бездействием начальника <span style=\"padding: 2px; border-radius: 4px; border: 1px solid #bbdefb; background: #e3f2fd\">Отдела ОУФМС<span style=\"vertical-align: middle; margin-left: 2px; font-size: 0.7em; color: #64b5f6;\">ORG</span></span> <span style=\"padding: 2px; border-radius: 4px; border: 1px solid #c8e6c9; background: #e8f5e9\">России<span style=\"vertical-align: middle; margin-left: 2px; font-size: 0.7em; color: #66bb6a;\">LOC</span></span> в <span style=\"padding: 2px; border-radius: 4px; border: 1px solid #c8e6c9; background: #e8f5e9\">САО<span style=\"vertical-align: middle; margin-left: 2px; font-size: 0.7em; color: #66bb6a;\">LOC</span></span> по г. <span style=\"padding: 2px; border-radius: 4px; border: 1px solid #c8e6c9; background: #e8f5e9\">Москве<span style=\"vertical-align: middle; margin-left: 2px; font-size: 0.7em; color: #66bb6a;\">LOC</span></span> <span style=\"padding: 2px; border-radius: 4px; border: 1px solid #ffcdd2; background: #ffebee\">Бородина А. Д.<span style=\"vertical-align: middle; margin-left: 2px; font-size: 0.7em; color: #e57373;\">PER</span></span>, грубо нарушены неотъемлемые федеральным законом, конституционные права заявителя, закрепленные в статьях 3 (части 1), 17, 18, 24, 33, 55 (части 3) Конституции <span style=\"padding: 2px; border-radius: 4px; border: 1px solid #c8e6c9; background: #e8f5e9\">РФ<span style=\"vertical-align: middle; margin-left: 2px; font-size: 0.7em; color: #66bb6a;\">LOC</span></span>. Между тем, согласно ст. 5.59 КоАП <span style=\"padding: 2px; border-radius: 4px; border: 1px solid #c8e6c9; background: #e8f5e9\">РФ<span style=\"vertical-align: middle; margin-left: 2px; font-size: 0.7em; color: #66bb6a;\">LOC</span></span> нарушение установленного законодательством <span style=\"padding: 2px; border-radius: 4px; border: 1px solid #c8e6c9; background: #e8f5e9\">Российской Федерации<span style=\"vertical-align: middle; margin-left: 2px; font-size: 0.7em; color: #66bb6a;\">LOC</span></span> порядка рассмотрения обращений граждан должностными лицами государственных органов и органов местного самоуправления, за исключением случаев, предусмотренных статьями 5.39, 5.63 настоящего Кодекса, влечет наложение административного штрафа в размере от пяти тысяч до десяти тысяч рублей. Не представление письменного мотивированного ответа на вышеуказанное обращение заявителя за подписью начальника <span style=\"padding: 2px; border-radius: 4px; border: 1px solid #bbdefb; background: #e3f2fd\">Отдела ОУФМС<span style=\"vertical-align: middle; margin-left: 2px; font-size: 0.7em; color: #64b5f6;\">ORG</span></span> <span style=\"padding: 2px; border-radius: 4px; border: 1px solid #c8e6c9; background: #e8f5e9\">России<span style=\"vertical-align: middle; margin-left: 2px; font-size: 0.7em; color: #66bb6a;\">LOC</span></span> в <span style=\"padding: 2px; border-radius: 4px; border: 1px solid #c8e6c9; background: #e8f5e9\">САО<span style=\"vertical-align: middle; margin-left: 2px; font-size: 0.7em; color: #66bb6a;\">LOC</span></span> по г.1</div>"
     },
     "metadata": {},
     "output_type": "display_data"
    }
   ],
   "source": [
    "show_span_box_markup(doc.text, doc.spans)"
   ],
   "metadata": {
    "collapsed": false,
    "ExecuteTime": {
     "end_time": "2023-11-25T04:38:17.344896Z",
     "start_time": "2023-11-25T04:38:17.328921Z"
    }
   },
   "id": "756437934619a922"
  },
  {
   "cell_type": "code",
   "execution_count": 15,
   "outputs": [
    {
     "name": "stdout",
     "output_type": "stream",
     "text": [
      "DocSpan(stop=35, type='ORG', text='Савеловскому межрайонному прокурору', tokens=[...])\n",
      "   DocToken(stop=12, text='Савеловскому')\n",
      "   DocToken(start=13, stop=25, text='межрайонному')\n",
      "   DocToken(start=26, stop=35, text='прокурору')\n",
      "DocSpan(start=39, stop=45, type='LOC', text='Москвы', tokens=[...])\n",
      "   DocToken(start=39, stop=45, text='Москвы')\n",
      "DocSpan(start=46, stop=59, type='PER', text='Минькову Д. Д', tokens=[...])\n",
      "   DocToken(start=46, stop=54, text='Минькову')\n",
      "   DocToken(start=55, stop=56, text='Д')\n",
      "   DocToken(start=56, stop=57, text='.')\n",
      "   DocToken(start=58, stop=59, text='Д')\n",
      "DocSpan(start=71, stop=77, type='LOC', text='Москва', tokens=[...])\n",
      "   DocToken(start=71, stop=77, text='Москва')\n",
      "DocSpan(start=79, stop=96, type='LOC', text='Хорошёвское шоссе', tokens=[...])\n",
      "   DocToken(start=79, stop=90, text='Хорошёвское')\n",
      "   DocToken(start=91, stop=96, text='шоссе')\n",
      "DocSpan(start=125, stop=144, type='PER', text='Шулипа Юрий Юрьевич', tokens=[...])\n",
      "   DocToken(start=125, stop=131, text='Шулипа')\n",
      "   DocToken(start=132, stop=136, text='Юрий')\n",
      "   DocToken(start=137, stop=144, text='Юрьевич')\n",
      "DocSpan(start=145, stop=154, type='ORG', text='ЗАЯВЛЕНИЕ', tokens=[...])\n",
      "   DocToken(start=145, stop=154, text='ЗАЯВЛЕНИЕ')\n",
      "DocSpan(start=292, stop=312, type='LOC', text='Российской Федерации', tokens=[...])\n",
      "   DocToken(start=292, stop=302, text='Российской')\n",
      "   DocToken(start=303, stop=312, text='Федерации')\n",
      "DocSpan(start=355, stop=356, type='LOC', text='В', tokens=[...])\n",
      "   DocToken(start=355, stop=356, text='В')\n",
      "DocSpan(start=392, stop=394, type='LOC', text='РФ', tokens=[...])\n",
      "   DocToken(start=392, stop=394, text='РФ')\n",
      "DocSpan(start=486, stop=498, type='ORG', text='Отдела ОУФМС', tokens=[...])\n",
      "   DocToken(start=486, stop=492, text='Отдела')\n",
      "   DocToken(start=493, stop=498, text='ОУФМС')\n",
      "DocSpan(start=499, stop=505, type='LOC', text='России', tokens=[...])\n",
      "   DocToken(start=499, stop=505, text='России')\n",
      "DocSpan(start=508, stop=511, type='LOC', text='САО', tokens=[...])\n",
      "   DocToken(start=508, stop=511, text='САО')\n",
      "DocSpan(start=518, stop=524, type='LOC', text='Москве', tokens=[...])\n",
      "   DocToken(start=518, stop=524, text='Москве')\n",
      "DocSpan(start=525, stop=539, type='PER', text='Бородину А. Д.', tokens=[...])\n",
      "   DocToken(start=525, stop=533, text='Бородину')\n",
      "   DocToken(start=534, stop=535, text='А')\n",
      "   DocToken(start=535, stop=536, text='.')\n",
      "   DocToken(start=537, stop=538, text='Д')\n",
      "   DocToken(start=538, stop=539, text='.')\n",
      "DocSpan(start=676, stop=696, type='LOC', text='Российской Федерации', tokens=[...])\n",
      "   DocToken(start=676, stop=686, text='Российской')\n",
      "   DocToken(start=687, stop=696, text='Федерации')\n",
      "DocSpan(start=984, stop=1004, type='LOC', text='Российской Федерации', tokens=[...])\n",
      "   DocToken(start=984, stop=994, text='Российской')\n",
      "   DocToken(start=995, stop=1004, text='Федерации')\n",
      "DocSpan(start=1343, stop=1363, type='LOC', text='Российской Федерации', tokens=[...])\n",
      "   DocToken(start=1343, stop=1353, text='Российской')\n",
      "   DocToken(start=1354, stop=1363, text='Федерации')\n",
      "DocSpan(start=1811, stop=1831, type='LOC', text='Российской Федерации', tokens=[...])\n",
      "   DocToken(start=1811, stop=1821, text='Российской')\n",
      "   DocToken(start=1822, stop=1831, text='Федерации')\n",
      "DocSpan(start=1926, stop=1938, type='ORG', text='Отдела ОУФМС', tokens=[...])\n",
      "   DocToken(start=1926, stop=1932, text='Отдела')\n",
      "   DocToken(start=1933, stop=1938, text='ОУФМС')\n",
      "DocSpan(start=1939, stop=1945, type='LOC', text='России', tokens=[...])\n",
      "   DocToken(start=1939, stop=1945, text='России')\n",
      "DocSpan(start=1948, stop=1951, type='LOC', text='САО', tokens=[...])\n",
      "   DocToken(start=1948, stop=1951, text='САО')\n",
      "DocSpan(start=1958, stop=1964, type='LOC', text='Москве', tokens=[...])\n",
      "   DocToken(start=1958, stop=1964, text='Москве')\n",
      "DocSpan(start=1965, stop=1980, type='PER', text='Бородина А. Д..', tokens=[...])\n",
      "   DocToken(start=1965, stop=1973, text='Бородина')\n",
      "   DocToken(start=1974, stop=1975, text='А')\n",
      "   DocToken(start=1975, stop=1976, text='.')\n",
      "   DocToken(start=1977, stop=1978, text='Д')\n",
      "   DocToken(start=1978, stop=1980, text='..')\n",
      "DocSpan(start=2074, stop=2076, type='LOC', text='РФ', tokens=[...])\n",
      "   DocToken(start=2074, stop=2076, text='РФ')\n",
      "DocSpan(start=2113, stop=2125, type='ORG', text='Отдела ОУФМС', tokens=[...])\n",
      "   DocToken(start=2113, stop=2119, text='Отдела')\n",
      "   DocToken(start=2120, stop=2125, text='ОУФМС')\n",
      "DocSpan(start=2126, stop=2132, type='LOC', text='России', tokens=[...])\n",
      "   DocToken(start=2126, stop=2132, text='России')\n",
      "DocSpan(start=2135, stop=2138, type='LOC', text='САО', tokens=[...])\n",
      "   DocToken(start=2135, stop=2138, text='САО')\n",
      "DocSpan(start=2145, stop=2151, type='LOC', text='Москве', tokens=[...])\n",
      "   DocToken(start=2145, stop=2151, text='Москве')\n",
      "DocSpan(start=2152, stop=2166, type='PER', text='Бородина А. Д.', tokens=[...])\n",
      "   DocToken(start=2152, stop=2160, text='Бородина')\n",
      "   DocToken(start=2161, stop=2162, text='А')\n",
      "   DocToken(start=2162, stop=2163, text='.')\n",
      "   DocToken(start=2164, stop=2165, text='Д')\n",
      "   DocToken(start=2165, stop=2166, text='.')\n",
      "DocSpan(start=2327, stop=2329, type='LOC', text='РФ', tokens=[...])\n",
      "   DocToken(start=2327, stop=2329, text='РФ')\n",
      "DocSpan(start=2365, stop=2367, type='LOC', text='РФ', tokens=[...])\n",
      "   DocToken(start=2365, stop=2367, text='РФ')\n",
      "DocSpan(start=2411, stop=2431, type='LOC', text='Российской Федерации', tokens=[...])\n",
      "   DocToken(start=2411, stop=2421, text='Российской')\n",
      "   DocToken(start=2422, stop=2431, text='Федерации')\n",
      "DocSpan(start=2832, stop=2844, type='ORG', text='Отдела ОУФМС', tokens=[...])\n",
      "   DocToken(start=2832, stop=2838, text='Отдела')\n",
      "   DocToken(start=2839, stop=2844, text='ОУФМС')\n",
      "DocSpan(start=2845, stop=2851, type='LOC', text='России', tokens=[...])\n",
      "   DocToken(start=2845, stop=2851, text='России')\n",
      "DocSpan(start=2854, stop=2857, type='LOC', text='САО', tokens=[...])\n",
      "   DocToken(start=2854, stop=2857, text='САО')\n"
     ]
    }
   ],
   "source": [
    "for span in doc.spans:\n",
    "    print(span)\n",
    "    for token in span.tokens:\n",
    "        print('  ',token)"
   ],
   "metadata": {
    "collapsed": false,
    "ExecuteTime": {
     "end_time": "2023-11-25T04:38:19.307822700Z",
     "start_time": "2023-11-25T04:38:19.288690100Z"
    }
   },
   "id": "8ba547c39f12463b"
  },
  {
   "cell_type": "code",
   "execution_count": 16,
   "outputs": [
    {
     "name": "stdout",
     "output_type": "stream",
     "text": [
      "Москвы\n",
      "Москва\n",
      "Хорошёвское шоссе\n",
      "Российской Федерации\n",
      "В\n",
      "РФ\n",
      "России\n",
      "САО\n",
      "Москве\n",
      "Российской Федерации\n",
      "Российской Федерации\n",
      "Российской Федерации\n",
      "Российской Федерации\n",
      "России\n",
      "САО\n",
      "Москве\n",
      "РФ\n",
      "России\n",
      "САО\n",
      "Москве\n",
      "РФ\n",
      "РФ\n",
      "Российской Федерации\n",
      "России\n",
      "САО\n"
     ]
    }
   ],
   "source": [
    "for span in doc.spans:\n",
    "    if span.type != 'LOC':\n",
    "        continue\n",
    "    print(span.text)"
   ],
   "metadata": {
    "collapsed": false,
    "ExecuteTime": {
     "end_time": "2023-11-25T04:38:20.351153200Z",
     "start_time": "2023-11-25T04:38:20.339076900Z"
    }
   },
   "id": "a2b75438482bb93b"
  },
  {
   "cell_type": "code",
   "execution_count": 17,
   "outputs": [],
   "source": [
    "text4='Директору ГБОУ «Школа № 1527» Кадыковой Елене Владимировне KadykovaEV@edu.mos.ru , 1527@edu.mos.ru Адрес: 115470, г.Москва, пр-кт Андропова, дом 17, корпус 5. Копия: в Южное окружное управление департамента образования города Москвы Адрес: г.Москва, Высокая улица, 14.        от Родителей учеников 6 «В» класса,) указанных ниже в подписях КОЛЛЕКТИВНАЯ ЖАЛОБА Уважаемая Елена Владимировна! С «19» октября 2020 года, с началом введения дистанционного обучения в системе МЭШ для 6-11 классов в связи с эпидемией COVID-19, наши дети, ученики 6 &quot;В&quot; класса не могут ежедневно подключиться к одному или нескольким урокам.'"
   ],
   "metadata": {
    "collapsed": false,
    "ExecuteTime": {
     "end_time": "2023-11-25T04:38:21.046927800Z",
     "start_time": "2023-11-25T04:38:21.031921Z"
    }
   },
   "id": "de976c7f147269f5"
  },
  {
   "cell_type": "code",
   "execution_count": 18,
   "outputs": [
    {
     "name": "stdout",
     "output_type": "stream",
     "text": [
      "Директору ГБОУ «Школа № 1527» Кадыковой Елене Владимировне \n",
      "          ORG───────────────  PER───────────────────────── \n",
      "KadykovaEV@edu.mos.ru , 1527@edu.mos.ru Адрес: 115470, г.Москва, пр-кт\n",
      "                                                         LOC───       \n",
      " Андропова, дом 17, корпус 5. Копия: в Южное окружное управление \n",
      " PER──────                             ORG───────────────────────\n",
      "департамента образования города Москвы Адрес: г.Москва, Высокая улица,\n",
      "────────────                    LOC───          LOC───  LOC────────── \n",
      " 14.        от Родителей учеников 6 «В» класса,) указанных ниже в \n",
      "подписях КОЛЛЕКТИВНАЯ ЖАЛОБА Уважаемая Елена Владимировна! С «19» \n",
      "                                       PER───────────────         \n",
      "октября 2020 года, с началом введения дистанционного обучения в \n",
      "системе МЭШ для 6-11 классов в связи с эпидемией COVID-19, наши дети, \n",
      "ученики 6 &quot;В&quot; класса не могут ежедневно подключиться к \n",
      "        ORG────  ORG──                                           \n",
      "одному или нескольким урокам.\n"
     ]
    }
   ],
   "source": [
    "doc = Doc(text4)\n",
    "doc.segment(segmenter)\n",
    "doc.tag_ner(ner_tagger)\n",
    "doc.ner.print()"
   ],
   "metadata": {
    "collapsed": false,
    "ExecuteTime": {
     "end_time": "2023-11-25T04:38:21.899487700Z",
     "start_time": "2023-11-25T04:38:21.875014300Z"
    }
   },
   "id": "27033d84dfcf5435"
  },
  {
   "cell_type": "code",
   "execution_count": 19,
   "outputs": [
    {
     "data": {
      "text/plain": "<IPython.core.display.HTML object>",
      "text/html": "<div class=\"tex2jax_ignore\" style=\"white-space: pre-wrap\">Директору <span style=\"padding: 2px; border-radius: 4px; border: 1px solid #bbdefb; background: #e3f2fd\">ГБОУ «Школа № 1527<span style=\"vertical-align: middle; margin-left: 2px; font-size: 0.7em; color: #64b5f6;\">ORG</span></span>» <span style=\"padding: 2px; border-radius: 4px; border: 1px solid #ffcdd2; background: #ffebee\">Кадыковой Елене Владимировне<span style=\"vertical-align: middle; margin-left: 2px; font-size: 0.7em; color: #e57373;\">PER</span></span> KadykovaEV@edu.mos.ru , 1527@edu.mos.ru Адрес: 115470, г.<span style=\"padding: 2px; border-radius: 4px; border: 1px solid #c8e6c9; background: #e8f5e9\">Москва<span style=\"vertical-align: middle; margin-left: 2px; font-size: 0.7em; color: #66bb6a;\">LOC</span></span>, пр-кт <span style=\"padding: 2px; border-radius: 4px; border: 1px solid #ffcdd2; background: #ffebee\">Андропова<span style=\"vertical-align: middle; margin-left: 2px; font-size: 0.7em; color: #e57373;\">PER</span></span>, дом 17, корпус 5. Копия: в <span style=\"padding: 2px; border-radius: 4px; border: 1px solid #bbdefb; background: #e3f2fd\">Южное окружное управление департамента<span style=\"vertical-align: middle; margin-left: 2px; font-size: 0.7em; color: #64b5f6;\">ORG</span></span> образования города <span style=\"padding: 2px; border-radius: 4px; border: 1px solid #c8e6c9; background: #e8f5e9\">Москвы<span style=\"vertical-align: middle; margin-left: 2px; font-size: 0.7em; color: #66bb6a;\">LOC</span></span> Адрес: г.<span style=\"padding: 2px; border-radius: 4px; border: 1px solid #c8e6c9; background: #e8f5e9\">Москва<span style=\"vertical-align: middle; margin-left: 2px; font-size: 0.7em; color: #66bb6a;\">LOC</span></span>, <span style=\"padding: 2px; border-radius: 4px; border: 1px solid #c8e6c9; background: #e8f5e9\">Высокая улица<span style=\"vertical-align: middle; margin-left: 2px; font-size: 0.7em; color: #66bb6a;\">LOC</span></span>, 14.        от Родителей учеников 6 «В» класса,) указанных ниже в подписях КОЛЛЕКТИВНАЯ ЖАЛОБА Уважаемая <span style=\"padding: 2px; border-radius: 4px; border: 1px solid #ffcdd2; background: #ffebee\">Елена Владимировна<span style=\"vertical-align: middle; margin-left: 2px; font-size: 0.7em; color: #e57373;\">PER</span></span>! С «19» октября 2020 года, с началом введения дистанционного обучения в системе МЭШ для 6-11 классов в связи с эпидемией COVID-19, наши дети, ученики <span style=\"padding: 2px; border-radius: 4px; border: 1px solid #bbdefb; background: #e3f2fd\">6 &amp;quot<span style=\"vertical-align: middle; margin-left: 2px; font-size: 0.7em; color: #64b5f6;\">ORG</span></span>;В<span style=\"padding: 2px; border-radius: 4px; border: 1px solid #bbdefb; background: #e3f2fd\">&amp;quot<span style=\"vertical-align: middle; margin-left: 2px; font-size: 0.7em; color: #64b5f6;\">ORG</span></span>; класса не могут ежедневно подключиться к одному или нескольким урокам.</div>"
     },
     "metadata": {},
     "output_type": "display_data"
    }
   ],
   "source": [
    "show_span_box_markup(doc.text, doc.spans)"
   ],
   "metadata": {
    "collapsed": false,
    "ExecuteTime": {
     "end_time": "2023-11-25T04:38:22.521851200Z",
     "start_time": "2023-11-25T04:38:22.504376200Z"
    }
   },
   "id": "cef5b45f0a9f9b3d"
  },
  {
   "cell_type": "code",
   "execution_count": 21,
   "outputs": [],
   "source": [
    "import pandas as pd"
   ],
   "metadata": {
    "collapsed": false,
    "ExecuteTime": {
     "end_time": "2023-11-25T04:50:33.296093300Z",
     "start_time": "2023-11-25T04:50:32.609083400Z"
    }
   },
   "id": "340f1051b61bb21e"
  },
  {
   "cell_type": "code",
   "execution_count": 23,
   "outputs": [],
   "source": [
    "df = pd.read_csv('../data/train_dataset_train.csv', sep=';')"
   ],
   "metadata": {
    "collapsed": false,
    "ExecuteTime": {
     "end_time": "2023-11-25T04:50:59.033833600Z",
     "start_time": "2023-11-25T04:50:58.803989900Z"
    }
   },
   "id": "ee1b5273013867e7"
  },
  {
   "cell_type": "code",
   "execution_count": 24,
   "outputs": [],
   "source": [
    "def num_ner(text):\n",
    "    doc = Doc(text)\n",
    "    doc.segment(segmenter)\n",
    "    doc.tag_ner(ner_tagger)\n",
    "    return  len(doc.spans)"
   ],
   "metadata": {
    "collapsed": false,
    "ExecuteTime": {
     "end_time": "2023-11-25T04:54:23.730018Z",
     "start_time": "2023-11-25T04:54:23.715358200Z"
    }
   },
   "id": "5070701f819decc"
  },
  {
   "cell_type": "code",
   "execution_count": 25,
   "outputs": [
    {
     "data": {
      "text/plain": "\"'Добрый день. Сегодня, 20.08.22, моя мать шла по улице Ленина между домами 96 и 94. Фонари не горят, упала в яму, которую не видно. Сильно ударилась, остались синяки, очень больно. Благо шла не одна.<br>Уважаемая Администрация, сделайте с этим что-нибудь, да и не только с этим. Ходить опасно не только взрослым, но и детям. Если бы упал маленький ребёнок, было бы намного хуже. Фото прилагаю. Спасибо!\""
     },
     "execution_count": 25,
     "metadata": {},
     "output_type": "execute_result"
    }
   ],
   "source": [
    "df['Текст инцидента'][0]"
   ],
   "metadata": {
    "collapsed": false,
    "ExecuteTime": {
     "end_time": "2023-11-25T04:55:31.897427600Z",
     "start_time": "2023-11-25T04:55:31.882825600Z"
    }
   },
   "id": "7071efc332681191"
  },
  {
   "cell_type": "code",
   "execution_count": 27,
   "outputs": [
    {
     "data": {
      "text/plain": "0"
     },
     "execution_count": 27,
     "metadata": {},
     "output_type": "execute_result"
    }
   ],
   "source": [
    "num_ner(df['Текст инцидента'][2])"
   ],
   "metadata": {
    "collapsed": false,
    "ExecuteTime": {
     "end_time": "2023-11-25T04:56:00.171145300Z",
     "start_time": "2023-11-25T04:56:00.122246600Z"
    }
   },
   "id": "22100cdf44a3c54f"
  },
  {
   "cell_type": "code",
   "execution_count": 30,
   "outputs": [],
   "source": [
    "from tqdm import tqdm"
   ],
   "metadata": {
    "collapsed": false,
    "ExecuteTime": {
     "end_time": "2023-11-25T04:58:48.326258300Z",
     "start_time": "2023-11-25T04:58:48.289201Z"
    }
   },
   "id": "fabbb8fa3f9e199d"
  },
  {
   "cell_type": "code",
   "execution_count": 32,
   "outputs": [],
   "source": [
    "tqdm.pandas()"
   ],
   "metadata": {
    "collapsed": false,
    "ExecuteTime": {
     "end_time": "2023-11-25T04:59:24.448234200Z",
     "start_time": "2023-11-25T04:59:24.402420800Z"
    }
   },
   "id": "b5757f9542305d2b"
  },
  {
   "cell_type": "code",
   "execution_count": 33,
   "outputs": [
    {
     "name": "stderr",
     "output_type": "stream",
     "text": [
      "100%|██████████| 23128/23128 [01:22<00:00, 280.88it/s]\n"
     ]
    }
   ],
   "source": [
    "df['num_ner']=df['Текст инцидента'].progress_apply(lambda claim: num_ner(claim))"
   ],
   "metadata": {
    "collapsed": false,
    "ExecuteTime": {
     "end_time": "2023-11-25T05:01:44.767577400Z",
     "start_time": "2023-11-25T05:00:22.388447800Z"
    }
   },
   "id": "ae7a857e306a0d39"
  },
  {
   "cell_type": "code",
   "execution_count": 36,
   "outputs": [
    {
     "data": {
      "text/plain": "                                Исполнитель  \\\n538                             Город Пермь   \n870                             Город Пермь   \n1126                                ИГЖН ПК   \n1913                            Город Пермь   \n2146           Министерство здравоохранения   \n...                                     ...   \n21453                           Город Пермь   \n21906  Министерство социального развития ПК   \n22100                           Город Пермь   \n22822                           Город Пермь   \n22960                            АО ПРО ТКО   \n\n                                     Группа тем  \\\n538    Памятники и объекты культурного наследия   \n870                                         ЖКХ   \n1126                                        ЖКХ   \n1913   Памятники и объекты культурного наследия   \n2146                   Здравоохранение/Медицина   \n...                                         ...   \n21453                                  Культура   \n21906          Социальное обслуживание и защита   \n22100                                  Экология   \n22822                       МФЦ \"Мои документы\"   \n22960                          Мусор/Свалки/ТКО   \n\n                                         Текст инцидента  \\\n538    'Прогуливался недавно по центру исторической П...   \n870    'Здравствуйте. Мы жители Индустриального район...   \n1126   'Добрый день,вопрос ИГЖН Пермкого края почему ...   \n1913   'Посмотрите, в каком состоянии сейчас находитс...   \n2146   'Здравствуйте, я проживаю в г. Чусовом. У меня...   \n...                                                  ...   \n21453  'Добрый день!<br>От лица зрителей Пермского те...   \n21906  'Вопрос нашей подписчицы:<br>\"В прошлом году п...   \n22100  '[club57433185|Пермь Первая], пусть конкретно ...   \n22822  'Здравствуйте. Третий месяц я пытаюсь подать д...   \n22960  'Уважаемое Министерство ЖКХ Пермского края, пр...   \n\n                                                    Тема  num_ner  \n538             Памятники и объекты культурного наследия       11  \n870       Ненадлежащее качество или отсутствие отопления       13  \n1126                      Жалобы на управляющие компании       11  \n1913            Памятники и объекты культурного наследия       12  \n2146   ★ Оказание медицинской помощи не в полном объе...       14  \n...                                                  ...      ...  \n21453                                Учреждения культуры       26  \n21906                          Оказание гос. соц. помощи       16  \n22100  Выбросы вредных веществ в водоёмы/загрязнение ...       11  \n22822                                МФЦ \"Мои документы\"       11  \n22960                                 Плата за вывоз ТКО       15  \n\n[73 rows x 5 columns]",
      "text/html": "<div>\n<style scoped>\n    .dataframe tbody tr th:only-of-type {\n        vertical-align: middle;\n    }\n\n    .dataframe tbody tr th {\n        vertical-align: top;\n    }\n\n    .dataframe thead th {\n        text-align: right;\n    }\n</style>\n<table border=\"1\" class=\"dataframe\">\n  <thead>\n    <tr style=\"text-align: right;\">\n      <th></th>\n      <th>Исполнитель</th>\n      <th>Группа тем</th>\n      <th>Текст инцидента</th>\n      <th>Тема</th>\n      <th>num_ner</th>\n    </tr>\n  </thead>\n  <tbody>\n    <tr>\n      <th>538</th>\n      <td>Город Пермь</td>\n      <td>Памятники и объекты культурного наследия</td>\n      <td>'Прогуливался недавно по центру исторической П...</td>\n      <td>Памятники и объекты культурного наследия</td>\n      <td>11</td>\n    </tr>\n    <tr>\n      <th>870</th>\n      <td>Город Пермь</td>\n      <td>ЖКХ</td>\n      <td>'Здравствуйте. Мы жители Индустриального район...</td>\n      <td>Ненадлежащее качество или отсутствие отопления</td>\n      <td>13</td>\n    </tr>\n    <tr>\n      <th>1126</th>\n      <td>ИГЖН ПК</td>\n      <td>ЖКХ</td>\n      <td>'Добрый день,вопрос ИГЖН Пермкого края почему ...</td>\n      <td>Жалобы на управляющие компании</td>\n      <td>11</td>\n    </tr>\n    <tr>\n      <th>1913</th>\n      <td>Город Пермь</td>\n      <td>Памятники и объекты культурного наследия</td>\n      <td>'Посмотрите, в каком состоянии сейчас находитс...</td>\n      <td>Памятники и объекты культурного наследия</td>\n      <td>12</td>\n    </tr>\n    <tr>\n      <th>2146</th>\n      <td>Министерство здравоохранения</td>\n      <td>Здравоохранение/Медицина</td>\n      <td>'Здравствуйте, я проживаю в г. Чусовом. У меня...</td>\n      <td>★ Оказание медицинской помощи не в полном объе...</td>\n      <td>14</td>\n    </tr>\n    <tr>\n      <th>...</th>\n      <td>...</td>\n      <td>...</td>\n      <td>...</td>\n      <td>...</td>\n      <td>...</td>\n    </tr>\n    <tr>\n      <th>21453</th>\n      <td>Город Пермь</td>\n      <td>Культура</td>\n      <td>'Добрый день!&lt;br&gt;От лица зрителей Пермского те...</td>\n      <td>Учреждения культуры</td>\n      <td>26</td>\n    </tr>\n    <tr>\n      <th>21906</th>\n      <td>Министерство социального развития ПК</td>\n      <td>Социальное обслуживание и защита</td>\n      <td>'Вопрос нашей подписчицы:&lt;br&gt;\"В прошлом году п...</td>\n      <td>Оказание гос. соц. помощи</td>\n      <td>16</td>\n    </tr>\n    <tr>\n      <th>22100</th>\n      <td>Город Пермь</td>\n      <td>Экология</td>\n      <td>'[club57433185|Пермь Первая], пусть конкретно ...</td>\n      <td>Выбросы вредных веществ в водоёмы/загрязнение ...</td>\n      <td>11</td>\n    </tr>\n    <tr>\n      <th>22822</th>\n      <td>Город Пермь</td>\n      <td>МФЦ \"Мои документы\"</td>\n      <td>'Здравствуйте. Третий месяц я пытаюсь подать д...</td>\n      <td>МФЦ \"Мои документы\"</td>\n      <td>11</td>\n    </tr>\n    <tr>\n      <th>22960</th>\n      <td>АО ПРО ТКО</td>\n      <td>Мусор/Свалки/ТКО</td>\n      <td>'Уважаемое Министерство ЖКХ Пермского края, пр...</td>\n      <td>Плата за вывоз ТКО</td>\n      <td>15</td>\n    </tr>\n  </tbody>\n</table>\n<p>73 rows × 5 columns</p>\n</div>"
     },
     "execution_count": 36,
     "metadata": {},
     "output_type": "execute_result"
    }
   ],
   "source": [
    "df1=df[df['num_ner'] > 10]\n",
    "df1"
   ],
   "metadata": {
    "collapsed": false,
    "ExecuteTime": {
     "end_time": "2023-11-25T05:04:14.142498600Z",
     "start_time": "2023-11-25T05:04:14.107225Z"
    }
   },
   "id": "f48094772e4d2214"
  },
  {
   "cell_type": "code",
   "execution_count": 37,
   "outputs": [],
   "source": [
    "df1.to_csv('../data/train_dataset_ner10.csv', sep=';')"
   ],
   "metadata": {
    "collapsed": false,
    "ExecuteTime": {
     "end_time": "2023-11-25T05:05:21.928833Z",
     "start_time": "2023-11-25T05:05:21.875248Z"
    }
   },
   "id": "2011d5b1a2813755"
  },
  {
   "cell_type": "code",
   "execution_count": 55,
   "outputs": [
    {
     "data": {
      "text/plain": "                                Исполнитель                        Группа тем  \\\n9                                   ИГЖН ПК                            Дороги   \n35             Министерство здравоохранения          Здравоохранение/Медицина   \n100                             Город Пермь                            Дороги   \n113            Министерство здравоохранения                       Коронавирус   \n126                             Город Пермь                            Дороги   \n...                                     ...                               ...   \n22886          Министерство здравоохранения          Здравоохранение/Медицина   \n22899          Министерство здравоохранения          Здравоохранение/Медицина   \n22907                               ИГЖН ПК                               ЖКХ   \n22994  Министерство социального развития ПК  Социальное обслуживание и защита   \n23101                           Город Пермь                          Культура   \n\n                                         Текст инцидента  \\\n9      'Хотел узнать в Чайковской \"управляйке\" по тел...   \n35     '1 января примерно в17час моя жена на котке сл...   \n100    'Нет, это не картинка «найдите 5 отличий»! Так...   \n113    'Здравствуйте. Хочу получить информацию. о рев...   \n126    'Хьюстон на Ленина 23 ( [id628987039|Алексей] ...   \n...                                                  ...   \n22886  'Почему так плохо работают врачи скорой У меня...   \n22899  'Вчера девочка соседка Ева умерла ей было 9 ле...   \n22907  'Здравствуйте, у меня очень большая проблема в...   \n22994  'доброе утро???!<br>> Добрый день, Эдуард Жакп...   \n23101  'Из Перми пишут: здесь 28, 29 и 30 октября - р...   \n\n                                                    Тема  num_ner  \n9      ★ Нарушение правил очистки дорог от снега и на...        6  \n35     ★ Оказание медицинской помощи не в полном объе...        8  \n100    ★ Нарушение правил очистки дорог от снега и на...        6  \n113                          Порядок и пункты вакцинации        9  \n126    ★ Нарушение правил очистки дорог от снега и на...        5  \n...                                                  ...      ...  \n22886  ★ Оказание медицинской помощи не в полном объе...        5  \n22899                                    ★ Скорая помощь        5  \n22907                     Жалобы на управляющие компании       10  \n22994                          Оказание гос. соц. помощи        5  \n23101                                Учреждения культуры        9  \n\n[683 rows x 5 columns]",
      "text/html": "<div>\n<style scoped>\n    .dataframe tbody tr th:only-of-type {\n        vertical-align: middle;\n    }\n\n    .dataframe tbody tr th {\n        vertical-align: top;\n    }\n\n    .dataframe thead th {\n        text-align: right;\n    }\n</style>\n<table border=\"1\" class=\"dataframe\">\n  <thead>\n    <tr style=\"text-align: right;\">\n      <th></th>\n      <th>Исполнитель</th>\n      <th>Группа тем</th>\n      <th>Текст инцидента</th>\n      <th>Тема</th>\n      <th>num_ner</th>\n    </tr>\n  </thead>\n  <tbody>\n    <tr>\n      <th>9</th>\n      <td>ИГЖН ПК</td>\n      <td>Дороги</td>\n      <td>'Хотел узнать в Чайковской \"управляйке\" по тел...</td>\n      <td>★ Нарушение правил очистки дорог от снега и на...</td>\n      <td>6</td>\n    </tr>\n    <tr>\n      <th>35</th>\n      <td>Министерство здравоохранения</td>\n      <td>Здравоохранение/Медицина</td>\n      <td>'1 января примерно в17час моя жена на котке сл...</td>\n      <td>★ Оказание медицинской помощи не в полном объе...</td>\n      <td>8</td>\n    </tr>\n    <tr>\n      <th>100</th>\n      <td>Город Пермь</td>\n      <td>Дороги</td>\n      <td>'Нет, это не картинка «найдите 5 отличий»! Так...</td>\n      <td>★ Нарушение правил очистки дорог от снега и на...</td>\n      <td>6</td>\n    </tr>\n    <tr>\n      <th>113</th>\n      <td>Министерство здравоохранения</td>\n      <td>Коронавирус</td>\n      <td>'Здравствуйте. Хочу получить информацию. о рев...</td>\n      <td>Порядок и пункты вакцинации</td>\n      <td>9</td>\n    </tr>\n    <tr>\n      <th>126</th>\n      <td>Город Пермь</td>\n      <td>Дороги</td>\n      <td>'Хьюстон на Ленина 23 ( [id628987039|Алексей] ...</td>\n      <td>★ Нарушение правил очистки дорог от снега и на...</td>\n      <td>5</td>\n    </tr>\n    <tr>\n      <th>...</th>\n      <td>...</td>\n      <td>...</td>\n      <td>...</td>\n      <td>...</td>\n      <td>...</td>\n    </tr>\n    <tr>\n      <th>22886</th>\n      <td>Министерство здравоохранения</td>\n      <td>Здравоохранение/Медицина</td>\n      <td>'Почему так плохо работают врачи скорой У меня...</td>\n      <td>★ Оказание медицинской помощи не в полном объе...</td>\n      <td>5</td>\n    </tr>\n    <tr>\n      <th>22899</th>\n      <td>Министерство здравоохранения</td>\n      <td>Здравоохранение/Медицина</td>\n      <td>'Вчера девочка соседка Ева умерла ей было 9 ле...</td>\n      <td>★ Скорая помощь</td>\n      <td>5</td>\n    </tr>\n    <tr>\n      <th>22907</th>\n      <td>ИГЖН ПК</td>\n      <td>ЖКХ</td>\n      <td>'Здравствуйте, у меня очень большая проблема в...</td>\n      <td>Жалобы на управляющие компании</td>\n      <td>10</td>\n    </tr>\n    <tr>\n      <th>22994</th>\n      <td>Министерство социального развития ПК</td>\n      <td>Социальное обслуживание и защита</td>\n      <td>'доброе утро???!&lt;br&gt;&gt; Добрый день, Эдуард Жакп...</td>\n      <td>Оказание гос. соц. помощи</td>\n      <td>5</td>\n    </tr>\n    <tr>\n      <th>23101</th>\n      <td>Город Пермь</td>\n      <td>Культура</td>\n      <td>'Из Перми пишут: здесь 28, 29 и 30 октября - р...</td>\n      <td>Учреждения культуры</td>\n      <td>9</td>\n    </tr>\n  </tbody>\n</table>\n<p>683 rows × 5 columns</p>\n</div>"
     },
     "execution_count": 55,
     "metadata": {},
     "output_type": "execute_result"
    }
   ],
   "source": [
    "df2=df[(df['num_ner'] >= 5) & (df['num_ner'] <= 10)]\n",
    "df2"
   ],
   "metadata": {
    "collapsed": false,
    "ExecuteTime": {
     "end_time": "2023-11-25T06:36:14.192548600Z",
     "start_time": "2023-11-25T06:36:14.143703600Z"
    }
   },
   "id": "a2c0d2a2d5c243aa"
  },
  {
   "cell_type": "code",
   "execution_count": 56,
   "outputs": [
    {
     "name": "stdout",
     "output_type": "stream",
     "text": [
      "<class 'pandas.core.frame.DataFrame'>\n",
      "Index: 683 entries, 9 to 23101\n",
      "Data columns (total 5 columns):\n",
      " #   Column           Non-Null Count  Dtype \n",
      "---  ------           --------------  ----- \n",
      " 0   Исполнитель      683 non-null    object\n",
      " 1   Группа тем       683 non-null    object\n",
      " 2   Текст инцидента  683 non-null    object\n",
      " 3   Тема             683 non-null    object\n",
      " 4   num_ner          683 non-null    int64 \n",
      "dtypes: int64(1), object(4)\n",
      "memory usage: 32.0+ KB\n"
     ]
    }
   ],
   "source": [
    "df2.info()"
   ],
   "metadata": {
    "collapsed": false,
    "ExecuteTime": {
     "end_time": "2023-11-25T06:36:25.992196200Z",
     "start_time": "2023-11-25T06:36:25.913860100Z"
    }
   },
   "id": "9b01e82984f7f20e"
  },
  {
   "cell_type": "code",
   "execution_count": 57,
   "outputs": [],
   "source": [
    "df2.to_csv('../data/train_dataset_ner5-10.csv', sep=';')"
   ],
   "metadata": {
    "collapsed": false,
    "ExecuteTime": {
     "end_time": "2023-11-25T06:39:24.828899100Z",
     "start_time": "2023-11-25T06:39:24.750682700Z"
    }
   },
   "id": "72c6fb6119625039"
  },
  {
   "cell_type": "code",
   "execution_count": 43,
   "outputs": [],
   "source": [
    "df1=df1.sort_values(by='num_ner', ascending=False).reset_index()"
   ],
   "metadata": {
    "collapsed": false,
    "ExecuteTime": {
     "end_time": "2023-11-25T05:14:06.555665500Z",
     "start_time": "2023-11-25T05:14:06.519205300Z"
    }
   },
   "id": "9704fd6ee8422cac"
  },
  {
   "cell_type": "code",
   "execution_count": 47,
   "outputs": [
    {
     "data": {
      "text/plain": "<IPython.core.display.HTML object>",
      "text/html": "<div class=\"tex2jax_ignore\" style=\"white-space: pre-wrap\">&#x27;Чайковский г, +79223159971. Здравствуйте. \nМоему ребёнку поставили диагноз <span style=\"padding: 2px; border-radius: 4px; border: 1px solid #ffcdd2; background: #ffebee\">Аденоиды<span style=\"vertical-align: middle; margin-left: 2px; font-size: 0.7em; color: #e57373;\">PER</span></span> 3 степени. Есть все показания к оперативному вмешательству, <span style=\"padding: 2px; border-radius: 4px; border: 1px solid #ffcdd2; background: #ffebee\">Провести\nАденотомию<span style=\"vertical-align: middle; margin-left: 2px; font-size: 0.7em; color: #e57373;\">PER</span></span>.\nОбследование эндоскопом проходили в частной клинике &quot;<span style=\"padding: 2px; border-radius: 4px; border: 1px solid #bbdefb; background: #e3f2fd\">Лада-Эстет<span style=\"vertical-align: middle; margin-left: 2px; font-size: 0.7em; color: #64b5f6;\">ORG</span></span>&quot; г. <span style=\"padding: 2px; border-radius: 4px; border: 1px solid #c8e6c9; background: #e8f5e9\">Ижевск<span style=\"vertical-align: middle; margin-left: 2px; font-size: 0.7em; color: #66bb6a;\">LOC</span></span>. \nТак как за много километров от нашего родного города <span style=\"padding: 2px; border-radius: 4px; border: 1px solid #c8e6c9; background: #e8f5e9\">Чайковский<span style=\"vertical-align: middle; margin-left: 2px; font-size: 0.7em; color: #66bb6a;\">LOC</span></span> нет ни одного эндоскопа.\n<span style=\"padding: 2px; border-radius: 4px; border: 1px solid #ffcdd2; background: #ffebee\">Лада- Эстет<span style=\"vertical-align: middle; margin-left: 2px; font-size: 0.7em; color: #e57373;\">PER</span></span> сделали нам приглашение на операцию по полису ОМС. Назначена операция на 14 октября. Для того чтобы моему сыну сделали операцию бесплатно, необходимо направление от лечащего врача. Педиатр направила нас к <span style=\"padding: 2px; border-radius: 4px; border: 1px solid #ffcdd2; background: #ffebee\">Лору<span style=\"vertical-align: middle; margin-left: 2px; font-size: 0.7em; color: #e57373;\">PER</span></span>. Лор- <span style=\"padding: 2px; border-radius: 4px; border: 1px solid #ffcdd2; background: #ffebee\">Козлова<span style=\"vertical-align: middle; margin-left: 2px; font-size: 0.7em; color: #e57373;\">PER</span></span> <span style=\"padding: 2px; border-radius: 4px; border: 1px solid #ffcdd2; background: #ffebee\">Татьяна Николаевна<span style=\"vertical-align: middle; margin-left: 2px; font-size: 0.7em; color: #e57373;\">PER</span></span> отказала в выдаче направления на бесплатную операцию в платную клинику по полису ОМС. Обосновав это тем что страховая компания полтора дня назад строго запретила выдавать такие направления. <span style=\"padding: 2px; border-radius: 4px; border: 1px solid #ffcdd2; background: #ffebee\">Козлова Т. Н.<span style=\"vertical-align: middle; margin-left: 2px; font-size: 0.7em; color: #e57373;\">PER</span></span> может дать направление только в г. <span style=\"padding: 2px; border-radius: 4px; border: 1px solid #c8e6c9; background: #e8f5e9\">Пермь<span style=\"vertical-align: middle; margin-left: 2px; font-size: 0.7em; color: #66bb6a;\">LOC</span></span>. \nЯ согласна на <span style=\"padding: 2px; border-radius: 4px; border: 1px solid #c8e6c9; background: #e8f5e9\">Пермь<span style=\"vertical-align: middle; margin-left: 2px; font-size: 0.7em; color: #66bb6a;\">LOC</span></span> в том случае если там моему трехлетнему ребёнку сделают операцию по тем же технологиям что и в клинике <span style=\"padding: 2px; border-radius: 4px; border: 1px solid #c8e6c9; background: #e8f5e9\">Лада-Эстет<span style=\"vertical-align: middle; margin-left: 2px; font-size: 0.7em; color: #66bb6a;\">LOC</span></span>.\n<span style=\"padding: 2px; border-radius: 4px; border: 1px solid #ffcdd2; background: #ffebee\">Т. Е.<span style=\"vertical-align: middle; margin-left: 2px; font-size: 0.7em; color: #e57373;\">PER</span></span> радиоволновым способом под общей анестезией препаратом <span style=\"padding: 2px; border-radius: 4px; border: 1px solid #ffcdd2; background: #ffebee\">Севоран<span style=\"vertical-align: middle; margin-left: 2px; font-size: 0.7em; color: #e57373;\">PER</span></span>!\nСкажите пожалуйста, правомерен отказ в выдаче направления?\nСтраховая компания <span style=\"padding: 2px; border-radius: 4px; border: 1px solid #bbdefb; background: #e3f2fd\">КАПИТАЛ<span style=\"vertical-align: middle; margin-left: 2px; font-size: 0.7em; color: #64b5f6;\">ORG</span></span> не подтвердила информацию о запрете в выдаче направлений и заявила что все вопросы решает лечащий врач.\nПрошу прокомментировать ситуацию и разъяснить мои дальнейшие действия.\nЯ мать-одиночка, у меня нет средств даже на дорогу в <span style=\"padding: 2px; border-radius: 4px; border: 1px solid #c8e6c9; background: #e8f5e9\">Пермь<span style=\"vertical-align: middle; margin-left: 2px; font-size: 0.7em; color: #66bb6a;\">LOC</span></span>, а не то чтобы на платную операцию в самом ближайшем городе к нам.\nЯ объясняла это все <span style=\"padding: 2px; border-radius: 4px; border: 1px solid #ffcdd2; background: #ffebee\">Козловой Т.Н.<span style=\"vertical-align: middle; margin-left: 2px; font-size: 0.7em; color: #e57373;\">PER</span></span> на что мне был ответ - это не наши проблемы. Вы можете ехать в любую клинику но за свой счет!\nА как же законы???\nЗакон за номером 323-ФЗ\nПриказ за номером 1342н <span style=\"padding: 2px; border-radius: 4px; border: 1px solid #bbdefb; background: #e3f2fd\">Министерства здравоохранения<span style=\"vertical-align: middle; margin-left: 2px; font-size: 0.7em; color: #64b5f6;\">ORG</span></span>???</div>"
     },
     "metadata": {},
     "output_type": "display_data"
    }
   ],
   "source": [
    "text = df1['Текст инцидента'][10]\n",
    "doc = Doc(text)\n",
    "doc.segment(segmenter)\n",
    "doc.tag_ner(ner_tagger)\n",
    "show_span_box_markup(doc.text, doc.spans)"
   ],
   "metadata": {
    "collapsed": false,
    "ExecuteTime": {
     "end_time": "2023-11-25T05:14:37.349309100Z",
     "start_time": "2023-11-25T05:14:37.295615900Z"
    }
   },
   "id": "956104a45b9e280"
  },
  {
   "cell_type": "code",
   "execution_count": 45,
   "outputs": [
    {
     "data": {
      "text/plain": "\"'Обращение к Губернатору Пермского края Д.Н. МАХОНИНУ от В.К. БЕГУНОВА (Москва), театрального критика, драматурга; обозревателя и члена общественной редколлегии журнала «Современная драматургия», зам. гл. редактора журнала «Клаузура», члена секретариата РОО «Гильдия драматургов России», лауреата российских и международных конкурсов драматургии и прозы.<br>Уважаемый Дмитрий Николаевич!<br>Обращаюсь к Вам по поводу нетерпимой ситуации, которая складывается вокруг совершенно уникального сценического коллектива – Пермского театра «У Моста», созданного и руководимого такой же уникальной творческой личностью – Сергеем Федотовым. Театру необходимо новое помещение; театральное здание, оборудованное на современном уровне и позволяющее максимально раскрыть невероятный творческий потенциал, самобытность и неповторимость творческого направления театра «У Моста» и его художественного руководителя.<br>В Ваших силах и в возможностях Администрации Пермского края преодолеть тот – надеюсь, временный, – тупик, в который зашла ситуация с помещением театра, своим творчеством прославляющего Россию и руководимый Вами Пермский край.<br>Не буду тут подробно перечислять все поистине фантастические достижения и заслуги театра «У Моста» и его художественного руководителя – они общеизвестны и неоспоримы. Являясь экспертом, членом или председателем жюри многих театральных фестивалей, ответственно подтверждаю: театр «У Моста» не просто широкого известен в России и во многих других странах. Но даже среди маститых и популярных сценических коллективов найдётся немного тех, которые пользуются такой же любовью, популярностью и авторитетом, как театр «У Моста». На всех своих гастролях, в программах всех фестивалей, в которых участвует, театр «У Моста» вызывает восторг и уважение профессионалов сцены, прессы, критики и зрителей. Свидетельством тому – множество лауреатских фестивальных наград, российская национальная премия «Золотая маска» и другие премии, а также лауреатские звания, премии и почётные звания самого Сергея Федотова.<br>Много лет подвижнически и самозабвенно работают театр «У Моста», его артисты и сотрудники, их художественный руководитель Сергей Федотов в старинном здании, которое практически на средства самого театра поддерживается в дееспособном состоянии и превращено в уникальный и своеобразный центр культуры. Но, безусловно, это здание нуждается в неотложном ремонте и обновлении. На это время театр нужно переместить в другое, подходящее для его деятельности, здание. Но ведь и его нужно подготовить – на это требуется время. Лучше всего было бы превратить такое помещение в современно оборудованное театральное здание, в котором необходимо установить соответствующую аппаратуру, а также создать все необходимые подсобные помещения, отвечающие современным технологиям, духу времени и уровню культуры – гримёрки, хранилища для декораций, цеха и мастерские для изготовления костюмов, реквизита, декораций и т.п. Но, тем более, на это требуется время. А это значит, что на какой-то неопределенный период театр может прекратить свою деятельность. А для живого, непосредственного искусства сцены, требующего постоянных репетиций, обновления репертуара и такого же живого, непосредственного, постоянного общения со зрителями, такой «застойный перерыв» гибели подобен.<br>Сергей Федотов и театр «У Моста» – это не только экспериментальный поиск новаторских путей в творчестве. Но и сохранение и приумножение классических традиций русского театра, русской сценической школы – а также традиций и опыта мировой театральной культуры. В репертуаре театра «У Моста» представлены и современные российские и зарубежные пьесы, и лучшие творения российской и мировой литературной и драматургической классики. Творчество театра «У Моста» – в полной мере неустанный труд по сохранению и развитию связей между эпохами и культурами народов в России, а также и нашей страны с зарубежными странами. Свидетельством тому не только участие театра в фестивалях, но и регулярное проведение самим театров международного фестиваля по пьесам М. МакДонаха.<br>Театр «У Моста», говоря современным языком – один и важнейших и весомейших трендов России, а также Перми и Пермского края. Кстати в давних российских традициях – учреждение или поддержка учебным заведениям, больницам, центрам культуры и театрам, оказываемые крупными меценатами, государственными деятелями и региональными руководителями. Благодарная память об этих руководителях оставалась в истории.<br>Питаю твердую надежду сложившейся на Ваше понимание ситуации и на Вашу помощь и поддержку театра «У Моста».<br>С глубоким уважением Валерий БЕГУНОВ, театральный критик, драматург.<br>#театрумоста #театр #умоста #СергейФедотов #ЛучшийвРоссии\""
     },
     "execution_count": 45,
     "metadata": {},
     "output_type": "execute_result"
    }
   ],
   "source": [
    "df1['Текст инцидента'][0]"
   ],
   "metadata": {
    "collapsed": false,
    "ExecuteTime": {
     "end_time": "2023-11-25T05:14:08.436881Z",
     "start_time": "2023-11-25T05:14:08.428730500Z"
    }
   },
   "id": "dfa53bf5360502f9"
  },
  {
   "cell_type": "code",
   "execution_count": 48,
   "outputs": [
    {
     "data": {
      "text/plain": "                            Исполнитель                        Группа тем  \\\n0           Лысьвенский городской округ                   Благоустройство   \n1  Министерство социального развития ПК  Социальное обслуживание и защита   \n2  Министерство социального развития ПК  Социальное обслуживание и защита   \n3                           Город Пермь            Общественный транспорт   \n4          Министерство здравоохранения          Здравоохранение/Медицина   \n\n                                     Текст инцидента  \\\n0  'Добрый день. Сегодня, 20.08.22, моя мать шла ...   \n1  'Пермь г, +79194692145. В Перми с ноября 2021 ...   \n2  'Добрый день ! Скажите пожалуйста если подовал...   \n3  'Каждая из них не о чем. Люди на остановках хо...   \n4  'В Березниках у сына привитого откоронавируса ...   \n\n                                              Тема  num_ner  \n0                                  ★ Ямы во дворах        1  \n1                        Оказание гос. соц. помощи        1  \n2                         Дети и многодетные семьи        0  \n3                             Содержание остановок        0  \n4  Технические проблемы с записью на прием к врачу        1  ",
      "text/html": "<div>\n<style scoped>\n    .dataframe tbody tr th:only-of-type {\n        vertical-align: middle;\n    }\n\n    .dataframe tbody tr th {\n        vertical-align: top;\n    }\n\n    .dataframe thead th {\n        text-align: right;\n    }\n</style>\n<table border=\"1\" class=\"dataframe\">\n  <thead>\n    <tr style=\"text-align: right;\">\n      <th></th>\n      <th>Исполнитель</th>\n      <th>Группа тем</th>\n      <th>Текст инцидента</th>\n      <th>Тема</th>\n      <th>num_ner</th>\n    </tr>\n  </thead>\n  <tbody>\n    <tr>\n      <th>0</th>\n      <td>Лысьвенский городской округ</td>\n      <td>Благоустройство</td>\n      <td>'Добрый день. Сегодня, 20.08.22, моя мать шла ...</td>\n      <td>★ Ямы во дворах</td>\n      <td>1</td>\n    </tr>\n    <tr>\n      <th>1</th>\n      <td>Министерство социального развития ПК</td>\n      <td>Социальное обслуживание и защита</td>\n      <td>'Пермь г, +79194692145. В Перми с ноября 2021 ...</td>\n      <td>Оказание гос. соц. помощи</td>\n      <td>1</td>\n    </tr>\n    <tr>\n      <th>2</th>\n      <td>Министерство социального развития ПК</td>\n      <td>Социальное обслуживание и защита</td>\n      <td>'Добрый день ! Скажите пожалуйста если подовал...</td>\n      <td>Дети и многодетные семьи</td>\n      <td>0</td>\n    </tr>\n    <tr>\n      <th>3</th>\n      <td>Город Пермь</td>\n      <td>Общественный транспорт</td>\n      <td>'Каждая из них не о чем. Люди на остановках хо...</td>\n      <td>Содержание остановок</td>\n      <td>0</td>\n    </tr>\n    <tr>\n      <th>4</th>\n      <td>Министерство здравоохранения</td>\n      <td>Здравоохранение/Медицина</td>\n      <td>'В Березниках у сына привитого откоронавируса ...</td>\n      <td>Технические проблемы с записью на прием к врачу</td>\n      <td>1</td>\n    </tr>\n  </tbody>\n</table>\n</div>"
     },
     "execution_count": 48,
     "metadata": {},
     "output_type": "execute_result"
    }
   ],
   "source": [
    "df.head()"
   ],
   "metadata": {
    "collapsed": false,
    "ExecuteTime": {
     "end_time": "2023-11-25T06:29:25.832267300Z",
     "start_time": "2023-11-25T06:29:25.782418800Z"
    }
   },
   "id": "efa56cc5928ffd09"
  },
  {
   "cell_type": "code",
   "execution_count": 49,
   "outputs": [
    {
     "ename": "ImportError",
     "evalue": "matplotlib is required for plotting when the default backend \"matplotlib\" is selected.",
     "output_type": "error",
     "traceback": [
      "\u001B[1;31m---------------------------------------------------------------------------\u001B[0m",
      "\u001B[1;31mImportError\u001B[0m                               Traceback (most recent call last)",
      "Cell \u001B[1;32mIn[49], line 1\u001B[0m\n\u001B[1;32m----> 1\u001B[0m \u001B[43mdf\u001B[49m\u001B[38;5;241;43m.\u001B[39;49m\u001B[43mhist\u001B[49m\u001B[43m(\u001B[49m\u001B[43m)\u001B[49m\n",
      "File \u001B[1;32mC:\\prj\\citizen-requests\\venv\\Lib\\site-packages\\pandas\\plotting\\_core.py:246\u001B[0m, in \u001B[0;36mhist_frame\u001B[1;34m(data, column, by, grid, xlabelsize, xrot, ylabelsize, yrot, ax, sharex, sharey, figsize, layout, bins, backend, legend, **kwargs)\u001B[0m\n\u001B[0;32m    141\u001B[0m \u001B[38;5;28;01mdef\u001B[39;00m \u001B[38;5;21mhist_frame\u001B[39m(\n\u001B[0;32m    142\u001B[0m     data: DataFrame,\n\u001B[0;32m    143\u001B[0m     column: IndexLabel \u001B[38;5;241m|\u001B[39m \u001B[38;5;28;01mNone\u001B[39;00m \u001B[38;5;241m=\u001B[39m \u001B[38;5;28;01mNone\u001B[39;00m,\n\u001B[1;32m   (...)\u001B[0m\n\u001B[0;32m    158\u001B[0m     \u001B[38;5;241m*\u001B[39m\u001B[38;5;241m*\u001B[39mkwargs,\n\u001B[0;32m    159\u001B[0m ):\n\u001B[0;32m    160\u001B[0m \u001B[38;5;250m    \u001B[39m\u001B[38;5;124;03m\"\"\"\u001B[39;00m\n\u001B[0;32m    161\u001B[0m \u001B[38;5;124;03m    Make a histogram of the DataFrame's columns.\u001B[39;00m\n\u001B[0;32m    162\u001B[0m \n\u001B[1;32m   (...)\u001B[0m\n\u001B[0;32m    244\u001B[0m \u001B[38;5;124;03m        >>> hist = df.hist(bins=3)\u001B[39;00m\n\u001B[0;32m    245\u001B[0m \u001B[38;5;124;03m    \"\"\"\u001B[39;00m\n\u001B[1;32m--> 246\u001B[0m     plot_backend \u001B[38;5;241m=\u001B[39m \u001B[43m_get_plot_backend\u001B[49m\u001B[43m(\u001B[49m\u001B[43mbackend\u001B[49m\u001B[43m)\u001B[49m\n\u001B[0;32m    247\u001B[0m     \u001B[38;5;28;01mreturn\u001B[39;00m plot_backend\u001B[38;5;241m.\u001B[39mhist_frame(\n\u001B[0;32m    248\u001B[0m         data,\n\u001B[0;32m    249\u001B[0m         column\u001B[38;5;241m=\u001B[39mcolumn,\n\u001B[1;32m   (...)\u001B[0m\n\u001B[0;32m    263\u001B[0m         \u001B[38;5;241m*\u001B[39m\u001B[38;5;241m*\u001B[39mkwargs,\n\u001B[0;32m    264\u001B[0m     )\n",
      "File \u001B[1;32mC:\\prj\\citizen-requests\\venv\\Lib\\site-packages\\pandas\\plotting\\_core.py:1947\u001B[0m, in \u001B[0;36m_get_plot_backend\u001B[1;34m(backend)\u001B[0m\n\u001B[0;32m   1944\u001B[0m \u001B[38;5;28;01mif\u001B[39;00m backend_str \u001B[38;5;129;01min\u001B[39;00m _backends:\n\u001B[0;32m   1945\u001B[0m     \u001B[38;5;28;01mreturn\u001B[39;00m _backends[backend_str]\n\u001B[1;32m-> 1947\u001B[0m module \u001B[38;5;241m=\u001B[39m \u001B[43m_load_backend\u001B[49m\u001B[43m(\u001B[49m\u001B[43mbackend_str\u001B[49m\u001B[43m)\u001B[49m\n\u001B[0;32m   1948\u001B[0m _backends[backend_str] \u001B[38;5;241m=\u001B[39m module\n\u001B[0;32m   1949\u001B[0m \u001B[38;5;28;01mreturn\u001B[39;00m module\n",
      "File \u001B[1;32mC:\\prj\\citizen-requests\\venv\\Lib\\site-packages\\pandas\\plotting\\_core.py:1877\u001B[0m, in \u001B[0;36m_load_backend\u001B[1;34m(backend)\u001B[0m\n\u001B[0;32m   1875\u001B[0m         module \u001B[38;5;241m=\u001B[39m importlib\u001B[38;5;241m.\u001B[39mimport_module(\u001B[38;5;124m\"\u001B[39m\u001B[38;5;124mpandas.plotting._matplotlib\u001B[39m\u001B[38;5;124m\"\u001B[39m)\n\u001B[0;32m   1876\u001B[0m     \u001B[38;5;28;01mexcept\u001B[39;00m \u001B[38;5;167;01mImportError\u001B[39;00m:\n\u001B[1;32m-> 1877\u001B[0m         \u001B[38;5;28;01mraise\u001B[39;00m \u001B[38;5;167;01mImportError\u001B[39;00m(\n\u001B[0;32m   1878\u001B[0m             \u001B[38;5;124m\"\u001B[39m\u001B[38;5;124mmatplotlib is required for plotting when the \u001B[39m\u001B[38;5;124m\"\u001B[39m\n\u001B[0;32m   1879\u001B[0m             \u001B[38;5;124m'\u001B[39m\u001B[38;5;124mdefault backend \u001B[39m\u001B[38;5;124m\"\u001B[39m\u001B[38;5;124mmatplotlib\u001B[39m\u001B[38;5;124m\"\u001B[39m\u001B[38;5;124m is selected.\u001B[39m\u001B[38;5;124m'\u001B[39m\n\u001B[0;32m   1880\u001B[0m         ) \u001B[38;5;28;01mfrom\u001B[39;00m \u001B[38;5;28;01mNone\u001B[39;00m\n\u001B[0;32m   1881\u001B[0m     \u001B[38;5;28;01mreturn\u001B[39;00m module\n\u001B[0;32m   1883\u001B[0m found_backend \u001B[38;5;241m=\u001B[39m \u001B[38;5;28;01mFalse\u001B[39;00m\n",
      "\u001B[1;31mImportError\u001B[0m: matplotlib is required for plotting when the default backend \"matplotlib\" is selected."
     ]
    }
   ],
   "source": [],
   "metadata": {
    "collapsed": false,
    "ExecuteTime": {
     "end_time": "2023-11-25T06:29:47.817105400Z",
     "start_time": "2023-11-25T06:29:47.643168Z"
    }
   },
   "id": "c18fa63df0520e74"
  },
  {
   "cell_type": "code",
   "execution_count": null,
   "outputs": [],
   "source": [],
   "metadata": {
    "collapsed": false
   },
   "id": "6677a1a3b80c1c13"
  }
 ],
 "metadata": {
  "kernelspec": {
   "display_name": "Python 3",
   "language": "python",
   "name": "python3"
  },
  "language_info": {
   "codemirror_mode": {
    "name": "ipython",
    "version": 2
   },
   "file_extension": ".py",
   "mimetype": "text/x-python",
   "name": "python",
   "nbconvert_exporter": "python",
   "pygments_lexer": "ipython2",
   "version": "2.7.6"
  }
 },
 "nbformat": 4,
 "nbformat_minor": 5
}
