{
 "cells": [
  {
   "cell_type": "code",
   "execution_count": 1,
   "id": "initial_id",
   "metadata": {
    "collapsed": true,
    "ExecuteTime": {
     "end_time": "2023-11-19T19:57:10.603037500Z",
     "start_time": "2023-11-19T19:57:10.559544900Z"
    }
   },
   "outputs": [
    {
     "data": {
      "text/plain": "LentaRecord(\n    url='https://lenta.ru/news/1914/09/16/hungarnn/',\n    title='1914. Русские войска вступили в\\xa0пределы Венгрии  ',\n    text='Бои у Сопоцкина и Друскеник закончились отступлением германцев. Неприятель, приблизившись с севера к Осовцу начал артиллерийскую борьбу с крепостью. В артиллерийском бою принимают участие тяжелые калибры. С раннего утра 14 сентября огонь достиг значительного напряжения. Попытка германской пехоты пробиться ближе к крепости отражена. В Галиции мы заняли Дембицу. Большая колонна, отступавшая по шоссе от Перемышля к Саноку, обстреливалась с высот нашей батареей и бежала, бросив парки, обоз и автомобили. Вылазки гарнизона Перемышля остаются безуспешными. При продолжающемся отступлении австрийцев обнаруживается полное перемешивание их частей, захватываются новые партии пленных, орудия и прочая материальная часть. На перевале Ужок мы разбили неприятельский отряд, взяли его артиллерию и много пленных и, продолжая преследовать, вступили в пределы Венгрии. «Русский инвалид», 16 сентября 1914 года.',\n    topic='Библиотека',\n    tags='Первая мировая',\n    date=datetime.datetime(1914, 9, 16, 0, 0)\n)"
     },
     "execution_count": 1,
     "metadata": {},
     "output_type": "execute_result"
    }
   ],
   "source": [
    "from corus import load_lenta2\n",
    "\n",
    "path = 'data/lenta-ru-news.csv.bz2'\n",
    "records = load_lenta2(path)\n",
    "next(records)"
   ]
  },
  {
   "cell_type": "code",
   "execution_count": 1,
   "outputs": [],
   "source": [
    "from natasha import (\n",
    "    Segmenter,\n",
    "    MorphVocab,\n",
    "\n",
    "    NewsEmbedding,\n",
    "    NewsMorphTagger,\n",
    "    NewsSyntaxParser,\n",
    "    NewsNERTagger,\n",
    "\n",
    "    PER,\n",
    "    NamesExtractor,\n",
    "\n",
    "    Doc\n",
    ")\n"
   ],
   "metadata": {
    "collapsed": false,
    "ExecuteTime": {
     "end_time": "2023-11-20T09:06:28.815755400Z",
     "start_time": "2023-11-20T09:06:28.655811400Z"
    }
   },
   "id": "98bca2efb8b953b2"
  },
  {
   "cell_type": "code",
   "execution_count": 17,
   "outputs": [],
   "source": [
    "from ipymarkup import show_span_ascii_markup, show_dep_ascii_markup, show_span_box_markup"
   ],
   "metadata": {
    "collapsed": false,
    "ExecuteTime": {
     "end_time": "2023-11-20T09:09:56.987134Z",
     "start_time": "2023-11-20T09:09:56.964202700Z"
    }
   },
   "id": "5027bfccc770a062"
  },
  {
   "cell_type": "code",
   "execution_count": 2,
   "outputs": [],
   "source": [
    "segmenter = Segmenter()\n",
    "morph_vocab = MorphVocab()\n",
    "\n",
    "emb = NewsEmbedding()\n",
    "morph_tagger = NewsMorphTagger(emb)\n",
    "syntax_parser = NewsSyntaxParser(emb)\n",
    "ner_tagger = NewsNERTagger(emb)\n",
    "\n",
    "names_extractor = NamesExtractor(morph_vocab)\n",
    "\n",
    "text = 'Посол Израиля на Украине Йоэль Лион признался, что пришел в шок, узнав о решении властей Львовской области объявить 2019 год годом лидера запрещенной в России Организации украинских националистов (ОУН) Степана Бандеры. Свое заявление он разместил в Twitter. «Я не могу понять, как прославление тех, кто непосредственно принимал участие в ужасных антисемитских преступлениях, помогает бороться с антисемитизмом и ксенофобией. Украина не должна забывать о преступлениях, совершенных против украинских евреев, и никоим образом не отмечать их через почитание их исполнителей», — написал дипломат. 11 декабря Львовский областной совет принял решение провозгласить 2019 год в регионе годом Степана Бандеры в связи с празднованием 110-летия со дня рождения лидера ОУН (Бандера родился 1 января 1909 года). В июле аналогичное решение принял Житомирский областной совет. В начале месяца с предложением к президенту страны Петру Порошенко вернуть Бандере звание Героя Украины обратились депутаты Верховной Рады. Парламентарии уверены, что признание Бандеры национальным героем поможет в борьбе с подрывной деятельностью против Украины в информационном поле, а также остановит «распространение мифов, созданных российской пропагандой». Степан Бандера (1909-1959) был одним из лидеров Организации украинских националистов, выступающей за создание независимого государства на территориях с украиноязычным населением. В 2010 году в период президентства Виктора Ющенко Бандера был посмертно признан Героем Украины, однако впоследствии это решение было отменено судом. '\n",
    "doc = Doc(text)"
   ],
   "metadata": {
    "collapsed": false,
    "ExecuteTime": {
     "end_time": "2023-11-20T09:06:46.240787800Z",
     "start_time": "2023-11-20T09:06:45.379788800Z"
    }
   },
   "id": "8fc51147d4338410"
  },
  {
   "cell_type": "code",
   "execution_count": 2,
   "outputs": [],
   "source": [],
   "metadata": {
    "collapsed": false,
    "ExecuteTime": {
     "end_time": "2023-11-20T09:06:46.999500400Z",
     "start_time": "2023-11-20T09:06:46.992506600Z"
    }
   },
   "id": "9ba78e1015323b1a"
  },
  {
   "cell_type": "code",
   "execution_count": 3,
   "outputs": [
    {
     "name": "stdout",
     "output_type": "stream",
     "text": [
      "[DocToken(stop=5, text='Посол'), DocToken(start=6, stop=13, text='Израиля'), DocToken(start=14, stop=16, text='на'), DocToken(start=17, stop=24, text='Украине'), DocToken(start=25, stop=30, text='Йоэль')]\n",
      "[DocSent(stop=218, text='Посол Израиля на Украине Йоэль Лион признался, чт..., tokens=[...]), DocSent(start=219, stop=257, text='Свое заявление он разместил в Twitter.', tokens=[...]), DocSent(start=258, stop=424, text='«Я не могу понять, как прославление тех, кто непо..., tokens=[...]), DocSent(start=425, stop=592, text='Украина не должна забывать о преступлениях, совер..., tokens=[...]), DocSent(start=593, stop=798, text='11 декабря Львовский областной совет принял решен..., tokens=[...])]\n"
     ]
    }
   ],
   "source": [
    "doc.segment(segmenter)\n",
    "print(doc.tokens[:5])\n",
    "print(doc.sents[:5])"
   ],
   "metadata": {
    "collapsed": false,
    "ExecuteTime": {
     "end_time": "2023-11-20T09:06:47.423833400Z",
     "start_time": "2023-11-20T09:06:47.405324300Z"
    }
   },
   "id": "e14358a4c0c539cb"
  },
  {
   "cell_type": "code",
   "execution_count": 4,
   "outputs": [
    {
     "name": "stdout",
     "output_type": "stream",
     "text": [
      "[DocToken(stop=5, text='Посол', pos='NOUN', feats=<Anim,Nom,Masc,Sing>), DocToken(start=6, stop=13, text='Израиля', pos='PROPN', feats=<Inan,Gen,Masc,Sing>), DocToken(start=14, stop=16, text='на', pos='ADP'), DocToken(start=17, stop=24, text='Украине', pos='PROPN', feats=<Inan,Loc,Fem,Sing>), DocToken(start=25, stop=30, text='Йоэль', pos='PROPN', feats=<Anim,Nom,Masc,Sing>)]\n",
      "               Посол NOUN|Animacy=Anim|Case=Nom|Gender=Masc|Number=Sing\n",
      "             Израиля PROPN|Animacy=Inan|Case=Gen|Gender=Masc|Number=Sing\n",
      "                  на ADP\n",
      "             Украине PROPN|Animacy=Inan|Case=Loc|Gender=Fem|Number=Sing\n",
      "               Йоэль PROPN|Animacy=Anim|Case=Nom|Gender=Masc|Number=Sing\n",
      "                Лион PROPN|Animacy=Anim|Case=Nom|Gender=Masc|Number=Sing\n",
      "           признался VERB|Aspect=Perf|Gender=Masc|Mood=Ind|Number=Sing|Tense=Past|VerbForm=Fin|Voice=Mid\n",
      "                   , PUNCT\n",
      "                 что SCONJ\n",
      "              пришел VERB|Aspect=Perf|Gender=Masc|Mood=Ind|Number=Sing|Tense=Past|VerbForm=Fin|Voice=Act\n",
      "                   в ADP\n",
      "                 шок NOUN|Animacy=Inan|Case=Acc|Gender=Masc|Number=Sing\n",
      "                   , PUNCT\n",
      "               узнав VERB|Aspect=Perf|Tense=Past|VerbForm=Conv|Voice=Act\n",
      "                   о ADP\n",
      "             решении NOUN|Animacy=Inan|Case=Loc|Gender=Neut|Number=Sing\n",
      "             властей NOUN|Animacy=Inan|Case=Gen|Gender=Fem|Number=Plur\n",
      "           Львовской ADJ|Case=Gen|Degree=Pos|Gender=Fem|Number=Sing\n",
      "             области NOUN|Animacy=Inan|Case=Gen|Gender=Fem|Number=Sing\n",
      "            объявить VERB|Aspect=Perf|VerbForm=Inf|Voice=Act\n",
      "                2019 ADJ\n",
      "                 год NOUN|Animacy=Inan|Case=Acc|Gender=Masc|Number=Sing\n",
      "               годом NOUN|Animacy=Inan|Case=Ins|Gender=Masc|Number=Sing\n",
      "              лидера NOUN|Animacy=Anim|Case=Gen|Gender=Masc|Number=Sing\n",
      "         запрещенной VERB|Aspect=Perf|Case=Gen|Gender=Fem|Number=Sing|Tense=Past|VerbForm=Part|Voice=Pass\n",
      "                   в ADP\n",
      "              России PROPN|Animacy=Inan|Case=Loc|Gender=Fem|Number=Sing\n",
      "         Организации PROPN|Animacy=Inan|Case=Gen|Gender=Fem|Number=Sing\n",
      "          украинских ADJ|Case=Gen|Degree=Pos|Number=Plur\n",
      "       националистов NOUN|Animacy=Anim|Case=Gen|Gender=Masc|Number=Plur\n",
      "                   ( PUNCT\n",
      "                 ОУН PROPN|Animacy=Inan|Case=Nom|Gender=Fem|Number=Sing\n",
      "                   ) PUNCT\n",
      "             Степана PROPN|Animacy=Anim|Case=Gen|Gender=Masc|Number=Sing\n",
      "             Бандеры PROPN|Animacy=Anim|Case=Gen|Gender=Masc|Number=Sing\n",
      "                   . PUNCT\n"
     ]
    }
   ],
   "source": [
    "doc.tag_morph(morph_tagger)\n",
    "print(doc.tokens[:5])\n",
    "doc.sents[0].morph.print()"
   ],
   "metadata": {
    "collapsed": false,
    "ExecuteTime": {
     "end_time": "2023-11-20T09:06:51.967150Z",
     "start_time": "2023-11-20T09:06:51.950532100Z"
    }
   },
   "id": "b868c81c03010565"
  },
  {
   "cell_type": "code",
   "execution_count": 5,
   "outputs": [
    {
     "name": "stdout",
     "output_type": "stream",
     "text": [
      "[DocSpan(start=6, stop=13, type='LOC', text='Израиля', tokens=[...]), DocSpan(start=17, stop=24, type='LOC', text='Украине', tokens=[...]), DocSpan(start=25, stop=35, type='PER', text='Йоэль Лион', tokens=[...]), DocSpan(start=89, stop=106, type='LOC', text='Львовской области', tokens=[...]), DocSpan(start=152, stop=158, type='LOC', text='России', tokens=[...])]\n",
      "Посол Израиля на Украине Йоэль Лион признался, что пришел в шок, узнав\n",
      "      LOC────    LOC──── PER───────                                   \n",
      " о решении властей Львовской области объявить 2019 год годом лидера \n",
      "                   LOC──────────────                                \n",
      "запрещенной в России Организации украинских националистов (ОУН) \n",
      "              LOC─── ORG─────────────────────────────────────── \n",
      "Степана Бандеры. Свое заявление он разместил в Twitter. «Я не могу \n",
      "PER────────────                                ORG────             \n",
      "понять, как прославление тех, кто непосредственно принимал участие в \n",
      "ужасных антисемитских преступлениях, помогает бороться с \n",
      "антисемитизмом и ксенофобией. Украина не должна забывать о \n",
      "                              LOC────                      \n",
      "преступлениях, совершенных против украинских евреев, и никоим образом \n",
      "не отмечать их через почитание их исполнителей», — написал дипломат. \n",
      "11 декабря Львовский областной совет принял решение провозгласить 2019\n",
      "           ORG──────────────────────                                  \n",
      " год в регионе годом Степана Бандеры в связи с празднованием 110-летия\n",
      "                     PER────────────                                  \n",
      " со дня рождения лидера ОУН (Бандера родился 1 января 1909 года). В \n",
      "                        ORG                                         \n",
      "июле аналогичное решение принял Житомирский областной совет. В начале \n",
      "                                ORG────────────────────────           \n",
      "месяца с предложением к президенту страны Петру Порошенко вернуть \n",
      "                                          PER────────────         \n",
      "Бандере звание Героя Украины обратились депутаты Верховной Рады. \n",
      "PER────              LOC────                     ORG───────────  \n",
      "Парламентарии уверены, что признание Бандеры национальным героем \n",
      "                                     PER────                     \n",
      "поможет в борьбе с подрывной деятельностью против Украины в \n",
      "                                                  LOC────   \n",
      "информационном поле, а также остановит «распространение мифов, \n",
      "созданных российской пропагандой». Степан Бандера (1909-1959) был \n",
      "                                   PER───────────                 \n",
      "одним из лидеров Организации украинских националистов, выступающей за \n",
      "                 ORG─────────────────────────────────                 \n",
      "создание независимого государства на территориях с украиноязычным \n",
      "населением. В 2010 году в период президентства Виктора Ющенко Бандера \n",
      "                                               PER─────────── PER──── \n",
      "был посмертно признан Героем Украины, однако впоследствии это решение \n",
      "                             LOC────                                  \n",
      "было отменено судом. \n"
     ]
    }
   ],
   "source": [
    "doc.tag_ner(ner_tagger)\n",
    "print(doc.spans[:5])\n",
    "doc.ner.print()"
   ],
   "metadata": {
    "collapsed": false,
    "ExecuteTime": {
     "end_time": "2023-11-20T09:06:54.528006600Z",
     "start_time": "2023-11-20T09:06:54.491781300Z"
    }
   },
   "id": "a5f5c6ecb960d5d"
  },
  {
   "cell_type": "code",
   "execution_count": 6,
   "outputs": [
    {
     "data": {
      "text/plain": "DocSpan(start=6, stop=13, type='LOC', text='Израиля', tokens=[...])"
     },
     "execution_count": 6,
     "metadata": {},
     "output_type": "execute_result"
    }
   ],
   "source": [
    "doc.spans[0]"
   ],
   "metadata": {
    "collapsed": false,
    "ExecuteTime": {
     "end_time": "2023-11-20T09:06:57.747155700Z",
     "start_time": "2023-11-20T09:06:57.728998300Z"
    }
   },
   "id": "f27c589da69c5ceb"
  },
  {
   "cell_type": "code",
   "execution_count": 18,
   "outputs": [],
   "source": [
    "text2 = 'Председателю Думы города Нефтеюганска, заместителю председателя Думы города Нефтеюганска,                                                            депутату Думы города Нефтеюганска                                                                      по поручению жильцов дома № 1                                              Иванов Иван Иванович                                                          Адрес:   628300, г. Нефтеюганск                                                                       ул. Киевская, дом 1, кв. 1                                                                    Телефон: +70000000000Обращение (предложение, заявление, жалоба) '"
   ],
   "metadata": {
    "collapsed": false,
    "ExecuteTime": {
     "end_time": "2023-11-20T09:10:08.390481400Z",
     "start_time": "2023-11-20T09:10:08.366783500Z"
    }
   },
   "id": "55e68637137ef40e"
  },
  {
   "cell_type": "code",
   "execution_count": 19,
   "outputs": [
    {
     "name": "stdout",
     "output_type": "stream",
     "text": [
      "Председателю Думы города Нефтеюганска, заместителю председателя Думы \n",
      "ORG──────────────        LOC─────────                           ORG─ \n",
      "города Нефтеюганска,\n",
      "       LOC───────── \n",
      "                                                            депутату \n",
      "Думы города Нефтеюганска\n",
      "ORG─        LOC─────────\n",
      "                                                                      \n",
      "по поручению жильцов дома № 1\n",
      "                                              Иванов Иван Иванович\n",
      "                                              PER─────────────────\n",
      "                                                          Адрес:   \n",
      "───────────────────────────────────────────────────────────────    \n",
      "628300, г. Нефтеюганск                                                \n",
      "           LOC────────────────────────────────────────────────────────\n",
      "                       ул. Киевская, дом 1, кв. 1\n",
      "─────────────────────────                        \n",
      "                                                                    \n",
      "Телефон: +70000000000Обращение (предложение, заявление, жалоба) \n"
     ]
    }
   ],
   "source": [
    "doc= Doc(text2)\n",
    "doc.segment(segmenter)\n",
    "doc.tag_ner(ner_tagger)\n",
    "doc.ner.print()"
   ],
   "metadata": {
    "collapsed": false,
    "ExecuteTime": {
     "end_time": "2023-11-20T09:10:08.655675200Z",
     "start_time": "2023-11-20T09:10:08.619982700Z"
    }
   },
   "id": "472f1dadfa0c8388"
  },
  {
   "cell_type": "code",
   "execution_count": 20,
   "outputs": [
    {
     "data": {
      "text/plain": "<IPython.core.display.HTML object>",
      "text/html": "<div class=\"tex2jax_ignore\" style=\"white-space: pre-wrap\"><span style=\"padding: 2px; border-radius: 4px; border: 1px solid #bbdefb; background: #e3f2fd\">Председателю Думы<span style=\"vertical-align: middle; margin-left: 2px; font-size: 0.7em; color: #64b5f6;\">ORG</span></span> города <span style=\"padding: 2px; border-radius: 4px; border: 1px solid #c8e6c9; background: #e8f5e9\">Нефтеюганска<span style=\"vertical-align: middle; margin-left: 2px; font-size: 0.7em; color: #66bb6a;\">LOC</span></span>, заместителю председателя <span style=\"padding: 2px; border-radius: 4px; border: 1px solid #bbdefb; background: #e3f2fd\">Думы<span style=\"vertical-align: middle; margin-left: 2px; font-size: 0.7em; color: #64b5f6;\">ORG</span></span> города <span style=\"padding: 2px; border-radius: 4px; border: 1px solid #c8e6c9; background: #e8f5e9\">Нефтеюганска<span style=\"vertical-align: middle; margin-left: 2px; font-size: 0.7em; color: #66bb6a;\">LOC</span></span>,                                                            депутату <span style=\"padding: 2px; border-radius: 4px; border: 1px solid #bbdefb; background: #e3f2fd\">Думы<span style=\"vertical-align: middle; margin-left: 2px; font-size: 0.7em; color: #64b5f6;\">ORG</span></span> города <span style=\"padding: 2px; border-radius: 4px; border: 1px solid #c8e6c9; background: #e8f5e9\">Нефтеюганска<span style=\"vertical-align: middle; margin-left: 2px; font-size: 0.7em; color: #66bb6a;\">LOC</span></span>                                                                      по поручению жильцов дома № 1                                              <span style=\"padding: 2px; border-radius: 4px; border: 1px solid #ffcdd2; background: #ffebee\">Иванов Иван Иванович                                                          Адрес<span style=\"vertical-align: middle; margin-left: 2px; font-size: 0.7em; color: #e57373;\">PER</span></span>:   628300, г. <span style=\"padding: 2px; border-radius: 4px; border: 1px solid #c8e6c9; background: #e8f5e9\">Нефтеюганск                                                                       ул<span style=\"vertical-align: middle; margin-left: 2px; font-size: 0.7em; color: #66bb6a;\">LOC</span></span>. Киевская, дом 1, кв. 1                                                                    Телефон: +70000000000Обращение (предложение, заявление, жалоба) </div>"
     },
     "metadata": {},
     "output_type": "display_data"
    }
   ],
   "source": [
    "show_span_box_markup(doc.text, doc.spans)"
   ],
   "metadata": {
    "collapsed": false,
    "ExecuteTime": {
     "end_time": "2023-11-20T09:10:09.655768300Z",
     "start_time": "2023-11-20T09:10:09.639693600Z"
    }
   },
   "id": "a23d05d70c172878"
  },
  {
   "cell_type": "code",
   "execution_count": 28,
   "outputs": [
    {
     "name": "stdout",
     "output_type": "stream",
     "text": [
      "DocSpan(stop=17, type='ORG', text='Председателю Думы', tokens=[...])\n",
      "   DocToken(stop=12, text='Председателю')\n",
      "   DocToken(start=13, stop=17, text='Думы')\n",
      "DocSpan(start=25, stop=37, type='LOC', text='Нефтеюганска', tokens=[...])\n",
      "   DocToken(start=25, stop=37, text='Нефтеюганска')\n",
      "DocSpan(start=64, stop=68, type='ORG', text='Думы', tokens=[...])\n",
      "   DocToken(start=64, stop=68, text='Думы')\n",
      "DocSpan(start=76, stop=88, type='LOC', text='Нефтеюганска', tokens=[...])\n",
      "   DocToken(start=76, stop=88, text='Нефтеюганска')\n",
      "DocSpan(start=158, stop=162, type='ORG', text='Думы', tokens=[...])\n",
      "   DocToken(start=158, stop=162, text='Думы')\n",
      "DocSpan(start=170, stop=182, type='LOC', text='Нефтеюганска', tokens=[...])\n",
      "   DocToken(start=170, stop=182, text='Нефтеюганска')\n",
      "DocSpan(start=327, stop=410, type='PER', text='Иванов Иван Иванович                             ..., tokens=[...])\n",
      "   DocToken(start=327, stop=333, text='Иванов')\n",
      "   DocToken(start=334, stop=338, text='Иван')\n",
      "   DocToken(start=339, stop=347, text='Иванович')\n",
      "   DocToken(start=405, stop=410, text='Адрес')\n",
      "DocSpan(start=425, stop=509, type='LOC', text='Нефтеюганск                                      ..., tokens=[...])\n",
      "   DocToken(start=425, stop=436, text='Нефтеюганск')\n",
      "   DocToken(start=507, stop=509, text='ул')\n"
     ]
    }
   ],
   "source": [
    "for span in doc.spans:\n",
    "    print(span)\n",
    "    for token in span.tokens:\n",
    "        print('  ',token)"
   ],
   "metadata": {
    "collapsed": false,
    "ExecuteTime": {
     "end_time": "2023-11-20T09:16:01.864319600Z",
     "start_time": "2023-11-20T09:16:01.832389900Z"
    }
   },
   "id": "754f69c0e974d0a9"
  },
  {
   "cell_type": "code",
   "execution_count": 13,
   "outputs": [],
   "source": [
    "text3='Савеловскому межрайонному прокурору г. Москвы Минькову Д. Д. 25284, г. Москва. Хорошёвское шоссе, дом 16, корп. 1 Заявитель: Шулипа Юрий Юрьевич ЗАЯВЛЕНИЕ о возбуждении дела об административном правонарушении в отношении должностного лица, по факту парушения установленного законодательством Российской Федерации порядка рассмотрения обращения гражданина В соответствии со ст. 33 Конституции РФ 10 июля 2012 года, заявитель обратился с письменным обращением по компетенции к начальнику Отдела ОУФМС России в САО по г. Москве Бородину А. Д. (копия обращения прилагается). В силу ч. 1 ст. 9 Федерального закона от 2 мая 2006 г. № 59-ФЗ «О порядке рассмотрения обращений граждан Российской Федерации»; обращение, поступившее в государственный орган, орган местного самоуправления или должностному лицу в соответствии с их компетенцией, подлежит обязательному Согласно п. 1. ч. 1 ст. 10 Федерального закона от 2 мая 2006 г. № 59-ФЗ «О порядке рассмотрению. рассмотрения обращений граждан Российской Федерации» государственный орган, орган местного самоуправления или должностное лицо: обеспечивает объективное, всестороннее и своевременное рассмотрение обращения в случае необходимости с участием гражданина, направившего обращение. Исходя из положения ст. 12 Федерального закона от 2 мая 2006 г. № 59-ФЗ «О порядке рассмотрения обращений граждан Российской Федерации»: письменное обращение, поступившее в государственный орган, орган местного самоуправления или должностному лицу в соответствии с их компетенцией, рассматривается в течение 30 дней со дня регистрации письменного обращения. Со дня регистрации письменного обращения заявителя от 10 июля 2012 года и до настоящего времени прошло более 30 дней. В нарушение ст. 12 Федерального закона от 2 мая 2006 г. № 59-ФЗ «О порядке рассмотрения обращений граждан Российской Федерации», письменный мотивированный ответ на вышеуказанное обращение заявителя за подписью начальника Отдела ОУФМС России в САО по г. Москве Бородина А. Д.. заявителю не был направлен. Кроме парушений вышеуказанных норм действующего законодательства РФ, незаконным бездействием начальника Отдела ОУФМС России в САО по г. Москве Бородина А. Д., грубо нарушены неотъемлемые федеральным законом, конституционные права заявителя, закрепленные в статьях 3 (части 1), 17, 18, 24, 33, 55 (части 3) Конституции РФ. Между тем, согласно ст. 5.59 КоАП РФ нарушение установленного законодательством Российской Федерации порядка рассмотрения обращений граждан должностными лицами государственных органов и органов местного самоуправления, за исключением случаев, предусмотренных статьями 5.39, 5.63 настоящего Кодекса, влечет наложение административного штрафа в размере от пяти тысяч до десяти тысяч рублей. Не представление письменного мотивированного ответа на вышеуказанное обращение заявителя за подписью начальника Отдела ОУФМС России в САО по г.1'"
   ],
   "metadata": {
    "collapsed": false,
    "ExecuteTime": {
     "end_time": "2023-11-20T09:07:50.940357100Z",
     "start_time": "2023-11-20T09:07:50.930828Z"
    }
   },
   "id": "74fbc3416e61d8d0"
  },
  {
   "cell_type": "code",
   "execution_count": 30,
   "outputs": [
    {
     "name": "stdout",
     "output_type": "stream",
     "text": [
      "Савеловскому межрайонному прокурору г. Москвы Минькову Д. Д. 25284, г.\n",
      "ORG────────────────────────────────    LOC─── PER──────────           \n",
      " Москва. Хорошёвское шоссе, дом 16, корп. 1 Заявитель: Шулипа Юрий \n",
      " LOC───  LOC──────────────                             PER─────────\n",
      "Юрьевич ЗАЯВЛЕНИЕ о возбуждении дела об административном \n",
      "─────── ORG──────                                        \n",
      "правонарушении в отношении должностного лица, по факту парушения \n",
      "установленного законодательством Российской Федерации порядка \n",
      "                                 LOC─────────────────         \n",
      "рассмотрения обращения гражданина В соответствии со ст. 33 Конституции\n",
      "                                  L                                   \n",
      " РФ 10 июля 2012 года, заявитель обратился с письменным обращением по \n",
      " LO                                                                   \n",
      "компетенции к начальнику Отдела ОУФМС России в САО по г. Москве \n",
      "                         ORG───────── LOC───   LOC       LOC─── \n",
      "Бородину А. Д. (копия обращения прилагается). В силу ч. 1 ст. 9 \n",
      "PER───────────                                                  \n",
      "Федерального закона от 2 мая 2006 г. № 59-ФЗ «О порядке рассмотрения \n",
      "обращений граждан Российской Федерации»; обращение, поступившее в \n",
      "                  LOC─────────────────                            \n",
      "государственный орган, орган местного самоуправления или должностному \n",
      "лицу в соответствии с их компетенцией, подлежит обязательному Согласно\n",
      " п. 1. ч. 1 ст. 10 Федерального закона от 2 мая 2006 г. № 59-ФЗ «О \n",
      "порядке рассмотрению. рассмотрения обращений граждан Российской \n",
      "                                                     LOC────────\n",
      "Федерации» государственный орган, орган местного самоуправления или \n",
      "─────────                                                           \n",
      "должностное лицо: обеспечивает объективное, всестороннее и \n",
      "своевременное рассмотрение обращения в случае необходимости с участием\n",
      " гражданина, направившего обращение. Исходя из положения ст. 12 \n",
      "Федерального закона от 2 мая 2006 г. № 59-ФЗ «О порядке рассмотрения \n",
      "обращений граждан Российской Федерации»: письменное обращение, \n",
      "                  LOC─────────────────                         \n",
      "поступившее в государственный орган, орган местного самоуправления или\n",
      " должностному лицу в соответствии с их компетенцией, рассматривается в\n",
      " течение 30 дней со дня регистрации письменного обращения. Со дня \n",
      "регистрации письменного обращения заявителя от 10 июля 2012 года и до \n",
      "настоящего времени прошло более 30 дней. В нарушение ст. 12 \n",
      "Федерального закона от 2 мая 2006 г. № 59-ФЗ «О порядке рассмотрения \n",
      "обращений граждан Российской Федерации», письменный мотивированный \n",
      "                  LOC─────────────────                             \n",
      "ответ на вышеуказанное обращение заявителя за подписью начальника \n",
      "Отдела ОУФМС России в САО по г. Москве Бородина А. Д.. заявителю не \n",
      "ORG───────── LOC───   LOC       LOC─── PER────────────              \n",
      "был направлен. Кроме парушений вышеуказанных норм действующего \n",
      "законодательства РФ, незаконным бездействием начальника Отдела ОУФМС \n",
      "                 LO                                     ORG───────── \n",
      "России в САО по г. Москве Бородина А. Д., грубо нарушены неотъемлемые \n",
      "LOC───   LOC       LOC─── PER───────────                              \n",
      "федеральным законом, конституционные права заявителя, закрепленные в \n",
      "статьях 3 (части 1), 17, 18, 24, 33, 55 (части 3) Конституции РФ. \n",
      "                                                              LO  \n",
      "Между тем, согласно ст. 5.59 КоАП РФ нарушение установленного \n",
      "                                  LO                          \n",
      "законодательством Российской Федерации порядка рассмотрения обращений \n",
      "                  LOC─────────────────                                \n",
      "граждан должностными лицами государственных органов и органов местного\n",
      " самоуправления, за исключением случаев, предусмотренных статьями \n",
      "5.39, 5.63 настоящего Кодекса, влечет наложение административного \n",
      "штрафа в размере от пяти тысяч до десяти тысяч рублей. Не \n",
      "представление письменного мотивированного ответа на вышеуказанное \n",
      "обращение заявителя за подписью начальника Отдела ОУФМС России в САО \n",
      "                                           ORG───────── LOC───   LOC \n",
      "по г.1\n"
     ]
    }
   ],
   "source": [
    "doc = Doc(text3)\n",
    "doc.segment(segmenter)\n",
    "doc.tag_ner(ner_tagger)\n",
    "doc.ner.print()"
   ],
   "metadata": {
    "collapsed": false,
    "ExecuteTime": {
     "end_time": "2023-11-20T09:21:20.023916200Z",
     "start_time": "2023-11-20T09:21:19.975675200Z"
    }
   },
   "id": "24438cc39aae1f15"
  },
  {
   "cell_type": "code",
   "execution_count": 31,
   "outputs": [
    {
     "data": {
      "text/plain": "<IPython.core.display.HTML object>",
      "text/html": "<div class=\"tex2jax_ignore\" style=\"white-space: pre-wrap\"><span style=\"padding: 2px; border-radius: 4px; border: 1px solid #bbdefb; background: #e3f2fd\">Савеловскому межрайонному прокурору<span style=\"vertical-align: middle; margin-left: 2px; font-size: 0.7em; color: #64b5f6;\">ORG</span></span> г. <span style=\"padding: 2px; border-radius: 4px; border: 1px solid #c8e6c9; background: #e8f5e9\">Москвы<span style=\"vertical-align: middle; margin-left: 2px; font-size: 0.7em; color: #66bb6a;\">LOC</span></span> <span style=\"padding: 2px; border-radius: 4px; border: 1px solid #ffcdd2; background: #ffebee\">Минькову Д. Д<span style=\"vertical-align: middle; margin-left: 2px; font-size: 0.7em; color: #e57373;\">PER</span></span>. 25284, г. <span style=\"padding: 2px; border-radius: 4px; border: 1px solid #c8e6c9; background: #e8f5e9\">Москва<span style=\"vertical-align: middle; margin-left: 2px; font-size: 0.7em; color: #66bb6a;\">LOC</span></span>. <span style=\"padding: 2px; border-radius: 4px; border: 1px solid #c8e6c9; background: #e8f5e9\">Хорошёвское шоссе<span style=\"vertical-align: middle; margin-left: 2px; font-size: 0.7em; color: #66bb6a;\">LOC</span></span>, дом 16, корп. 1 Заявитель: <span style=\"padding: 2px; border-radius: 4px; border: 1px solid #ffcdd2; background: #ffebee\">Шулипа Юрий Юрьевич<span style=\"vertical-align: middle; margin-left: 2px; font-size: 0.7em; color: #e57373;\">PER</span></span> <span style=\"padding: 2px; border-radius: 4px; border: 1px solid #bbdefb; background: #e3f2fd\">ЗАЯВЛЕНИЕ<span style=\"vertical-align: middle; margin-left: 2px; font-size: 0.7em; color: #64b5f6;\">ORG</span></span> о возбуждении дела об административном правонарушении в отношении должностного лица, по факту парушения установленного законодательством <span style=\"padding: 2px; border-radius: 4px; border: 1px solid #c8e6c9; background: #e8f5e9\">Российской Федерации<span style=\"vertical-align: middle; margin-left: 2px; font-size: 0.7em; color: #66bb6a;\">LOC</span></span> порядка рассмотрения обращения гражданина <span style=\"padding: 2px; border-radius: 4px; border: 1px solid #c8e6c9; background: #e8f5e9\">В<span style=\"vertical-align: middle; margin-left: 2px; font-size: 0.7em; color: #66bb6a;\">LOC</span></span> соответствии со ст. 33 Конституции <span style=\"padding: 2px; border-radius: 4px; border: 1px solid #c8e6c9; background: #e8f5e9\">РФ<span style=\"vertical-align: middle; margin-left: 2px; font-size: 0.7em; color: #66bb6a;\">LOC</span></span> 10 июля 2012 года, заявитель обратился с письменным обращением по компетенции к начальнику <span style=\"padding: 2px; border-radius: 4px; border: 1px solid #bbdefb; background: #e3f2fd\">Отдела ОУФМС<span style=\"vertical-align: middle; margin-left: 2px; font-size: 0.7em; color: #64b5f6;\">ORG</span></span> <span style=\"padding: 2px; border-radius: 4px; border: 1px solid #c8e6c9; background: #e8f5e9\">России<span style=\"vertical-align: middle; margin-left: 2px; font-size: 0.7em; color: #66bb6a;\">LOC</span></span> в <span style=\"padding: 2px; border-radius: 4px; border: 1px solid #c8e6c9; background: #e8f5e9\">САО<span style=\"vertical-align: middle; margin-left: 2px; font-size: 0.7em; color: #66bb6a;\">LOC</span></span> по г. <span style=\"padding: 2px; border-radius: 4px; border: 1px solid #c8e6c9; background: #e8f5e9\">Москве<span style=\"vertical-align: middle; margin-left: 2px; font-size: 0.7em; color: #66bb6a;\">LOC</span></span> <span style=\"padding: 2px; border-radius: 4px; border: 1px solid #ffcdd2; background: #ffebee\">Бородину А. Д.<span style=\"vertical-align: middle; margin-left: 2px; font-size: 0.7em; color: #e57373;\">PER</span></span> (копия обращения прилагается). В силу ч. 1 ст. 9 Федерального закона от 2 мая 2006 г. № 59-ФЗ «О порядке рассмотрения обращений граждан <span style=\"padding: 2px; border-radius: 4px; border: 1px solid #c8e6c9; background: #e8f5e9\">Российской Федерации<span style=\"vertical-align: middle; margin-left: 2px; font-size: 0.7em; color: #66bb6a;\">LOC</span></span>»; обращение, поступившее в государственный орган, орган местного самоуправления или должностному лицу в соответствии с их компетенцией, подлежит обязательному Согласно п. 1. ч. 1 ст. 10 Федерального закона от 2 мая 2006 г. № 59-ФЗ «О порядке рассмотрению. рассмотрения обращений граждан <span style=\"padding: 2px; border-radius: 4px; border: 1px solid #c8e6c9; background: #e8f5e9\">Российской Федерации<span style=\"vertical-align: middle; margin-left: 2px; font-size: 0.7em; color: #66bb6a;\">LOC</span></span>» государственный орган, орган местного самоуправления или должностное лицо: обеспечивает объективное, всестороннее и своевременное рассмотрение обращения в случае необходимости с участием гражданина, направившего обращение. Исходя из положения ст. 12 Федерального закона от 2 мая 2006 г. № 59-ФЗ «О порядке рассмотрения обращений граждан <span style=\"padding: 2px; border-radius: 4px; border: 1px solid #c8e6c9; background: #e8f5e9\">Российской Федерации<span style=\"vertical-align: middle; margin-left: 2px; font-size: 0.7em; color: #66bb6a;\">LOC</span></span>»: письменное обращение, поступившее в государственный орган, орган местного самоуправления или должностному лицу в соответствии с их компетенцией, рассматривается в течение 30 дней со дня регистрации письменного обращения. Со дня регистрации письменного обращения заявителя от 10 июля 2012 года и до настоящего времени прошло более 30 дней. В нарушение ст. 12 Федерального закона от 2 мая 2006 г. № 59-ФЗ «О порядке рассмотрения обращений граждан <span style=\"padding: 2px; border-radius: 4px; border: 1px solid #c8e6c9; background: #e8f5e9\">Российской Федерации<span style=\"vertical-align: middle; margin-left: 2px; font-size: 0.7em; color: #66bb6a;\">LOC</span></span>», письменный мотивированный ответ на вышеуказанное обращение заявителя за подписью начальника <span style=\"padding: 2px; border-radius: 4px; border: 1px solid #bbdefb; background: #e3f2fd\">Отдела ОУФМС<span style=\"vertical-align: middle; margin-left: 2px; font-size: 0.7em; color: #64b5f6;\">ORG</span></span> <span style=\"padding: 2px; border-radius: 4px; border: 1px solid #c8e6c9; background: #e8f5e9\">России<span style=\"vertical-align: middle; margin-left: 2px; font-size: 0.7em; color: #66bb6a;\">LOC</span></span> в <span style=\"padding: 2px; border-radius: 4px; border: 1px solid #c8e6c9; background: #e8f5e9\">САО<span style=\"vertical-align: middle; margin-left: 2px; font-size: 0.7em; color: #66bb6a;\">LOC</span></span> по г. <span style=\"padding: 2px; border-radius: 4px; border: 1px solid #c8e6c9; background: #e8f5e9\">Москве<span style=\"vertical-align: middle; margin-left: 2px; font-size: 0.7em; color: #66bb6a;\">LOC</span></span> <span style=\"padding: 2px; border-radius: 4px; border: 1px solid #ffcdd2; background: #ffebee\">Бородина А. Д..<span style=\"vertical-align: middle; margin-left: 2px; font-size: 0.7em; color: #e57373;\">PER</span></span> заявителю не был направлен. Кроме парушений вышеуказанных норм действующего законодательства <span style=\"padding: 2px; border-radius: 4px; border: 1px solid #c8e6c9; background: #e8f5e9\">РФ<span style=\"vertical-align: middle; margin-left: 2px; font-size: 0.7em; color: #66bb6a;\">LOC</span></span>, незаконным бездействием начальника <span style=\"padding: 2px; border-radius: 4px; border: 1px solid #bbdefb; background: #e3f2fd\">Отдела ОУФМС<span style=\"vertical-align: middle; margin-left: 2px; font-size: 0.7em; color: #64b5f6;\">ORG</span></span> <span style=\"padding: 2px; border-radius: 4px; border: 1px solid #c8e6c9; background: #e8f5e9\">России<span style=\"vertical-align: middle; margin-left: 2px; font-size: 0.7em; color: #66bb6a;\">LOC</span></span> в <span style=\"padding: 2px; border-radius: 4px; border: 1px solid #c8e6c9; background: #e8f5e9\">САО<span style=\"vertical-align: middle; margin-left: 2px; font-size: 0.7em; color: #66bb6a;\">LOC</span></span> по г. <span style=\"padding: 2px; border-radius: 4px; border: 1px solid #c8e6c9; background: #e8f5e9\">Москве<span style=\"vertical-align: middle; margin-left: 2px; font-size: 0.7em; color: #66bb6a;\">LOC</span></span> <span style=\"padding: 2px; border-radius: 4px; border: 1px solid #ffcdd2; background: #ffebee\">Бородина А. Д.<span style=\"vertical-align: middle; margin-left: 2px; font-size: 0.7em; color: #e57373;\">PER</span></span>, грубо нарушены неотъемлемые федеральным законом, конституционные права заявителя, закрепленные в статьях 3 (части 1), 17, 18, 24, 33, 55 (части 3) Конституции <span style=\"padding: 2px; border-radius: 4px; border: 1px solid #c8e6c9; background: #e8f5e9\">РФ<span style=\"vertical-align: middle; margin-left: 2px; font-size: 0.7em; color: #66bb6a;\">LOC</span></span>. Между тем, согласно ст. 5.59 КоАП <span style=\"padding: 2px; border-radius: 4px; border: 1px solid #c8e6c9; background: #e8f5e9\">РФ<span style=\"vertical-align: middle; margin-left: 2px; font-size: 0.7em; color: #66bb6a;\">LOC</span></span> нарушение установленного законодательством <span style=\"padding: 2px; border-radius: 4px; border: 1px solid #c8e6c9; background: #e8f5e9\">Российской Федерации<span style=\"vertical-align: middle; margin-left: 2px; font-size: 0.7em; color: #66bb6a;\">LOC</span></span> порядка рассмотрения обращений граждан должностными лицами государственных органов и органов местного самоуправления, за исключением случаев, предусмотренных статьями 5.39, 5.63 настоящего Кодекса, влечет наложение административного штрафа в размере от пяти тысяч до десяти тысяч рублей. Не представление письменного мотивированного ответа на вышеуказанное обращение заявителя за подписью начальника <span style=\"padding: 2px; border-radius: 4px; border: 1px solid #bbdefb; background: #e3f2fd\">Отдела ОУФМС<span style=\"vertical-align: middle; margin-left: 2px; font-size: 0.7em; color: #64b5f6;\">ORG</span></span> <span style=\"padding: 2px; border-radius: 4px; border: 1px solid #c8e6c9; background: #e8f5e9\">России<span style=\"vertical-align: middle; margin-left: 2px; font-size: 0.7em; color: #66bb6a;\">LOC</span></span> в <span style=\"padding: 2px; border-radius: 4px; border: 1px solid #c8e6c9; background: #e8f5e9\">САО<span style=\"vertical-align: middle; margin-left: 2px; font-size: 0.7em; color: #66bb6a;\">LOC</span></span> по г.1</div>"
     },
     "metadata": {},
     "output_type": "display_data"
    }
   ],
   "source": [
    "show_span_box_markup(doc.text, doc.spans)"
   ],
   "metadata": {
    "collapsed": false,
    "ExecuteTime": {
     "end_time": "2023-11-20T09:21:20.957995600Z",
     "start_time": "2023-11-20T09:21:20.944007300Z"
    }
   },
   "id": "756437934619a922"
  },
  {
   "cell_type": "code",
   "execution_count": 32,
   "outputs": [
    {
     "name": "stdout",
     "output_type": "stream",
     "text": [
      "DocSpan(stop=35, type='ORG', text='Савеловскому межрайонному прокурору', tokens=[...])\n",
      "   DocToken(stop=12, text='Савеловскому')\n",
      "   DocToken(start=13, stop=25, text='межрайонному')\n",
      "   DocToken(start=26, stop=35, text='прокурору')\n",
      "DocSpan(start=39, stop=45, type='LOC', text='Москвы', tokens=[...])\n",
      "   DocToken(start=39, stop=45, text='Москвы')\n",
      "DocSpan(start=46, stop=59, type='PER', text='Минькову Д. Д', tokens=[...])\n",
      "   DocToken(start=46, stop=54, text='Минькову')\n",
      "   DocToken(start=55, stop=56, text='Д')\n",
      "   DocToken(start=56, stop=57, text='.')\n",
      "   DocToken(start=58, stop=59, text='Д')\n",
      "DocSpan(start=71, stop=77, type='LOC', text='Москва', tokens=[...])\n",
      "   DocToken(start=71, stop=77, text='Москва')\n",
      "DocSpan(start=79, stop=96, type='LOC', text='Хорошёвское шоссе', tokens=[...])\n",
      "   DocToken(start=79, stop=90, text='Хорошёвское')\n",
      "   DocToken(start=91, stop=96, text='шоссе')\n",
      "DocSpan(start=125, stop=144, type='PER', text='Шулипа Юрий Юрьевич', tokens=[...])\n",
      "   DocToken(start=125, stop=131, text='Шулипа')\n",
      "   DocToken(start=132, stop=136, text='Юрий')\n",
      "   DocToken(start=137, stop=144, text='Юрьевич')\n",
      "DocSpan(start=145, stop=154, type='ORG', text='ЗАЯВЛЕНИЕ', tokens=[...])\n",
      "   DocToken(start=145, stop=154, text='ЗАЯВЛЕНИЕ')\n",
      "DocSpan(start=292, stop=312, type='LOC', text='Российской Федерации', tokens=[...])\n",
      "   DocToken(start=292, stop=302, text='Российской')\n",
      "   DocToken(start=303, stop=312, text='Федерации')\n",
      "DocSpan(start=355, stop=356, type='LOC', text='В', tokens=[...])\n",
      "   DocToken(start=355, stop=356, text='В')\n",
      "DocSpan(start=392, stop=394, type='LOC', text='РФ', tokens=[...])\n",
      "   DocToken(start=392, stop=394, text='РФ')\n",
      "DocSpan(start=486, stop=498, type='ORG', text='Отдела ОУФМС', tokens=[...])\n",
      "   DocToken(start=486, stop=492, text='Отдела')\n",
      "   DocToken(start=493, stop=498, text='ОУФМС')\n",
      "DocSpan(start=499, stop=505, type='LOC', text='России', tokens=[...])\n",
      "   DocToken(start=499, stop=505, text='России')\n",
      "DocSpan(start=508, stop=511, type='LOC', text='САО', tokens=[...])\n",
      "   DocToken(start=508, stop=511, text='САО')\n",
      "DocSpan(start=518, stop=524, type='LOC', text='Москве', tokens=[...])\n",
      "   DocToken(start=518, stop=524, text='Москве')\n",
      "DocSpan(start=525, stop=539, type='PER', text='Бородину А. Д.', tokens=[...])\n",
      "   DocToken(start=525, stop=533, text='Бородину')\n",
      "   DocToken(start=534, stop=535, text='А')\n",
      "   DocToken(start=535, stop=536, text='.')\n",
      "   DocToken(start=537, stop=538, text='Д')\n",
      "   DocToken(start=538, stop=539, text='.')\n",
      "DocSpan(start=676, stop=696, type='LOC', text='Российской Федерации', tokens=[...])\n",
      "   DocToken(start=676, stop=686, text='Российской')\n",
      "   DocToken(start=687, stop=696, text='Федерации')\n",
      "DocSpan(start=984, stop=1004, type='LOC', text='Российской Федерации', tokens=[...])\n",
      "   DocToken(start=984, stop=994, text='Российской')\n",
      "   DocToken(start=995, stop=1004, text='Федерации')\n",
      "DocSpan(start=1343, stop=1363, type='LOC', text='Российской Федерации', tokens=[...])\n",
      "   DocToken(start=1343, stop=1353, text='Российской')\n",
      "   DocToken(start=1354, stop=1363, text='Федерации')\n",
      "DocSpan(start=1811, stop=1831, type='LOC', text='Российской Федерации', tokens=[...])\n",
      "   DocToken(start=1811, stop=1821, text='Российской')\n",
      "   DocToken(start=1822, stop=1831, text='Федерации')\n",
      "DocSpan(start=1926, stop=1938, type='ORG', text='Отдела ОУФМС', tokens=[...])\n",
      "   DocToken(start=1926, stop=1932, text='Отдела')\n",
      "   DocToken(start=1933, stop=1938, text='ОУФМС')\n",
      "DocSpan(start=1939, stop=1945, type='LOC', text='России', tokens=[...])\n",
      "   DocToken(start=1939, stop=1945, text='России')\n",
      "DocSpan(start=1948, stop=1951, type='LOC', text='САО', tokens=[...])\n",
      "   DocToken(start=1948, stop=1951, text='САО')\n",
      "DocSpan(start=1958, stop=1964, type='LOC', text='Москве', tokens=[...])\n",
      "   DocToken(start=1958, stop=1964, text='Москве')\n",
      "DocSpan(start=1965, stop=1980, type='PER', text='Бородина А. Д..', tokens=[...])\n",
      "   DocToken(start=1965, stop=1973, text='Бородина')\n",
      "   DocToken(start=1974, stop=1975, text='А')\n",
      "   DocToken(start=1975, stop=1976, text='.')\n",
      "   DocToken(start=1977, stop=1978, text='Д')\n",
      "   DocToken(start=1978, stop=1980, text='..')\n",
      "DocSpan(start=2074, stop=2076, type='LOC', text='РФ', tokens=[...])\n",
      "   DocToken(start=2074, stop=2076, text='РФ')\n",
      "DocSpan(start=2113, stop=2125, type='ORG', text='Отдела ОУФМС', tokens=[...])\n",
      "   DocToken(start=2113, stop=2119, text='Отдела')\n",
      "   DocToken(start=2120, stop=2125, text='ОУФМС')\n",
      "DocSpan(start=2126, stop=2132, type='LOC', text='России', tokens=[...])\n",
      "   DocToken(start=2126, stop=2132, text='России')\n",
      "DocSpan(start=2135, stop=2138, type='LOC', text='САО', tokens=[...])\n",
      "   DocToken(start=2135, stop=2138, text='САО')\n",
      "DocSpan(start=2145, stop=2151, type='LOC', text='Москве', tokens=[...])\n",
      "   DocToken(start=2145, stop=2151, text='Москве')\n",
      "DocSpan(start=2152, stop=2166, type='PER', text='Бородина А. Д.', tokens=[...])\n",
      "   DocToken(start=2152, stop=2160, text='Бородина')\n",
      "   DocToken(start=2161, stop=2162, text='А')\n",
      "   DocToken(start=2162, stop=2163, text='.')\n",
      "   DocToken(start=2164, stop=2165, text='Д')\n",
      "   DocToken(start=2165, stop=2166, text='.')\n",
      "DocSpan(start=2327, stop=2329, type='LOC', text='РФ', tokens=[...])\n",
      "   DocToken(start=2327, stop=2329, text='РФ')\n",
      "DocSpan(start=2365, stop=2367, type='LOC', text='РФ', tokens=[...])\n",
      "   DocToken(start=2365, stop=2367, text='РФ')\n",
      "DocSpan(start=2411, stop=2431, type='LOC', text='Российской Федерации', tokens=[...])\n",
      "   DocToken(start=2411, stop=2421, text='Российской')\n",
      "   DocToken(start=2422, stop=2431, text='Федерации')\n",
      "DocSpan(start=2832, stop=2844, type='ORG', text='Отдела ОУФМС', tokens=[...])\n",
      "   DocToken(start=2832, stop=2838, text='Отдела')\n",
      "   DocToken(start=2839, stop=2844, text='ОУФМС')\n",
      "DocSpan(start=2845, stop=2851, type='LOC', text='России', tokens=[...])\n",
      "   DocToken(start=2845, stop=2851, text='России')\n",
      "DocSpan(start=2854, stop=2857, type='LOC', text='САО', tokens=[...])\n",
      "   DocToken(start=2854, stop=2857, text='САО')\n"
     ]
    }
   ],
   "source": [
    "for span in doc.spans:\n",
    "    print(span)\n",
    "    for token in span.tokens:\n",
    "        print('  ',token)"
   ],
   "metadata": {
    "collapsed": false,
    "ExecuteTime": {
     "end_time": "2023-11-20T09:21:21.760910800Z",
     "start_time": "2023-11-20T09:21:21.755606Z"
    }
   },
   "id": "8ba547c39f12463b"
  },
  {
   "cell_type": "code",
   "execution_count": 36,
   "outputs": [
    {
     "name": "stdout",
     "output_type": "stream",
     "text": [
      "Москвы\n",
      "Москва\n",
      "Хорошёвское шоссе\n",
      "Российской Федерации\n",
      "В\n",
      "РФ\n",
      "России\n",
      "САО\n",
      "Москве\n",
      "Российской Федерации\n",
      "Российской Федерации\n",
      "Российской Федерации\n",
      "Российской Федерации\n",
      "России\n",
      "САО\n",
      "Москве\n",
      "РФ\n",
      "России\n",
      "САО\n",
      "Москве\n",
      "РФ\n",
      "РФ\n",
      "Российской Федерации\n",
      "России\n",
      "САО\n"
     ]
    }
   ],
   "source": [
    "for span in doc.spans:\n",
    "    if span.type != 'LOC':\n",
    "        continue\n",
    "    print(span.text)"
   ],
   "metadata": {
    "collapsed": false,
    "ExecuteTime": {
     "end_time": "2023-11-20T09:27:38.758537600Z",
     "start_time": "2023-11-20T09:27:38.697014300Z"
    }
   },
   "id": "a2b75438482bb93b"
  },
  {
   "cell_type": "code",
   "execution_count": 37,
   "outputs": [],
   "source": [
    "text4='Директору ГБОУ «Школа № 1527» Кадыковой Елене Владимировне KadykovaEV@edu.mos.ru , 1527@edu.mos.ru Адрес: 115470, г.Москва, пр-кт Андропова, дом 17, корпус 5. Копия: в Южное окружное управление департамента образования города Москвы Адрес: г.Москва, Высокая улица, 14.        от Родителей учеников 6 «В» класса,) указанных ниже в подписях КОЛЛЕКТИВНАЯ ЖАЛОБА Уважаемая Елена Владимировна! С «19» октября 2020 года, с началом введения дистанционного обучения в системе МЭШ для 6-11 классов в связи с эпидемией COVID-19, наши дети, ученики 6 &quot;В&quot; класса не могут ежедневно подключиться к одному или нескольким урокам.'"
   ],
   "metadata": {
    "collapsed": false,
    "ExecuteTime": {
     "end_time": "2023-11-20T09:33:37.537162900Z",
     "start_time": "2023-11-20T09:33:37.512681800Z"
    }
   },
   "id": "de976c7f147269f5"
  },
  {
   "cell_type": "code",
   "execution_count": 38,
   "outputs": [
    {
     "name": "stdout",
     "output_type": "stream",
     "text": [
      "Директору ГБОУ «Школа № 1527» Кадыковой Елене Владимировне \n",
      "          ORG───────────────  PER───────────────────────── \n",
      "KadykovaEV@edu.mos.ru , 1527@edu.mos.ru Адрес: 115470, г.Москва, пр-кт\n",
      "                                                         LOC───       \n",
      " Андропова, дом 17, корпус 5. Копия: в Южное окружное управление \n",
      " PER──────                             ORG───────────────────────\n",
      "департамента образования города Москвы Адрес: г.Москва, Высокая улица,\n",
      "────────────                    LOC───          LOC───  LOC────────── \n",
      " 14.        от Родителей учеников 6 «В» класса,) указанных ниже в \n",
      "подписях КОЛЛЕКТИВНАЯ ЖАЛОБА Уважаемая Елена Владимировна! С «19» \n",
      "                                       PER───────────────         \n",
      "октября 2020 года, с началом введения дистанционного обучения в \n",
      "системе МЭШ для 6-11 классов в связи с эпидемией COVID-19, наши дети, \n",
      "ученики 6 &quot;В&quot; класса не могут ежедневно подключиться к \n",
      "        ORG────  ORG──                                           \n",
      "одному или нескольким урокам.\n"
     ]
    }
   ],
   "source": [
    "doc = Doc(text4)\n",
    "doc.segment(segmenter)\n",
    "doc.tag_ner(ner_tagger)\n",
    "doc.ner.print()"
   ],
   "metadata": {
    "collapsed": false,
    "ExecuteTime": {
     "end_time": "2023-11-20T09:34:18.093577400Z",
     "start_time": "2023-11-20T09:34:18.063504900Z"
    }
   },
   "id": "27033d84dfcf5435"
  },
  {
   "cell_type": "code",
   "execution_count": 39,
   "outputs": [
    {
     "data": {
      "text/plain": "<IPython.core.display.HTML object>",
      "text/html": "<div class=\"tex2jax_ignore\" style=\"white-space: pre-wrap\">Директору <span style=\"padding: 2px; border-radius: 4px; border: 1px solid #bbdefb; background: #e3f2fd\">ГБОУ «Школа № 1527<span style=\"vertical-align: middle; margin-left: 2px; font-size: 0.7em; color: #64b5f6;\">ORG</span></span>» <span style=\"padding: 2px; border-radius: 4px; border: 1px solid #ffcdd2; background: #ffebee\">Кадыковой Елене Владимировне<span style=\"vertical-align: middle; margin-left: 2px; font-size: 0.7em; color: #e57373;\">PER</span></span> KadykovaEV@edu.mos.ru , 1527@edu.mos.ru Адрес: 115470, г.<span style=\"padding: 2px; border-radius: 4px; border: 1px solid #c8e6c9; background: #e8f5e9\">Москва<span style=\"vertical-align: middle; margin-left: 2px; font-size: 0.7em; color: #66bb6a;\">LOC</span></span>, пр-кт <span style=\"padding: 2px; border-radius: 4px; border: 1px solid #ffcdd2; background: #ffebee\">Андропова<span style=\"vertical-align: middle; margin-left: 2px; font-size: 0.7em; color: #e57373;\">PER</span></span>, дом 17, корпус 5. Копия: в <span style=\"padding: 2px; border-radius: 4px; border: 1px solid #bbdefb; background: #e3f2fd\">Южное окружное управление департамента<span style=\"vertical-align: middle; margin-left: 2px; font-size: 0.7em; color: #64b5f6;\">ORG</span></span> образования города <span style=\"padding: 2px; border-radius: 4px; border: 1px solid #c8e6c9; background: #e8f5e9\">Москвы<span style=\"vertical-align: middle; margin-left: 2px; font-size: 0.7em; color: #66bb6a;\">LOC</span></span> Адрес: г.<span style=\"padding: 2px; border-radius: 4px; border: 1px solid #c8e6c9; background: #e8f5e9\">Москва<span style=\"vertical-align: middle; margin-left: 2px; font-size: 0.7em; color: #66bb6a;\">LOC</span></span>, <span style=\"padding: 2px; border-radius: 4px; border: 1px solid #c8e6c9; background: #e8f5e9\">Высокая улица<span style=\"vertical-align: middle; margin-left: 2px; font-size: 0.7em; color: #66bb6a;\">LOC</span></span>, 14.        от Родителей учеников 6 «В» класса,) указанных ниже в подписях КОЛЛЕКТИВНАЯ ЖАЛОБА Уважаемая <span style=\"padding: 2px; border-radius: 4px; border: 1px solid #ffcdd2; background: #ffebee\">Елена Владимировна<span style=\"vertical-align: middle; margin-left: 2px; font-size: 0.7em; color: #e57373;\">PER</span></span>! С «19» октября 2020 года, с началом введения дистанционного обучения в системе МЭШ для 6-11 классов в связи с эпидемией COVID-19, наши дети, ученики <span style=\"padding: 2px; border-radius: 4px; border: 1px solid #bbdefb; background: #e3f2fd\">6 &amp;quot<span style=\"vertical-align: middle; margin-left: 2px; font-size: 0.7em; color: #64b5f6;\">ORG</span></span>;В<span style=\"padding: 2px; border-radius: 4px; border: 1px solid #bbdefb; background: #e3f2fd\">&amp;quot<span style=\"vertical-align: middle; margin-left: 2px; font-size: 0.7em; color: #64b5f6;\">ORG</span></span>; класса не могут ежедневно подключиться к одному или нескольким урокам.</div>"
     },
     "metadata": {},
     "output_type": "display_data"
    }
   ],
   "source": [
    "show_span_box_markup(doc.text, doc.spans)"
   ],
   "metadata": {
    "collapsed": false,
    "ExecuteTime": {
     "end_time": "2023-11-20T09:34:56.405169100Z",
     "start_time": "2023-11-20T09:34:56.397127400Z"
    }
   },
   "id": "cef5b45f0a9f9b3d"
  },
  {
   "cell_type": "code",
   "execution_count": null,
   "outputs": [],
   "source": [],
   "metadata": {
    "collapsed": false
   },
   "id": "ee1b5273013867e7"
  }
 ],
 "metadata": {
  "kernelspec": {
   "display_name": "Python 3",
   "language": "python",
   "name": "python3"
  },
  "language_info": {
   "codemirror_mode": {
    "name": "ipython",
    "version": 2
   },
   "file_extension": ".py",
   "mimetype": "text/x-python",
   "name": "python",
   "nbconvert_exporter": "python",
   "pygments_lexer": "ipython2",
   "version": "2.7.6"
  }
 },
 "nbformat": 4,
 "nbformat_minor": 5
}
