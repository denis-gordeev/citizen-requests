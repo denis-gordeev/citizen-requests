{
 "cells": [
  {
   "cell_type": "code",
   "execution_count": 1,
   "outputs": [],
   "source": [
    "import pandas as pd"
   ],
   "metadata": {
    "collapsed": false,
    "ExecuteTime": {
     "end_time": "2023-11-25T06:44:51.580436500Z",
     "start_time": "2023-11-25T06:44:51.100987100Z"
    }
   },
   "id": "8543728dd0650672"
  },
  {
   "cell_type": "code",
   "execution_count": 2,
   "outputs": [
    {
     "name": "stdout",
     "output_type": "stream",
     "text": [
      "Python 3.10.8\n"
     ]
    }
   ],
   "source": [
    "!python --version"
   ],
   "metadata": {
    "collapsed": false,
    "ExecuteTime": {
     "end_time": "2023-11-25T06:45:02.282276100Z",
     "start_time": "2023-11-25T06:45:02.187940400Z"
    }
   },
   "id": "deb2edc97dc71139"
  },
  {
   "cell_type": "code",
   "execution_count": 3,
   "id": "initial_id",
   "metadata": {
    "collapsed": true,
    "ExecuteTime": {
     "end_time": "2023-11-25T06:45:10.658312300Z",
     "start_time": "2023-11-25T06:45:10.615741100Z"
    }
   },
   "outputs": [],
   "source": [
    "# from pymystem3 import Mystem"
   ]
  },
  {
   "cell_type": "code",
   "execution_count": 4,
   "outputs": [],
   "source": [
    "df = pd.read_csv('../data/train_dataset_train.csv', sep=';')"
   ],
   "metadata": {
    "collapsed": false,
    "ExecuteTime": {
     "end_time": "2023-11-25T06:45:14.891142300Z",
     "start_time": "2023-11-25T06:45:14.619630900Z"
    }
   },
   "id": "3b1cc0223df1bbd1"
  },
  {
   "cell_type": "code",
   "execution_count": 5,
   "outputs": [
    {
     "data": {
      "text/plain": "                            Исполнитель                        Группа тем  \\\n0           Лысьвенский городской округ                   Благоустройство   \n1  Министерство социального развития ПК  Социальное обслуживание и защита   \n2  Министерство социального развития ПК  Социальное обслуживание и защита   \n3                           Город Пермь            Общественный транспорт   \n4          Министерство здравоохранения          Здравоохранение/Медицина   \n\n                                     Текст инцидента  \\\n0  'Добрый день. Сегодня, 20.08.22, моя мать шла ...   \n1  'Пермь г, +79194692145. В Перми с ноября 2021 ...   \n2  'Добрый день ! Скажите пожалуйста если подовал...   \n3  'Каждая из них не о чем. Люди на остановках хо...   \n4  'В Березниках у сына привитого откоронавируса ...   \n\n                                              Тема  \n0                                  ★ Ямы во дворах  \n1                        Оказание гос. соц. помощи  \n2                         Дети и многодетные семьи  \n3                             Содержание остановок  \n4  Технические проблемы с записью на прием к врачу  ",
      "text/html": "<div>\n<style scoped>\n    .dataframe tbody tr th:only-of-type {\n        vertical-align: middle;\n    }\n\n    .dataframe tbody tr th {\n        vertical-align: top;\n    }\n\n    .dataframe thead th {\n        text-align: right;\n    }\n</style>\n<table border=\"1\" class=\"dataframe\">\n  <thead>\n    <tr style=\"text-align: right;\">\n      <th></th>\n      <th>Исполнитель</th>\n      <th>Группа тем</th>\n      <th>Текст инцидента</th>\n      <th>Тема</th>\n    </tr>\n  </thead>\n  <tbody>\n    <tr>\n      <th>0</th>\n      <td>Лысьвенский городской округ</td>\n      <td>Благоустройство</td>\n      <td>'Добрый день. Сегодня, 20.08.22, моя мать шла ...</td>\n      <td>★ Ямы во дворах</td>\n    </tr>\n    <tr>\n      <th>1</th>\n      <td>Министерство социального развития ПК</td>\n      <td>Социальное обслуживание и защита</td>\n      <td>'Пермь г, +79194692145. В Перми с ноября 2021 ...</td>\n      <td>Оказание гос. соц. помощи</td>\n    </tr>\n    <tr>\n      <th>2</th>\n      <td>Министерство социального развития ПК</td>\n      <td>Социальное обслуживание и защита</td>\n      <td>'Добрый день ! Скажите пожалуйста если подовал...</td>\n      <td>Дети и многодетные семьи</td>\n    </tr>\n    <tr>\n      <th>3</th>\n      <td>Город Пермь</td>\n      <td>Общественный транспорт</td>\n      <td>'Каждая из них не о чем. Люди на остановках хо...</td>\n      <td>Содержание остановок</td>\n    </tr>\n    <tr>\n      <th>4</th>\n      <td>Министерство здравоохранения</td>\n      <td>Здравоохранение/Медицина</td>\n      <td>'В Березниках у сына привитого откоронавируса ...</td>\n      <td>Технические проблемы с записью на прием к врачу</td>\n    </tr>\n  </tbody>\n</table>\n</div>"
     },
     "execution_count": 5,
     "metadata": {},
     "output_type": "execute_result"
    }
   ],
   "source": [
    "df.head()"
   ],
   "metadata": {
    "collapsed": false,
    "ExecuteTime": {
     "end_time": "2023-11-25T06:45:15.161305500Z",
     "start_time": "2023-11-25T06:45:15.082384700Z"
    }
   },
   "id": "650d06ff794f4581"
  },
  {
   "cell_type": "code",
   "execution_count": 6,
   "outputs": [
    {
     "data": {
      "text/plain": "Index(['Исполнитель', 'Группа тем', 'Текст инцидента', 'Тема'], dtype='object')"
     },
     "execution_count": 6,
     "metadata": {},
     "output_type": "execute_result"
    }
   ],
   "source": [
    "df.columns"
   ],
   "metadata": {
    "collapsed": false,
    "ExecuteTime": {
     "end_time": "2023-11-25T06:45:16.151713600Z",
     "start_time": "2023-11-25T06:45:16.123667700Z"
    }
   },
   "id": "9f997ea05bb70c27"
  },
  {
   "cell_type": "code",
   "execution_count": 7,
   "outputs": [],
   "source": [
    "df.rename(columns={'Группа тем': 'group', 'Текст инцидента': 'incident', 'Тема': 'subject'}, inplace=True)"
   ],
   "metadata": {
    "collapsed": false,
    "ExecuteTime": {
     "end_time": "2023-11-25T06:45:16.742868500Z",
     "start_time": "2023-11-25T06:45:16.696611Z"
    }
   },
   "id": "ef2c69ef0e3bb88e"
  },
  {
   "cell_type": "code",
   "execution_count": 8,
   "outputs": [
    {
     "data": {
      "text/plain": "                            Исполнитель                             group  \\\n0           Лысьвенский городской округ                   Благоустройство   \n1  Министерство социального развития ПК  Социальное обслуживание и защита   \n2  Министерство социального развития ПК  Социальное обслуживание и защита   \n3                           Город Пермь            Общественный транспорт   \n4          Министерство здравоохранения          Здравоохранение/Медицина   \n\n                                            incident  \\\n0  'Добрый день. Сегодня, 20.08.22, моя мать шла ...   \n1  'Пермь г, +79194692145. В Перми с ноября 2021 ...   \n2  'Добрый день ! Скажите пожалуйста если подовал...   \n3  'Каждая из них не о чем. Люди на остановках хо...   \n4  'В Березниках у сына привитого откоронавируса ...   \n\n                                           subject  \n0                                  ★ Ямы во дворах  \n1                        Оказание гос. соц. помощи  \n2                         Дети и многодетные семьи  \n3                             Содержание остановок  \n4  Технические проблемы с записью на прием к врачу  ",
      "text/html": "<div>\n<style scoped>\n    .dataframe tbody tr th:only-of-type {\n        vertical-align: middle;\n    }\n\n    .dataframe tbody tr th {\n        vertical-align: top;\n    }\n\n    .dataframe thead th {\n        text-align: right;\n    }\n</style>\n<table border=\"1\" class=\"dataframe\">\n  <thead>\n    <tr style=\"text-align: right;\">\n      <th></th>\n      <th>Исполнитель</th>\n      <th>group</th>\n      <th>incident</th>\n      <th>subject</th>\n    </tr>\n  </thead>\n  <tbody>\n    <tr>\n      <th>0</th>\n      <td>Лысьвенский городской округ</td>\n      <td>Благоустройство</td>\n      <td>'Добрый день. Сегодня, 20.08.22, моя мать шла ...</td>\n      <td>★ Ямы во дворах</td>\n    </tr>\n    <tr>\n      <th>1</th>\n      <td>Министерство социального развития ПК</td>\n      <td>Социальное обслуживание и защита</td>\n      <td>'Пермь г, +79194692145. В Перми с ноября 2021 ...</td>\n      <td>Оказание гос. соц. помощи</td>\n    </tr>\n    <tr>\n      <th>2</th>\n      <td>Министерство социального развития ПК</td>\n      <td>Социальное обслуживание и защита</td>\n      <td>'Добрый день ! Скажите пожалуйста если подовал...</td>\n      <td>Дети и многодетные семьи</td>\n    </tr>\n    <tr>\n      <th>3</th>\n      <td>Город Пермь</td>\n      <td>Общественный транспорт</td>\n      <td>'Каждая из них не о чем. Люди на остановках хо...</td>\n      <td>Содержание остановок</td>\n    </tr>\n    <tr>\n      <th>4</th>\n      <td>Министерство здравоохранения</td>\n      <td>Здравоохранение/Медицина</td>\n      <td>'В Березниках у сына привитого откоронавируса ...</td>\n      <td>Технические проблемы с записью на прием к врачу</td>\n    </tr>\n  </tbody>\n</table>\n</div>"
     },
     "execution_count": 8,
     "metadata": {},
     "output_type": "execute_result"
    }
   ],
   "source": [
    "df.head()"
   ],
   "metadata": {
    "collapsed": false,
    "ExecuteTime": {
     "end_time": "2023-11-25T06:45:17.204533900Z",
     "start_time": "2023-11-25T06:45:17.159352700Z"
    }
   },
   "id": "87e1a5b54d4c5443"
  },
  {
   "cell_type": "code",
   "execution_count": 9,
   "outputs": [],
   "source": [
    "df.drop(columns=['Исполнитель'], inplace=True)"
   ],
   "metadata": {
    "collapsed": false,
    "ExecuteTime": {
     "end_time": "2023-11-25T06:45:18.001145600Z",
     "start_time": "2023-11-25T06:45:17.986693800Z"
    }
   },
   "id": "d1c33deb7d54d2e5"
  },
  {
   "cell_type": "code",
   "execution_count": 10,
   "outputs": [],
   "source": [
    "import re\n",
    "import numpy as np\n",
    "from nltk.corpus import stopwords\n",
    "from tqdm.notebook import tqdm\n",
    "from multiprocessing import Pool\n",
    "# from pymystem3 import Mystem"
   ],
   "metadata": {
    "collapsed": false,
    "ExecuteTime": {
     "end_time": "2023-11-25T06:45:19.165117400Z",
     "start_time": "2023-11-25T06:45:18.524940200Z"
    }
   },
   "id": "f9f7df9bfb13e9d9"
  },
  {
   "cell_type": "code",
   "execution_count": 11,
   "outputs": [
    {
     "name": "stderr",
     "output_type": "stream",
     "text": [
      "[nltk_data] Downloading package stopwords to\n",
      "[nltk_data]     C:\\Users\\k142\\AppData\\Roaming\\nltk_data...\n",
      "[nltk_data]   Package stopwords is already up-to-date!\n"
     ]
    },
    {
     "data": {
      "text/plain": "True"
     },
     "execution_count": 11,
     "metadata": {},
     "output_type": "execute_result"
    }
   ],
   "source": [
    "import nltk\n",
    "nltk.download('stopwords')"
   ],
   "metadata": {
    "collapsed": false,
    "ExecuteTime": {
     "end_time": "2023-11-25T06:45:20.367599900Z",
     "start_time": "2023-11-25T06:45:19.964354200Z"
    }
   },
   "id": "db466fccda72e0f3"
  },
  {
   "cell_type": "code",
   "execution_count": 12,
   "outputs": [],
   "source": [
    "import pymorphy2\n",
    "morph = pymorphy2.MorphAnalyzer()"
   ],
   "metadata": {
    "collapsed": false,
    "ExecuteTime": {
     "end_time": "2023-11-25T06:45:20.874535Z",
     "start_time": "2023-11-25T06:45:20.698311900Z"
    }
   },
   "id": "1df17adf5f4da1ae"
  },
  {
   "cell_type": "code",
   "execution_count": null,
   "outputs": [],
   "source": [],
   "metadata": {
    "collapsed": false
   },
   "id": "2a3c7e44e8febf22"
  }
 ],
 "metadata": {
  "kernelspec": {
   "display_name": "Python 3",
   "language": "python",
   "name": "python3"
  },
  "language_info": {
   "codemirror_mode": {
    "name": "ipython",
    "version": 2
   },
   "file_extension": ".py",
   "mimetype": "text/x-python",
   "name": "python",
   "nbconvert_exporter": "python",
   "pygments_lexer": "ipython2",
   "version": "2.7.6"
  }
 },
 "nbformat": 4,
 "nbformat_minor": 5
}
