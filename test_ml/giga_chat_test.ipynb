{
 "cells": [
  {
   "cell_type": "code",
   "execution_count": 8,
   "outputs": [],
   "source": [
    "from dotenv import load_dotenv\n",
    "import os"
   ],
   "metadata": {
    "collapsed": false,
    "ExecuteTime": {
     "end_time": "2023-11-20T16:28:23.965116400Z",
     "start_time": "2023-11-20T16:28:23.947444300Z"
    }
   },
   "id": "fad8b8b2fbc68792"
  },
  {
   "cell_type": "code",
   "execution_count": 3,
   "outputs": [],
   "source": [
    "from gigachat import GigaChat"
   ],
   "metadata": {
    "collapsed": false,
    "ExecuteTime": {
     "end_time": "2023-11-20T16:23:46.411881100Z",
     "start_time": "2023-11-20T16:23:46.401465800Z"
    }
   },
   "id": "fdde598a0870ece2"
  },
  {
   "cell_type": "code",
   "execution_count": 7,
   "outputs": [
    {
     "data": {
      "text/plain": "True"
     },
     "execution_count": 7,
     "metadata": {},
     "output_type": "execute_result"
    }
   ],
   "source": [
    "load_dotenv()"
   ],
   "metadata": {
    "collapsed": false,
    "ExecuteTime": {
     "end_time": "2023-11-20T16:27:30.507780700Z",
     "start_time": "2023-11-20T16:27:30.500237900Z"
    }
   },
   "id": "8622e4f91fa1d933"
  },
  {
   "cell_type": "code",
   "execution_count": 9,
   "outputs": [],
   "source": [
    "credentials = os.environ.get('CREDENTIALS')"
   ],
   "metadata": {
    "collapsed": false,
    "ExecuteTime": {
     "end_time": "2023-11-20T16:28:56.727673700Z",
     "start_time": "2023-11-20T16:28:56.723088500Z"
    }
   },
   "id": "bf8cb6d8ef85e56f"
  },
  {
   "cell_type": "code",
   "execution_count": 10,
   "outputs": [
    {
     "name": "stdout",
     "output_type": "stream",
     "text": [
      "Стоимость страховки на дом зависит от нескольких факторов, включая тип и размер дома, его местоположение, возраст и состояние здания, наличие систем безопасности и уровень риска возникновения страхового случая. Также могут влиять на стоимость страховки факторы, такие как количество жильцов, наличие домашних животных и другие риски, связанные с окружающей средой (например, наводнения или землетрясения). В целом, чем выше риск возникновения страхового случая, тем выше будет стоимость страховки.\n"
     ]
    }
   ],
   "source": [
    "with GigaChat(credentials=credentials, verify_ssl_certs=False) as giga:\n",
    "    response = giga.chat(\"Какие факторы влияют на стоимость страховки на дом?\")\n",
    "    print(response.choices[0].message.content)"
   ],
   "metadata": {
    "collapsed": false,
    "ExecuteTime": {
     "end_time": "2023-11-20T16:29:07.574652600Z",
     "start_time": "2023-11-20T16:29:05.710302100Z"
    }
   },
   "id": "4d0d7578d3759d4e"
  },
  {
   "cell_type": "code",
   "execution_count": 11,
   "outputs": [],
   "source": [
    "def build_promt(claim):\n",
    "    start = 'Извлеки именованные сущности из текста: '\n",
    "    return start + claim "
   ],
   "metadata": {
    "collapsed": false,
    "ExecuteTime": {
     "end_time": "2023-11-20T16:33:41.598434900Z",
     "start_time": "2023-11-20T16:33:41.578939900Z"
    }
   },
   "id": "893ed57939653ec1"
  },
  {
   "cell_type": "code",
   "execution_count": 12,
   "outputs": [],
   "source": [
    "text4 = 'Директору ГБОУ «Школа № 1527» Кадыковой Елене Владимировне KadykovaEV@edu.mos.ru , 1527@edu.mos.ru Адрес: 115470, г.Москва, пр-кт Андропова, дом 17, корпус 5. Копия: в Южное окружное управление департамента образования города Москвы Адрес: г.Москва, Высокая улица, 14.        от Родителей учеников 6 «В» класса,) указанных ниже в подписях КОЛЛЕКТИВНАЯ ЖАЛОБА Уважаемая Елена Владимировна! С «19» октября 2020 года, с началом введения дистанционного обучения в системе МЭШ для 6-11 классов в связи с эпидемией COVID-19, наши дети, ученики 6 &quot;В&quot; класса не могут ежедневно подключиться к одному или нескольким урокам.'"
   ],
   "metadata": {
    "collapsed": false,
    "ExecuteTime": {
     "end_time": "2023-11-20T16:34:36.190490500Z",
     "start_time": "2023-11-20T16:34:36.174954500Z"
    }
   },
   "id": "5f788014ea11994e"
  },
  {
   "cell_type": "code",
   "execution_count": 13,
   "outputs": [
    {
     "name": "stdout",
     "output_type": "stream",
     "text": [
      "Именованные сущности в тексте:\n",
      "— Директор ГБОУ «Школа № 1527» Кадыкова Елена Владимировна\n",
      "— 1527@edu.mos.ru\n",
      "— Адрес: 115470, г.Москва, пр-кт Андропова, дом 17, корпус 5\n",
      "— Южное окружное управление департамента образования города Москвы\n",
      "— Высокая улица, 14\n",
      "— Родители учеников 6 «В» класса\n"
     ]
    }
   ],
   "source": [
    "with GigaChat(credentials=credentials, verify_ssl_certs=False) as giga:\n",
    "    response = giga.chat(build_promt(text4))\n",
    "    print(response.choices[0].message.content)"
   ],
   "metadata": {
    "collapsed": false,
    "ExecuteTime": {
     "end_time": "2023-11-20T16:34:48.237743500Z",
     "start_time": "2023-11-20T16:34:46.259284Z"
    }
   },
   "id": "b5118de388faba16"
  },
  {
   "cell_type": "code",
   "execution_count": null,
   "outputs": [],
   "source": [],
   "metadata": {
    "collapsed": false
   },
   "id": "d189de378c588b56"
  }
 ],
 "metadata": {
  "kernelspec": {
   "display_name": "Python 3",
   "language": "python",
   "name": "python3"
  },
  "language_info": {
   "codemirror_mode": {
    "name": "ipython",
    "version": 2
   },
   "file_extension": ".py",
   "mimetype": "text/x-python",
   "name": "python",
   "nbconvert_exporter": "python",
   "pygments_lexer": "ipython2",
   "version": "2.7.6"
  }
 },
 "nbformat": 4,
 "nbformat_minor": 5
}
