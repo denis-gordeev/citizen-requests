{
 "cells": [
  {
   "cell_type": "code",
   "execution_count": null,
   "id": "2ca18924-5808-4210-89c8-20a9793ed903",
   "metadata": {},
   "outputs": [],
   "source": [
    "# !pip install setfit"
   ]
  },
  {
   "cell_type": "code",
   "execution_count": 2,
   "id": "418aab83-bd47-423b-adc7-e865bdce4ec0",
   "metadata": {},
   "outputs": [],
   "source": [
    "import json\n",
    "import pandas as pd\n",
    "from sklearn.model_selection import train_test_split\n",
    "from sklearn.model_selection import StratifiedShuffleSplit"
   ]
  },
  {
   "cell_type": "code",
   "execution_count": 3,
   "id": "02b09039-05d6-4d1c-86a8-4f6a9310b405",
   "metadata": {},
   "outputs": [],
   "source": [
    "train = pd.read_csv(\"prime99_train.csv\")\n",
    "train.reset_index(drop=True, inplace=True)\n",
    "\n",
    "train_col = \"Исполнитель\"\n",
    "# train_col = \"Группа тем\"\n",
    "# train_col = \"Тема\"\n",
    "\n",
    "theme_groups = train[train_col].unique()\n",
    "theme_groups_dict = {k: ki for ki, k in enumerate(sorted(theme_groups))}\n",
    "reverse_groups = {v:k for k, v in theme_groups_dict.items()}\n",
    "\n",
    "k = StratifiedShuffleSplit(test_size=0.1, random_state=42, n_splits=1)\n",
    "train_index, val_index = list(k.split(train, train[\"Тема\"]))[0]\n",
    "val = train.loc[val_index]\n",
    "train = train.loc[train_index]\n",
    "# train, val = train_test_split(train, random_state=42, test_size=0.1)\n",
    "test = pd.read_csv(\"prime99_test.csv\")\n",
    "\n",
    "with open(f\"setfit_classes_{train_col}.json\", \"w\") as f:\n",
    "    json.dump(theme_groups_dict, f)"
   ]
  },
  {
   "cell_type": "code",
   "execution_count": 4,
   "id": "b4e4104d-e415-46e9-89cd-e9ab5f1edc34",
   "metadata": {},
   "outputs": [
    {
     "name": "stdout",
     "output_type": "stream",
     "text": [
      "Fri Nov 24 22:21:53 2023       \n",
      "+---------------------------------------------------------------------------------------+\n",
      "| NVIDIA-SMI 530.41.03              Driver Version: 530.41.03    CUDA Version: 12.1     |\n",
      "|-----------------------------------------+----------------------+----------------------+\n",
      "| GPU  Name                  Persistence-M| Bus-Id        Disp.A | Volatile Uncorr. ECC |\n",
      "| Fan  Temp  Perf            Pwr:Usage/Cap|         Memory-Usage | GPU-Util  Compute M. |\n",
      "|                                         |                      |               MIG M. |\n",
      "|=========================================+======================+======================|\n",
      "|   0  Tesla P100-SXM2-16GB            On | 00000000:AF:00.0 Off |                    0 |\n",
      "| N/A   61C    P0               51W / 300W|   4948MiB / 16384MiB |      0%      Default |\n",
      "|                                         |                      |                  N/A |\n",
      "+-----------------------------------------+----------------------+----------------------+\n",
      "                                                                                         \n",
      "+---------------------------------------------------------------------------------------+\n",
      "| Processes:                                                                            |\n",
      "|  GPU   GI   CI        PID   Type   Process name                            GPU Memory |\n",
      "|        ID   ID                                                             Usage      |\n",
      "|=======================================================================================|\n",
      "+---------------------------------------------------------------------------------------+\n"
     ]
    }
   ],
   "source": [
    "!nvidia-smi"
   ]
  },
  {
   "cell_type": "code",
   "execution_count": 5,
   "id": "aa773920-ee48-4c96-82b3-5b88b0a1d067",
   "metadata": {},
   "outputs": [
    {
     "data": {
      "text/html": [
       "<div>\n",
       "<style scoped>\n",
       "    .dataframe tbody tr th:only-of-type {\n",
       "        vertical-align: middle;\n",
       "    }\n",
       "\n",
       "    .dataframe tbody tr th {\n",
       "        vertical-align: top;\n",
       "    }\n",
       "\n",
       "    .dataframe thead th {\n",
       "        text-align: right;\n",
       "    }\n",
       "</style>\n",
       "<table border=\"1\" class=\"dataframe\">\n",
       "  <thead>\n",
       "    <tr style=\"text-align: right;\">\n",
       "      <th></th>\n",
       "      <th>Unnamed: 0</th>\n",
       "      <th>Исполнитель</th>\n",
       "      <th>Группа тем</th>\n",
       "      <th>Текст инцидента</th>\n",
       "      <th>Тема</th>\n",
       "    </tr>\n",
       "  </thead>\n",
       "  <tbody>\n",
       "    <tr>\n",
       "      <th>3401</th>\n",
       "      <td>11589</td>\n",
       "      <td>Министерство здравоохранения</td>\n",
       "      <td>Здравоохранение/Медицина</td>\n",
       "      <td>'Запись к врачу открывается каждый день в 21.0...</td>\n",
       "      <td>Технические проблемы с записью на прием к врачу</td>\n",
       "    </tr>\n",
       "    <tr>\n",
       "      <th>4466</th>\n",
       "      <td>17754</td>\n",
       "      <td>Министерство здравоохранения</td>\n",
       "      <td>Здравоохранение/Медицина</td>\n",
       "      <td>'[id590307429|Городская-Больница], тема кардио...</td>\n",
       "      <td>Диспансеризация</td>\n",
       "    </tr>\n",
       "    <tr>\n",
       "      <th>10695</th>\n",
       "      <td>22323</td>\n",
       "      <td>Город Пермь</td>\n",
       "      <td>ЖКХ</td>\n",
       "      <td>'Аналогичный вопрос. В месяц до 10 раз отключа...</td>\n",
       "      <td>Ненадлежащее качество или отсутствие отопления</td>\n",
       "    </tr>\n",
       "    <tr>\n",
       "      <th>16072</th>\n",
       "      <td>17594</td>\n",
       "      <td>Лысьвенский городской округ</td>\n",
       "      <td>Общественный транспорт</td>\n",
       "      <td>'Здравствуйте, я по поводу расписания маршруто...</td>\n",
       "      <td>График движения общественного транспорта</td>\n",
       "    </tr>\n",
       "    <tr>\n",
       "      <th>1232</th>\n",
       "      <td>8088</td>\n",
       "      <td>Министерство социального развития ПК</td>\n",
       "      <td>Социальное обслуживание и защита</td>\n",
       "      <td>'#ПособияИВыплаты@mothers_of_perm&lt;br&gt;Уважаемые...</td>\n",
       "      <td>Оказание гос. соц. помощи</td>\n",
       "    </tr>\n",
       "    <tr>\n",
       "      <th>...</th>\n",
       "      <td>...</td>\n",
       "      <td>...</td>\n",
       "      <td>...</td>\n",
       "      <td>...</td>\n",
       "      <td>...</td>\n",
       "    </tr>\n",
       "    <tr>\n",
       "      <th>89</th>\n",
       "      <td>10515</td>\n",
       "      <td>ИГЖН ПК</td>\n",
       "      <td>ЖКХ</td>\n",
       "      <td>'Пермь, Уссурийская улица, 19А&lt;br&gt;кошмарное со...</td>\n",
       "      <td>Ремонт подъездов</td>\n",
       "    </tr>\n",
       "    <tr>\n",
       "      <th>15111</th>\n",
       "      <td>21743</td>\n",
       "      <td>Бардымский муниципальный округ Пермского края</td>\n",
       "      <td>Спецпроекты</td>\n",
       "      <td>'Добрый день!&lt;br&gt;У нас вышел материал о выплат...</td>\n",
       "      <td>Спецпроекты</td>\n",
       "    </tr>\n",
       "    <tr>\n",
       "      <th>1630</th>\n",
       "      <td>18917</td>\n",
       "      <td>Александровский муниципальный округ Пермского ...</td>\n",
       "      <td>Связь и телевидение</td>\n",
       "      <td>'Добрый день. В Яйве где место сбора? https://...</td>\n",
       "      <td>★ Информационно-техническая поддержка</td>\n",
       "    </tr>\n",
       "    <tr>\n",
       "      <th>14913</th>\n",
       "      <td>783</td>\n",
       "      <td>Министерство социального развития ПК</td>\n",
       "      <td>Социальное обслуживание и защита</td>\n",
       "      <td>'Здравствуйте, хочу оформить выплату с 3 до 7,...</td>\n",
       "      <td>Оказание гос. соц. помощи</td>\n",
       "    </tr>\n",
       "    <tr>\n",
       "      <th>3482</th>\n",
       "      <td>12630</td>\n",
       "      <td>Бардымский муниципальный округ Пермского края</td>\n",
       "      <td>Благоустройство</td>\n",
       "      <td>'Добрый вечер, скажите пожалуйста на улице Кру...</td>\n",
       "      <td>★ Неисправные фонари освещения</td>\n",
       "    </tr>\n",
       "  </tbody>\n",
       "</table>\n",
       "<p>18733 rows × 5 columns</p>\n",
       "</div>"
      ],
      "text/plain": [
       "       Unnamed: 0                                        Исполнитель  \\\n",
       "3401        11589                       Министерство здравоохранения   \n",
       "4466        17754                       Министерство здравоохранения   \n",
       "10695       22323                                        Город Пермь   \n",
       "16072       17594                        Лысьвенский городской округ   \n",
       "1232         8088               Министерство социального развития ПК   \n",
       "...           ...                                                ...   \n",
       "89          10515                                            ИГЖН ПК   \n",
       "15111       21743      Бардымский муниципальный округ Пермского края   \n",
       "1630        18917  Александровский муниципальный округ Пермского ...   \n",
       "14913         783               Министерство социального развития ПК   \n",
       "3482        12630      Бардымский муниципальный округ Пермского края   \n",
       "\n",
       "                             Группа тем  \\\n",
       "3401           Здравоохранение/Медицина   \n",
       "4466           Здравоохранение/Медицина   \n",
       "10695                               ЖКХ   \n",
       "16072            Общественный транспорт   \n",
       "1232   Социальное обслуживание и защита   \n",
       "...                                 ...   \n",
       "89                                  ЖКХ   \n",
       "15111                       Спецпроекты   \n",
       "1630                Связь и телевидение   \n",
       "14913  Социальное обслуживание и защита   \n",
       "3482                    Благоустройство   \n",
       "\n",
       "                                         Текст инцидента  \\\n",
       "3401   'Запись к врачу открывается каждый день в 21.0...   \n",
       "4466   '[id590307429|Городская-Больница], тема кардио...   \n",
       "10695  'Аналогичный вопрос. В месяц до 10 раз отключа...   \n",
       "16072  'Здравствуйте, я по поводу расписания маршруто...   \n",
       "1232   '#ПособияИВыплаты@mothers_of_perm<br>Уважаемые...   \n",
       "...                                                  ...   \n",
       "89     'Пермь, Уссурийская улица, 19А<br>кошмарное со...   \n",
       "15111  'Добрый день!<br>У нас вышел материал о выплат...   \n",
       "1630   'Добрый день. В Яйве где место сбора? https://...   \n",
       "14913  'Здравствуйте, хочу оформить выплату с 3 до 7,...   \n",
       "3482   'Добрый вечер, скажите пожалуйста на улице Кру...   \n",
       "\n",
       "                                                  Тема  \n",
       "3401   Технические проблемы с записью на прием к врачу  \n",
       "4466                                   Диспансеризация  \n",
       "10695   Ненадлежащее качество или отсутствие отопления  \n",
       "16072         График движения общественного транспорта  \n",
       "1232                         Оказание гос. соц. помощи  \n",
       "...                                                ...  \n",
       "89                                    Ремонт подъездов  \n",
       "15111                                      Спецпроекты  \n",
       "1630             ★ Информационно-техническая поддержка  \n",
       "14913                        Оказание гос. соц. помощи  \n",
       "3482                    ★ Неисправные фонари освещения  \n",
       "\n",
       "[18733 rows x 5 columns]"
      ]
     },
     "execution_count": 5,
     "metadata": {},
     "output_type": "execute_result"
    }
   ],
   "source": [
    "train"
   ]
  },
  {
   "cell_type": "code",
   "execution_count": 6,
   "id": "0d32e3d4-d10f-4839-9721-42f9a3a8777a",
   "metadata": {},
   "outputs": [],
   "source": [
    "from datasets import Dataset\n",
    "\n",
    "train_dataset = Dataset.from_dict(\n",
    "    {\n",
    "    \"text\": list(train[\"Текст инцидента\"].values),\n",
    "    \"label\": list(train[train_col].apply(lambda x: theme_groups_dict[x]).values)\n",
    "}\n",
    ")\n",
    "eval_dataset = Dataset.from_dict(\n",
    "    {\n",
    "    \"text\": list(val[\"Текст инцидента\"].values),\n",
    "    \"label\": list(val[train_col].apply(lambda x: theme_groups_dict[x]).values)\n",
    "}\n",
    ")"
   ]
  },
  {
   "cell_type": "code",
   "execution_count": null,
   "id": "519d4cbf-52e8-4184-a1b5-735eb34864a9",
   "metadata": {},
   "outputs": [
    {
     "name": "stderr",
     "output_type": "stream",
     "text": [
      "2023-11-24 22:21:56.261838: E external/local_xla/xla/stream_executor/cuda/cuda_dnn.cc:9261] Unable to register cuDNN factory: Attempting to register factory for plugin cuDNN when one has already been registered\n",
      "2023-11-24 22:21:56.261889: E external/local_xla/xla/stream_executor/cuda/cuda_fft.cc:607] Unable to register cuFFT factory: Attempting to register factory for plugin cuFFT when one has already been registered\n",
      "2023-11-24 22:21:56.263009: E external/local_xla/xla/stream_executor/cuda/cuda_blas.cc:1515] Unable to register cuBLAS factory: Attempting to register factory for plugin cuBLAS when one has already been registered\n",
      "2023-11-24 22:21:56.269716: I tensorflow/core/platform/cpu_feature_guard.cc:182] This TensorFlow binary is optimized to use available CPU instructions in performance-critical operations.\n",
      "To enable the following instructions: AVX2 AVX512F FMA, in other operations, rebuild TensorFlow with the appropriate compiler flags.\n",
      "2023-11-24 22:21:57.211413: W tensorflow/compiler/tf2tensorrt/utils/py_utils.cc:38] TF-TRT Warning: Could not find TensorRT\n",
      "model_head.pkl not found on HuggingFace Hub, initialising classification head with random weights. You should TRAIN this model on a downstream task to use it for predictions and inference.\n"
     ]
    },
    {
     "data": {
      "application/vnd.jupyter.widget-view+json": {
       "model_id": "c98fa7bf294c470b88a98629e9e1cb81",
       "version_major": 2,
       "version_minor": 0
      },
      "text/plain": [
       "Generating Training Pairs:   0%|          | 0/10 [00:00<?, ?it/s]"
      ]
     },
     "metadata": {},
     "output_type": "display_data"
    },
    {
     "name": "stderr",
     "output_type": "stream",
     "text": [
      "***** Running training *****\n",
      "  Num examples = 374660\n",
      "  Num epochs = 1\n",
      "  Total optimization steps = 31222\n",
      "  Total train batch size = 12\n"
     ]
    },
    {
     "data": {
      "application/vnd.jupyter.widget-view+json": {
       "model_id": "0d793f849871408dad82457772e1ee6d",
       "version_major": 2,
       "version_minor": 0
      },
      "text/plain": [
       "Epoch:   0%|          | 0/1 [00:00<?, ?it/s]"
      ]
     },
     "metadata": {},
     "output_type": "display_data"
    },
    {
     "data": {
      "application/vnd.jupyter.widget-view+json": {
       "model_id": "1f74009e52b7449e9d5cf0582daed769",
       "version_major": 2,
       "version_minor": 0
      },
      "text/plain": [
       "Iteration:   0%|          | 0/31222 [00:00<?, ?it/s]"
      ]
     },
     "metadata": {},
     "output_type": "display_data"
    }
   ],
   "source": [
    "from datasets import Dataset, load_dataset\n",
    "from sentence_transformers.losses import CosineSimilarityLoss\n",
    "\n",
    "from setfit import SetFitModel, SetFitTrainer, sample_dataset\n",
    "\n",
    "model = SetFitModel.from_pretrained(\n",
    "    #\"cointegrated/rubert-tiny2\",\n",
    "    \"cointegrated/LaBSE-en-ru\",\n",
    "    use_differentiable_head=True,\n",
    "    #multi_target_strategy=\"multi-output\",\n",
    "    head_params={\"out_features\": len(theme_groups)},\n",
    ")\n",
    "\n",
    "# Create trainer\n",
    "trainer = SetFitTrainer(\n",
    "    model=model,\n",
    "    train_dataset=train_dataset,\n",
    "    eval_dataset=eval_dataset,\n",
    "    loss_class=CosineSimilarityLoss,\n",
    "    metric=\"f1\",\n",
    "    batch_size=12,\n",
    "    num_iterations=10, # The number of text pairs to generate for contrastive learning\n",
    "    num_epochs=1, # The number of epochs to use for contrastive learning\n",
    "    # column_mapping={\"text\": \"text\", \"label\": \"label\"} # Map dataset columns to text/label expected by trainer\n",
    ")\n",
    "\n",
    "# Train and evaluate\n",
    "trainer.freeze() # Freeze the head\n",
    "trainer.train() # Train only the body\n",
    "\n",
    "# Unfreeze the head and freeze the body -> head-only training\n",
    "trainer.unfreeze(keep_body_frozen=True)\n",
    "# or\n",
    "# Unfreeze the head and unfreeze the body -> end-to-end training\n",
    "\n",
    "trainer.train(\n",
    "    num_epochs=25, # The number of epochs to train the head or the whole model (body and head)\n",
    "    batch_size=4,\n",
    "    body_learning_rate=1e-5, # The body's learning rate\n",
    "    learning_rate=1e-2, # The head's learning rate\n",
    "    l2_weight=0.0, # Weight decay on **both** the body and head. If `None`, will use 0.01.\n",
    ")\n",
    "metrics = trainer.evaluate()\n",
    "\n",
    "# Run inference\n",
    "preds = model([\"i loved the spiderman movie!\", \"pineapple on pizza is the worst 🤮\"])"
   ]
  },
  {
   "cell_type": "code",
   "execution_count": null,
   "id": "1f572a22-5613-421f-bd99-d8360a390d3f",
   "metadata": {},
   "outputs": [],
   "source": [
    "ls"
   ]
  },
  {
   "cell_type": "code",
   "execution_count": null,
   "id": "524526e1-3143-4424-9edc-cf87dda59b67",
   "metadata": {},
   "outputs": [],
   "source": [
    "preds = model(list(test[\"Текст инцидента\"].values))\n",
    "preds = list(preds.cpu().numpy())\n",
    "pred_tags = [reverse_groups[t] for t in preds]"
   ]
  },
  {
   "cell_type": "code",
   "execution_count": null,
   "id": "ca87a759-bd7d-458f-9a35-a9bfdcd49d0b",
   "metadata": {},
   "outputs": [],
   "source": [
    "from sklearn.metrics import f1_score\n",
    "f1_score(list(test[train_col].values), pred_tags, average=\"weighted\")"
   ]
  },
  {
   "cell_type": "code",
   "execution_count": null,
   "id": "5f2b4a89-a67c-43db-a3d2-eb5b91e42919",
   "metadata": {},
   "outputs": [],
   "source": [
    "from sklearn.metrics import classification_report"
   ]
  },
  {
   "cell_type": "code",
   "execution_count": null,
   "id": "78b91950-519a-4080-89d4-0284a7f7fa5b",
   "metadata": {},
   "outputs": [],
   "source": [
    "report = classification_report(list(test[train_col].values), pred_tags, output_dict=True)"
   ]
  },
  {
   "cell_type": "code",
   "execution_count": null,
   "id": "7b20d614-714d-45da-8fc3-9f20fbcde074",
   "metadata": {},
   "outputs": [],
   "source": [
    "report"
   ]
  },
  {
   "cell_type": "code",
   "execution_count": null,
   "id": "5c8f0f17-329d-49f5-bf00-16865ec26aa7",
   "metadata": {},
   "outputs": [],
   "source": [
    "with open(f\"classification_report_{train_col}.json\", \"w\") as f:\n",
    "    json.dump(report, f)"
   ]
  },
  {
   "cell_type": "code",
   "execution_count": null,
   "id": "d04d1b8d-696c-4f11-82fc-b95676b7e568",
   "metadata": {},
   "outputs": [],
   "source": [
    "# import huggingface_hub\n",
    "# huggingface_hub.login()"
   ]
  },
  {
   "cell_type": "code",
   "execution_count": null,
   "id": "762d355c-a814-4fd5-8fbe-2c7e9d24c064",
   "metadata": {},
   "outputs": [],
   "source": [
    "# import huggingface_hub\n",
    "# huggingface_hub.login()\n",
    "trainer.push_to_hub(\"denis-gordeev/citizen-request-theme-labse\")\n",
    "# trainer.push_to_hub(\"denis-gordeev/citizen-request-performer\")"
   ]
  },
  {
   "cell_type": "code",
   "execution_count": null,
   "id": "81cd78a7-1f5c-459f-af67-2e2c77addb0f",
   "metadata": {},
   "outputs": [],
   "source": [
    "# grouped = train.groupby(\"Тема\")[\"Группа тем\"].apply(set).apply(list)\n",
    "# theme_to_group = dict(zip(*[grouped.index, grouped.values]))\n",
    "\n",
    "# with open(\"theme_to_group.json\", \"w\") as f:\n",
    "#     json.dump(theme_to_group, f)\n",
    "\n",
    "# grouped = train.groupby(\"Группа тем\")[\"Тема\"].apply(set).apply(list)\n",
    "# group_to_themes = dict(zip(*[grouped.index, grouped.values]))\n",
    "\n",
    "# with open(\"group_to_themes.json\", \"w\") as f:\n",
    "#     json.dump(group_to_themes, f)"
   ]
  },
  {
   "cell_type": "code",
   "execution_count": null,
   "id": "fb213665-3f4c-4c67-be14-66be42529bbb",
   "metadata": {},
   "outputs": [],
   "source": [
    "# group_to_themes"
   ]
  },
  {
   "cell_type": "code",
   "execution_count": null,
   "id": "5906c736-4720-4685-a6fe-3ac13d89b89b",
   "metadata": {},
   "outputs": [],
   "source": [
    "import numpy as np"
   ]
  },
  {
   "cell_type": "code",
   "execution_count": null,
   "id": "750773c6-c816-4095-af78-a6466f44a8d4",
   "metadata": {},
   "outputs": [],
   "source": [
    "reverse_groups[np.argmax(trainer.model.predict_proba([\"Медицина\"]).cpu().detach().numpy())]"
   ]
  },
  {
   "cell_type": "code",
   "execution_count": null,
   "id": "9dff8d7f-7ad0-4f42-bcbb-7124362a70f6",
   "metadata": {},
   "outputs": [],
   "source": [
    "# import os\n",
    "# HF_TOKEN = os.environ.get(\"HF_TOKEN\")\n",
    "# model0 = SetFitModel.from_pretrained(\"denis-gordeev/citizen-request-theme-group\", use_auth_token=HF_TOKEN)"
   ]
  },
  {
   "cell_type": "code",
   "execution_count": null,
   "id": "f8fc7be9-6798-4dbe-b1c7-db92220e9b7f",
   "metadata": {},
   "outputs": [],
   "source": [
    "ls"
   ]
  }
 ],
 "metadata": {
  "kernelspec": {
   "display_name": "Python 3 (ipykernel)",
   "language": "python",
   "name": "python3"
  },
  "language_info": {
   "codemirror_mode": {
    "name": "ipython",
    "version": 3
   },
   "file_extension": ".py",
   "mimetype": "text/x-python",
   "name": "python",
   "nbconvert_exporter": "python",
   "pygments_lexer": "ipython3",
   "version": "3.10.13"
  }
 },
 "nbformat": 4,
 "nbformat_minor": 5
}
